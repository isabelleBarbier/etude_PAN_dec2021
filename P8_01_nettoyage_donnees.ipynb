{
 "cells": [
  {
   "cell_type": "markdown",
   "metadata": {
    "slideshow": {
     "slide_type": "-"
    }
   },
   "source": [
    "# Etudes  de phénomènes aérospatiaux non identifiés (PAN) de 1910 à 2014"
   ]
  },
  {
   "cell_type": "markdown",
   "metadata": {},
   "source": [
    "# Introduction\n",
    "Dans le cadre du projet 8 d'OpenClassrooms \"Communiquez vos résultats\", le sujet choisi porte sur l'étude de Phénomènes Aérospaciaux Non identifiés (PAN) de 1910 à 2014.  \n",
    "Le fichier est téléchargé à partir de la plateforme Kaggle https://www.kaggle.com/camnugent/ufo-sightings-around-the-world. Ce fichier se nomme ufo_sighting_data.  \n",
    "\n",
    "L'étude générale concernera les PAN dans le monde\n",
    "leur spécificité\n",
    "leur nombre\n",
    "leur temporalité\n",
    "leur localisation  \n",
    "\n",
    "Puis nous étudierons plus spécifiquement les PAN aux USA, au Canada et au Royaume-Uni.  \n",
    "\n",
    "Le nombre d'habitant sera intégré à l'étude via des données trouvées sur internet.  \n",
    "Enfin, l'impact de la météo sur les PAN sera considéré (données récupérées sur kaggle https://www.kaggle.com/dwarika/ufo-datasets-the-truth-is-out-there)  \n",
    "\n",
    "Des modélisations seront également réalisées.\n",
    "\n",
    "\n",
    "Pour une meilleure visibilité, six notebooks seront utilisés:\n",
    "- notebook P8_01_nettoyage_données\n",
    "- notebook P8_01_EDA_monde_entier\n",
    "- notebook P8_01_EDA_usa_uk_canada\n",
    "- notebook P8_01_EDA_population\n",
    "- notebook P8_01_EDA_meteo\n",
    "- notebook P8_01_model\n"
   ]
  },
  {
   "cell_type": "markdown",
   "metadata": {
    "toc": true
   },
   "source": [
    "<h1>Table of Contents<span class=\"tocSkip\"></span></h1>\n",
    "<div class=\"toc\"><ul class=\"toc-item\"><li><span><a href=\"#Importation-et-exploration-des-données\" data-toc-modified-id=\"Importation-et-exploration-des-données-1\"><span class=\"toc-item-num\">1&nbsp;&nbsp;</span><strong>Importation</strong> et <strong>exploration</strong> des données</a></span><ul class=\"toc-item\"><li><span><a href=\"#Importation-et-découverte-du-fichier\" data-toc-modified-id=\"Importation-et-découverte-du-fichier-1.1\"><span class=\"toc-item-num\">1.1&nbsp;&nbsp;</span><strong>Importation</strong> et <strong>découverte</strong> du fichier</a></span></li><li><span><a href=\"#Changement-de-type-des-variables\" data-toc-modified-id=\"Changement-de-type-des-variables-1.2\"><span class=\"toc-item-num\">1.2&nbsp;&nbsp;</span><strong>Changement</strong> de <strong>type</strong> des variables</a></span></li><li><span><a href=\"#Recherche-et-traitement-des-valeurs-manquantes\" data-toc-modified-id=\"Recherche-et-traitement-des-valeurs-manquantes-1.3\"><span class=\"toc-item-num\">1.3&nbsp;&nbsp;</span>Recherche et traitement des <strong>valeurs manquantes</strong></a></span><ul class=\"toc-item\"><li><span><a href=\"#Variable-&quot;length_of_encounter_seconds&quot;\" data-toc-modified-id=\"Variable-&quot;length_of_encounter_seconds&quot;-1.3.1\"><span class=\"toc-item-num\">1.3.1&nbsp;&nbsp;</span>Variable \"length_of_encounter_seconds\"</a></span></li><li><span><a href=\"#Variable-&quot;country&quot;-par-la-variable-&quot;state/province&quot;\" data-toc-modified-id=\"Variable-&quot;country&quot;-par-la-variable-&quot;state/province&quot;-1.3.2\"><span class=\"toc-item-num\">1.3.2&nbsp;&nbsp;</span>Variable \"country\" par la variable \"state/province\"</a></span></li><li><span><a href=\"#Variable-&quot;state/province&quot;--par-la-variable-&quot;city&quot;\" data-toc-modified-id=\"Variable-&quot;state/province&quot;--par-la-variable-&quot;city&quot;-1.3.3\"><span class=\"toc-item-num\">1.3.3&nbsp;&nbsp;</span>Variable \"state/province\"  par la variable \"city\"</a></span></li><li><span><a href=\"#Variable-&quot;latitude&quot;\" data-toc-modified-id=\"Variable-&quot;latitude&quot;-1.3.4\"><span class=\"toc-item-num\">1.3.4&nbsp;&nbsp;</span>Variable \"latitude\"</a></span></li><li><span><a href=\"#Implémentation-des-provinces-de-l'Angleterre\" data-toc-modified-id=\"Implémentation-des-provinces-de-l'Angleterre-1.3.5\"><span class=\"toc-item-num\">1.3.5&nbsp;&nbsp;</span>Implémentation des provinces de l'Angleterre</a></span></li></ul></li><li><span><a href=\"#Mise-en-forme-des-données\" data-toc-modified-id=\"Mise-en-forme-des-données-1.4\"><span class=\"toc-item-num\">1.4&nbsp;&nbsp;</span><strong>Mise en forme</strong> des données</a></span></li><li><span><a href=\"#Implémentation-d'une-variable-&quot;state&quot;--pour-les-3-pays-étudiés\" data-toc-modified-id=\"Implémentation-d'une-variable-&quot;state&quot;--pour-les-3-pays-étudiés-1.5\"><span class=\"toc-item-num\">1.5&nbsp;&nbsp;</span><strong>Implémentation</strong> d'une variable \"<strong>state</strong>\"  pour les 3 pays étudiés</a></span><ul class=\"toc-item\"><li><span><a href=\"#Angleterre\" data-toc-modified-id=\"Angleterre-1.5.1\"><span class=\"toc-item-num\">1.5.1&nbsp;&nbsp;</span><strong>Angleterre</strong></a></span></li><li><span><a href=\"#USA\" data-toc-modified-id=\"USA-1.5.2\"><span class=\"toc-item-num\">1.5.2&nbsp;&nbsp;</span><strong>USA</strong></a></span></li><li><span><a href=\"#Canada\" data-toc-modified-id=\"Canada-1.5.3\"><span class=\"toc-item-num\">1.5.3&nbsp;&nbsp;</span><strong>Canada</strong></a></span></li><li><span><a href=\"#Implémentation-des-&quot;state&quot;-dans-le-dataset-principal\" data-toc-modified-id=\"Implémentation-des-&quot;state&quot;-dans-le-dataset-principal-1.5.4\"><span class=\"toc-item-num\">1.5.4&nbsp;&nbsp;</span>Implémentation des \"state\" dans le dataset principal</a></span></li></ul></li><li><span><a href=\"#Importation-de-datasets-complémentaires\" data-toc-modified-id=\"Importation-de-datasets-complémentaires-1.6\"><span class=\"toc-item-num\">1.6&nbsp;&nbsp;</span>Importation de <strong>datasets complémentaires</strong></a></span><ul class=\"toc-item\"><li><span><a href=\"#Import-de-données-relatives-à-la-population\" data-toc-modified-id=\"Import-de-données-relatives-à-la-population-1.6.1\"><span class=\"toc-item-num\">1.6.1&nbsp;&nbsp;</span>Import de données relatives à la <strong>population</strong></a></span><ul class=\"toc-item\"><li><span><a href=\"#Angleterre-:-population-de-2019-par-région\" data-toc-modified-id=\"Angleterre-:-population-de-2019-par-région-1.6.1.1\"><span class=\"toc-item-num\">1.6.1.1&nbsp;&nbsp;</span><strong>Angleterre</strong> : population de 2019 par région</a></span></li><li><span><a href=\"#USA-:-population-de-2020-par-état\" data-toc-modified-id=\"USA-:-population-de-2020-par-état-1.6.1.2\"><span class=\"toc-item-num\">1.6.1.2&nbsp;&nbsp;</span><strong>USA</strong> : population de 2020 par état</a></span></li><li><span><a href=\"#Canada-:-population-de-2020--par-province\" data-toc-modified-id=\"Canada-:-population-de-2020--par-province-1.6.1.3\"><span class=\"toc-item-num\">1.6.1.3&nbsp;&nbsp;</span><strong>Canada</strong> : population de 2020  par province</a></span></li><li><span><a href=\"#Création-d'un-dataframe-réunissant-la-population-des-USA,-Canada-et-Angleterre\" data-toc-modified-id=\"Création-d'un-dataframe-réunissant-la-population-des-USA,-Canada-et-Angleterre-1.6.1.4\"><span class=\"toc-item-num\">1.6.1.4&nbsp;&nbsp;</span><strong>Création</strong> d'un dataframe réunissant la population des USA, Canada et Angleterre</a></span></li></ul></li><li><span><a href=\"#Import-et-exploration-de-données-météo\" data-toc-modified-id=\"Import-et-exploration-de-données-météo-1.6.2\"><span class=\"toc-item-num\">1.6.2&nbsp;&nbsp;</span>Import et exploration de données <strong>météo</strong></a></span></li></ul></li><li><span><a href=\"#Export-et-renommage-des-fichiers-nettoyés-en-csv\" data-toc-modified-id=\"Export-et-renommage-des-fichiers-nettoyés-en-csv-1.7\"><span class=\"toc-item-num\">1.7&nbsp;&nbsp;</span><strong>Export</strong> et renommage des fichiers nettoyés en <strong>csv</strong></a></span></li></ul></li></ul></div>"
   ]
  },
  {
   "cell_type": "markdown",
   "metadata": {
    "slideshow": {
     "slide_type": "-"
    }
   },
   "source": [
    "## **Importation** et **exploration** des données"
   ]
  },
  {
   "cell_type": "markdown",
   "metadata": {},
   "source": [
    "Tout d'abord, nous importons les librairies et définissons les fonctions nécessaires à l'exécution du code"
   ]
  },
  {
   "cell_type": "code",
   "execution_count": 1,
   "metadata": {},
   "outputs": [
    {
     "data": {
      "text/html": [
       "        <script type=\"text/javascript\">\n",
       "        window.PlotlyConfig = {MathJaxConfig: 'local'};\n",
       "        if (window.MathJax) {MathJax.Hub.Config({SVG: {font: \"STIX-Web\"}});}\n",
       "        if (typeof require !== 'undefined') {\n",
       "        require.undef(\"plotly\");\n",
       "        requirejs.config({\n",
       "            paths: {\n",
       "                'plotly': ['https://cdn.plot.ly/plotly-latest.min']\n",
       "            }\n",
       "        });\n",
       "        require(['plotly'], function(Plotly) {\n",
       "            window._Plotly = Plotly;\n",
       "        });\n",
       "        }\n",
       "        </script>\n",
       "        "
      ]
     },
     "metadata": {},
     "output_type": "display_data"
    }
   ],
   "source": [
    "# Importation des librairies\n",
    "import pandas as pd\n",
    "import numpy as np\n",
    "import matplotlib.pyplot as plt\n",
    "import seaborn as sns\n",
    "import plotly\n",
    "import plotly.express as px\n",
    "import json\n",
    "from datetime import datetime\n",
    "import re\n",
    "import datetime\n",
    "\n",
    "import plotly.figure_factory as ff\n",
    "import plotly.io as pio\n",
    "import plotly.graph_objects as go\n",
    "from plotly.offline import plot, iplot, init_notebook_mode, download_plotlyjs\n",
    "# jupyter set up\n",
    "init_notebook_mode(connected=True)"
   ]
  },
  {
   "cell_type": "code",
   "execution_count": 2,
   "metadata": {},
   "outputs": [
    {
     "name": "stdout",
     "output_type": "stream",
     "text": [
      "version pandas : 1.1.3\n",
      "version numpy : 1.19.2\n",
      "version plotly : 4.14.3\n"
     ]
    }
   ],
   "source": [
    "#  version de pandas\n",
    "print(f'version pandas : {pd.__version__}')\n",
    "#  version de numpy\n",
    "print(f'version numpy : {np.__version__}')\n",
    "# version de plotly\n",
    "print(f'version plotly : {plotly.__version__}')"
   ]
  },
  {
   "cell_type": "code",
   "execution_count": 3,
   "metadata": {},
   "outputs": [],
   "source": [
    "ENCODAGE = 'UTF-8'"
   ]
  },
  {
   "cell_type": "code",
   "execution_count": 4,
   "metadata": {},
   "outputs": [],
   "source": [
    "TEMPLATE = 'plotly_dark'"
   ]
  },
  {
   "cell_type": "code",
   "execution_count": 5,
   "metadata": {},
   "outputs": [],
   "source": [
    "sns.set(style=\"darkgrid\")"
   ]
  },
  {
   "cell_type": "code",
   "execution_count": 6,
   "metadata": {},
   "outputs": [],
   "source": [
    "def proportion_valeurs_fournies(df):\n",
    "    \"\"\"Retourne un dataset contenant le total des valeurs manquantes et\n",
    "    la proportion de valeurs non manquantes\"\"\"\n",
    "    df_val_manquantes = pd.DataFrame(df.isnull().sum(axis=0),\n",
    "                                     columns=['total_val_manquantes'])\\\n",
    "        .reset_index()\\\n",
    "        .rename(columns={'index': 'variable'})\n",
    "\n",
    "    df_val_manquantes['prop_val_fournies (%)'] = ((df.shape[0]\n",
    "                                                   - df_val_manquantes['total_val_manquantes'])\n",
    "                                                  / df.shape[0] * 100)\n",
    "\n",
    "    df_val_manquantes.sort_values('total_val_manquantes',\n",
    "                                  ascending=False,\n",
    "                                  axis=0,\n",
    "                                  ignore_index=True,\n",
    "                                  inplace=True)\n",
    "\n",
    "    return df_val_manquantes"
   ]
  },
  {
   "cell_type": "code",
   "execution_count": 7,
   "metadata": {},
   "outputs": [],
   "source": [
    "def implement_nan(missing_value_list, implement_value, ref_value, df):\n",
    "    \"\"\"Implémentation des valeurs manquantes à partir de données de référence.\n",
    "\n",
    "    missing_value_list : liste des valeurs connues de la variable à implémenter\n",
    "    implement_value : nom de la variable à implémenter\n",
    "    ref_value : nom de la variable de référence (qui permet l'implémentation)\n",
    "    df : dataset étudié.\n",
    "    \"\"\"\n",
    "    for value in missing_value_list:\n",
    "        ref_value_list = df.loc[df[implement_value]\n",
    "                                == value, ref_value].unique()\n",
    "\n",
    "        df.loc[(df[implement_value].isnull()) & (\n",
    "            df[ref_value].isin(ref_value_list)), implement_value] = value"
   ]
  },
  {
   "cell_type": "markdown",
   "metadata": {},
   "source": [
    "###  **Importation** et **découverte** du fichier  \n",
    "Source: https://www.kaggle.com/camnugent/ufo-sightings-around-the-world"
   ]
  },
  {
   "cell_type": "code",
   "execution_count": 8,
   "metadata": {
    "scrolled": false
   },
   "outputs": [
    {
     "data": {
      "text/html": [
       "<div>\n",
       "<style scoped>\n",
       "    .dataframe tbody tr th:only-of-type {\n",
       "        vertical-align: middle;\n",
       "    }\n",
       "\n",
       "    .dataframe tbody tr th {\n",
       "        vertical-align: top;\n",
       "    }\n",
       "\n",
       "    .dataframe thead th {\n",
       "        text-align: right;\n",
       "    }\n",
       "</style>\n",
       "<table border=\"1\" class=\"dataframe\">\n",
       "  <thead>\n",
       "    <tr style=\"text-align: right;\">\n",
       "      <th></th>\n",
       "      <th>Date_time</th>\n",
       "      <th>city</th>\n",
       "      <th>state/province</th>\n",
       "      <th>country</th>\n",
       "      <th>UFO_shape</th>\n",
       "      <th>length_of_encounter_seconds</th>\n",
       "      <th>described_duration_of_encounter</th>\n",
       "      <th>description</th>\n",
       "      <th>date_documented</th>\n",
       "      <th>latitude</th>\n",
       "      <th>longitude</th>\n",
       "    </tr>\n",
       "  </thead>\n",
       "  <tbody>\n",
       "    <tr>\n",
       "      <th>0</th>\n",
       "      <td>10/10/1949 20:30</td>\n",
       "      <td>san marcos</td>\n",
       "      <td>tx</td>\n",
       "      <td>us</td>\n",
       "      <td>cylinder</td>\n",
       "      <td>2700</td>\n",
       "      <td>45 minutes</td>\n",
       "      <td>This event took place in early fall around 194...</td>\n",
       "      <td>4/27/2004</td>\n",
       "      <td>29.8830556</td>\n",
       "      <td>-97.9411111</td>\n",
       "    </tr>\n",
       "    <tr>\n",
       "      <th>1</th>\n",
       "      <td>10/10/1949 21:00</td>\n",
       "      <td>lackland afb</td>\n",
       "      <td>tx</td>\n",
       "      <td>NaN</td>\n",
       "      <td>light</td>\n",
       "      <td>7200</td>\n",
       "      <td>1-2 hrs</td>\n",
       "      <td>1949 Lackland AFB&amp;#44 TX.  Lights racing acros...</td>\n",
       "      <td>12/16/2005</td>\n",
       "      <td>29.38421</td>\n",
       "      <td>-98.581082</td>\n",
       "    </tr>\n",
       "  </tbody>\n",
       "</table>\n",
       "</div>"
      ],
      "text/plain": [
       "          Date_time          city state/province country UFO_shape  \\\n",
       "0  10/10/1949 20:30    san marcos             tx      us  cylinder   \n",
       "1  10/10/1949 21:00  lackland afb             tx     NaN     light   \n",
       "\n",
       "  length_of_encounter_seconds described_duration_of_encounter  \\\n",
       "0                        2700                      45 minutes   \n",
       "1                        7200                         1-2 hrs   \n",
       "\n",
       "                                         description date_documented  \\\n",
       "0  This event took place in early fall around 194...       4/27/2004   \n",
       "1  1949 Lackland AFB&#44 TX.  Lights racing acros...      12/16/2005   \n",
       "\n",
       "     latitude    longitude  \n",
       "0  29.8830556  -97.9411111  \n",
       "1    29.38421   -98.581082  "
      ]
     },
     "execution_count": 8,
     "metadata": {},
     "output_type": "execute_result"
    }
   ],
   "source": [
    "ufo = pd.read_csv('ufo_sighting_data.csv', decimal=\",\").copy()\n",
    "ufo.head(2)"
   ]
  },
  {
   "cell_type": "markdown",
   "metadata": {},
   "source": [
    "Dimension du dataset"
   ]
  },
  {
   "cell_type": "code",
   "execution_count": 9,
   "metadata": {
    "scrolled": true
   },
   "outputs": [
    {
     "data": {
      "text/plain": [
       "(80332, 11)"
      ]
     },
     "execution_count": 9,
     "metadata": {},
     "output_type": "execute_result"
    }
   ],
   "source": [
    "ufo.shape"
   ]
  },
  {
   "cell_type": "markdown",
   "metadata": {},
   "source": [
    "Recherche des différentes variables et de leur type"
   ]
  },
  {
   "cell_type": "code",
   "execution_count": 10,
   "metadata": {
    "scrolled": false
   },
   "outputs": [
    {
     "name": "stdout",
     "output_type": "stream",
     "text": [
      "<class 'pandas.core.frame.DataFrame'>\n",
      "RangeIndex: 80332 entries, 0 to 80331\n",
      "Data columns (total 11 columns):\n",
      " #   Column                           Non-Null Count  Dtype \n",
      "---  ------                           --------------  ----- \n",
      " 0   Date_time                        80332 non-null  object\n",
      " 1   city                             80331 non-null  object\n",
      " 2   state/province                   74535 non-null  object\n",
      " 3   country                          70665 non-null  object\n",
      " 4   UFO_shape                        78400 non-null  object\n",
      " 5   length_of_encounter_seconds      80332 non-null  object\n",
      " 6   described_duration_of_encounter  80332 non-null  object\n",
      " 7   description                      80317 non-null  object\n",
      " 8   date_documented                  80332 non-null  object\n",
      " 9   latitude                         80332 non-null  object\n",
      " 10  longitude                        80332 non-null  object\n",
      "dtypes: object(11)\n",
      "memory usage: 6.7+ MB\n"
     ]
    }
   ],
   "source": [
    "ufo.info()"
   ]
  },
  {
   "cell_type": "markdown",
   "metadata": {},
   "source": [
    "Aucune valeur dupliquée"
   ]
  },
  {
   "cell_type": "code",
   "execution_count": 11,
   "metadata": {
    "scrolled": true
   },
   "outputs": [
    {
     "data": {
      "text/plain": [
       "0"
      ]
     },
     "execution_count": 11,
     "metadata": {},
     "output_type": "execute_result"
    }
   ],
   "source": [
    "# Aucune valeur dupliquée\n",
    "ufo.duplicated().sum()"
   ]
  },
  {
   "cell_type": "markdown",
   "metadata": {},
   "source": [
    "Quatre pays semblent être bien représentés : \"us\", \"ca\", \"gb\", \"au\" et \"de\""
   ]
  },
  {
   "cell_type": "code",
   "execution_count": 12,
   "metadata": {},
   "outputs": [
    {
     "data": {
      "text/plain": [
       "us                65114\n",
       "ca                 3000\n",
       "gb                 1906\n",
       "au                  538\n",
       "de                  105\n",
       "United Kingdom        2\n",
       "Name: country, dtype: int64"
      ]
     },
     "execution_count": 12,
     "metadata": {},
     "output_type": "execute_result"
    }
   ],
   "source": [
    "ufo.country.value_counts()"
   ]
  },
  {
   "cell_type": "markdown",
   "metadata": {},
   "source": [
    "Modification du nom de la variable `Date_time` en `date_time`"
   ]
  },
  {
   "cell_type": "code",
   "execution_count": 13,
   "metadata": {},
   "outputs": [],
   "source": [
    "ufo = ufo.rename(columns={\"Date_time\": \"date_time\"})"
   ]
  },
  {
   "cell_type": "markdown",
   "metadata": {},
   "source": [
    "### **Changement** de **type** des variables\n",
    "\n",
    "Toutes les variables sont des objets. On assigne à chaque variable le type qui lui correspond."
   ]
  },
  {
   "cell_type": "markdown",
   "metadata": {},
   "source": [
    "Typage des variables `quantitatives` (en type `float`)"
   ]
  },
  {
   "cell_type": "code",
   "execution_count": 14,
   "metadata": {},
   "outputs": [],
   "source": [
    "var_num = ['length_of_encounter_seconds', 'latitude', 'longitude']\n",
    "\n",
    "for var in var_num:\n",
    "    ufo[var] = pd.to_numeric(ufo[var], errors='coerce')"
   ]
  },
  {
   "cell_type": "code",
   "execution_count": 15,
   "metadata": {},
   "outputs": [
    {
     "data": {
      "text/plain": [
       "date_time                           object\n",
       "city                                object\n",
       "state/province                      object\n",
       "country                             object\n",
       "UFO_shape                           object\n",
       "length_of_encounter_seconds        float64\n",
       "described_duration_of_encounter     object\n",
       "description                         object\n",
       "date_documented                     object\n",
       "latitude                           float64\n",
       "longitude                          float64\n",
       "dtype: object"
      ]
     },
     "execution_count": 15,
     "metadata": {},
     "output_type": "execute_result"
    }
   ],
   "source": [
    "ufo.dtypes"
   ]
  },
  {
   "cell_type": "markdown",
   "metadata": {},
   "source": [
    "Typage des variables `qualitatives` (en type `object`)"
   ]
  },
  {
   "cell_type": "markdown",
   "metadata": {},
   "source": [
    "Typage de la variable `date_time` en `datetime64`"
   ]
  },
  {
   "cell_type": "code",
   "execution_count": 16,
   "metadata": {},
   "outputs": [
    {
     "data": {
      "text/plain": [
       "0        10/10/1949 20:30\n",
       "1        10/10/1949 21:00\n",
       "2        10/10/1955 17:00\n",
       "3        10/10/1956 21:00\n",
       "4        10/10/1960 20:00\n",
       "               ...       \n",
       "80327      9/9/2013 21:15\n",
       "80328      9/9/2013 22:00\n",
       "80329      9/9/2013 22:00\n",
       "80330      9/9/2013 22:20\n",
       "80331      9/9/2013 23:00\n",
       "Name: date_time, Length: 80332, dtype: object"
      ]
     },
     "execution_count": 16,
     "metadata": {},
     "output_type": "execute_result"
    }
   ],
   "source": [
    "ufo['date_time']"
   ]
  },
  {
   "cell_type": "markdown",
   "metadata": {},
   "source": [
    "Pour la variable `date_time` conversion des \"24:00\" en \"00:00\" afin de pouvoir faire un formatage des dates"
   ]
  },
  {
   "cell_type": "code",
   "execution_count": 17,
   "metadata": {},
   "outputs": [],
   "source": [
    "#  Conversion des \"24:00\" en \"00:00\"\n",
    "ufo[ufo['date_time'].str.contains(\"24:00\")]\n",
    "ufo['date_time'].replace({'24:00': '00:00'}, regex=True, inplace=True)"
   ]
  },
  {
   "cell_type": "markdown",
   "metadata": {},
   "source": [
    "Typage de la variable \"date_time\" en datetime64"
   ]
  },
  {
   "cell_type": "code",
   "execution_count": 18,
   "metadata": {
    "scrolled": true
   },
   "outputs": [],
   "source": [
    "# Typage de la variable \"date_time\" en datetime64\n",
    "def type_datetime_mdy(date_value):\n",
    "    day = datetime.timedelta(1)\n",
    "\n",
    "    if date_value.endswith('00:00'):\n",
    "        return datetime.datetime.strptime(date_value, '%m/%d/%Y %H:%M') + day\n",
    "\n",
    "    return datetime.datetime.strptime(date_value, '%m/%d/%Y %H:%M')\n",
    "\n",
    "\n",
    "ufo['dates_time'] = ufo['date_time'].apply(\n",
    "    type_datetime_mdy).astype('datetime64')"
   ]
  },
  {
   "cell_type": "markdown",
   "metadata": {},
   "source": [
    "Vérification des nouveaux types"
   ]
  },
  {
   "cell_type": "code",
   "execution_count": 19,
   "metadata": {
    "scrolled": false
   },
   "outputs": [
    {
     "data": {
      "text/plain": [
       "date_time                                  object\n",
       "city                                       object\n",
       "state/province                             object\n",
       "country                                    object\n",
       "UFO_shape                                  object\n",
       "length_of_encounter_seconds               float64\n",
       "described_duration_of_encounter            object\n",
       "description                                object\n",
       "date_documented                            object\n",
       "latitude                                  float64\n",
       "longitude                                 float64\n",
       "dates_time                         datetime64[ns]\n",
       "dtype: object"
      ]
     },
     "execution_count": 19,
     "metadata": {},
     "output_type": "execute_result"
    }
   ],
   "source": [
    "ufo.dtypes"
   ]
  },
  {
   "cell_type": "markdown",
   "metadata": {},
   "source": [
    "Suppression de la colonne `date_time` puisqu'elle est remplacée, à présent, par la colonne `dates_time` typée en datetime64."
   ]
  },
  {
   "cell_type": "code",
   "execution_count": 20,
   "metadata": {},
   "outputs": [],
   "source": [
    "ufo.drop(\"date_time\", axis=1, inplace=True)"
   ]
  },
  {
   "cell_type": "markdown",
   "metadata": {},
   "source": [
    "Déplacement de la colonne \"dates_time\" en première position pour une meilleure visibilité"
   ]
  },
  {
   "cell_type": "code",
   "execution_count": 21,
   "metadata": {},
   "outputs": [],
   "source": [
    "col = ufo.pop(\"dates_time\")  # suppression de la col à déplacer mais conservation des données\n",
    "ufo.insert(0, col.name, col) # insertion de la col en première position"
   ]
  },
  {
   "cell_type": "markdown",
   "metadata": {},
   "source": [
    "Nombre de valeur unique pour chaque variable qualitative"
   ]
  },
  {
   "cell_type": "code",
   "execution_count": 22,
   "metadata": {},
   "outputs": [
    {
     "name": "stdout",
     "output_type": "stream",
     "text": [
      "city----------------------------------------------19882\n",
      "state/province------------------------------------67\n",
      "country-------------------------------------------6\n",
      "UFO_shape-----------------------------------------29\n",
      "described_duration_of_encounter-------------------8304\n",
      "description---------------------------------------79997\n",
      "date_documented-----------------------------------317\n"
     ]
    }
   ],
   "source": [
    "for col in ufo.select_dtypes('O'):\n",
    "    print(f'{col:-<50}{ufo[col].nunique()}')"
   ]
  },
  {
   "cell_type": "markdown",
   "metadata": {},
   "source": [
    "###  Recherche et traitement des **valeurs manquantes**"
   ]
  },
  {
   "cell_type": "markdown",
   "metadata": {},
   "source": [
    "Visualisation des valeurs manquantes"
   ]
  },
  {
   "cell_type": "code",
   "execution_count": 23,
   "metadata": {},
   "outputs": [],
   "source": [
    "# sns.set(style=\"ticks\", context=\"talk\")\n",
    "plt.style.use(\"dark_background\")"
   ]
  },
  {
   "cell_type": "code",
   "execution_count": 24,
   "metadata": {},
   "outputs": [
    {
     "data": {
      "image/png": "[encoded data removed]",
      "text/plain": [
       "<Figure size 720x504 with 1 Axes>"
      ]
     },
     "metadata": {},
     "output_type": "display_data"
    }
   ],
   "source": [
    "plt.figure(figsize=(10, 7))\n",
    "# plt.rcParams['axes.labelsize'] = 12\n",
    "sns.heatmap(ufo.isnull(), cbar=False, cmap='Accent', yticklabels=False)\n",
    "plt.title(\"Visualisation des valeurs manquantes\", size=14)\n",
    "plt.xlabel(\"variable\", size=12, fontdict={'fontfamily': 'arial'})\n",
    "plt.savefig(\"Visualisation des valeurs manquantes.jpg\")       "
   ]
  },
  {
   "cell_type": "markdown",
   "metadata": {},
   "source": [
    "Quantification des valeurs renseignées et des valeurs manquantes"
   ]
  },
  {
   "cell_type": "code",
   "execution_count": 25,
   "metadata": {},
   "outputs": [],
   "source": [
    "# Proportion des valeurs fournies avec le total des valeurs manquantes\n",
    "df_missing_values = proportion_valeurs_fournies(ufo)"
   ]
  },
  {
   "cell_type": "code",
   "execution_count": 26,
   "metadata": {},
   "outputs": [
    {
     "data": {
      "text/plain": [
       "<Figure size 720x360 with 0 Axes>"
      ]
     },
     "metadata": {},
     "output_type": "display_data"
    },
    {
     "data": {
      "image/png": "[encoded data removed]",
      "text/plain": [
       "<Figure size 360x360 with 1 Axes>"
      ]
     },
     "metadata": {},
     "output_type": "display_data"
    }
   ],
   "source": [
    "plt.figure(figsize=(10, 5))\n",
    "sns.catplot(x=\"prop_val_fournies (%)\",\n",
    "            y=\"variable\",\n",
    "            kind=\"bar\",\n",
    "            data=df_missing_values,\n",
    "            orient=\"h\")\n",
    "plt.title('Proportion des valeurs renseignées\\n dans le dataframe importé',\n",
    "          size=14)\n",
    "plt.xlabel('pourcentage de valeurs renseignées', size=12)\n",
    "plt.ylabel('variable du dataframe importé', size=12)\n",
    "plt.show();"
   ]
  },
  {
   "cell_type": "markdown",
   "metadata": {},
   "source": [
    "plotly"
   ]
  },
  {
   "cell_type": "code",
   "execution_count": 27,
   "metadata": {},
   "outputs": [],
   "source": [
    "df_missing_values.sort_values(by='prop_val_fournies (%)',\n",
    "                             ascending=False,\n",
    "                             inplace=True)"
   ]
  },
  {
   "cell_type": "code",
   "execution_count": 28,
   "metadata": {},
   "outputs": [
    {
     "data": {
      "application/vnd.plotly.v1+json": {
       "config": {
        "plotlyServerURL": "https://plot.ly"
       },
       "data": [
        {
         "alignmentgroup": "True",
         "hovertemplate": "pourcentage de valeurs renseignées (%)=%{text}<br>variable du dataframe importé=%{y}<extra></extra>",
         "legendgroup": "",
         "marker": {
          "color": "#0d0887"
         },
         "name": "",
         "offsetgroup": "",
         "orientation": "h",
         "showlegend": false,
         "text": [
          100,
          100,
          100,
          100,
          99.99875516606085,
          99.99875516606085,
          99.99626549818255,
          99.9813274909127,
          97.59498082955733,
          92.78369765473286,
          87.96619031021262
         ],
         "textposition": "outside",
         "texttemplate": "%{text:.2s}",
         "type": "bar",
         "x": [
          100,
          100,
          100,
          100,
          99.99875516606085,
          99.99875516606085,
          99.99626549818255,
          99.9813274909127,
          97.59498082955733,
          92.78369765473286,
          87.96619031021262
         ],
         "xaxis": "x",
         "y": [
          "dates_time",
          "described_duration_of_encounter",
          "date_documented",
          "longitude",
          "city",
          "latitude",
          "length_of_encounter_seconds",
          "description",
          "UFO_shape",
          "state/province",
          "country"
         ],
         "yaxis": "y"
        }
       ],
       "layout": {
        "annotations": [
         {
          "font": {
           "color": "rgb(150,150,150)",
           "family": "Arial",
           "size": 12
          },
          "showarrow": false,
          "text": "Source: fichier ufo     Site: https://www.kaggle.com/camnugent/ufo-sightings-around-the-world",
          "x": 0.5,
          "xanchor": "center",
          "xref": "paper",
          "y": -0.14,
          "yanchor": "top",
          "yref": "paper"
         }
        ],
        "barmode": "relative",
        "legend": {
         "tracegroupgap": 0
        },
        "margin": {
         "t": 60
        },
        "showlegend": true,
        "template": {
         "data": {
          "bar": [
           {
            "error_x": {
             "color": "#f2f5fa"
            },
            "error_y": {
             "color": "#f2f5fa"
            },
            "marker": {
             "line": {
              "color": "rgb(17,17,17)",
              "width": 0.5
             }
            },
            "type": "bar"
           }
          ],
          "barpolar": [
           {
            "marker": {
             "line": {
              "color": "rgb(17,17,17)",
              "width": 0.5
             }
            },
            "type": "barpolar"
           }
          ],
          "carpet": [
           {
            "aaxis": {
             "endlinecolor": "#A2B1C6",
             "gridcolor": "#506784",
             "linecolor": "#506784",
             "minorgridcolor": "#506784",
             "startlinecolor": "#A2B1C6"
            },
            "baxis": {
             "endlinecolor": "#A2B1C6",
             "gridcolor": "#506784",
             "linecolor": "#506784",
             "minorgridcolor": "#506784",
             "startlinecolor": "#A2B1C6"
            },
            "type": "carpet"
           }
          ],
          "choropleth": [
           {
            "colorbar": {
             "outlinewidth": 0,
             "ticks": ""
            },
            "type": "choropleth"
           }
          ],
          "contour": [
           {
            "colorbar": {
             "outlinewidth": 0,
             "ticks": ""
            },
            "colorscale": [
             [
              0,
              "#0d0887"
             ],
             [
              0.1111111111111111,
              "#46039f"
             ],
             [
              0.2222222222222222,
              "#7201a8"
             ],
             [
              0.3333333333333333,
              "#9c179e"
             ],
             [
              0.4444444444444444,
              "#bd3786"
             ],
             [
              0.5555555555555556,
              "#d8576b"
             ],
             [
              0.6666666666666666,
              "#ed7953"
             ],
             [
              0.7777777777777778,
              "#fb9f3a"
             ],
             [
              0.8888888888888888,
              "#fdca26"
             ],
             [
              1,
              "#f0f921"
             ]
            ],
            "type": "contour"
           }
          ],
          "contourcarpet": [
           {
            "colorbar": {
             "outlinewidth": 0,
             "ticks": ""
            },
            "type": "contourcarpet"
           }
          ],
          "heatmap": [
           {
            "colorbar": {
             "outlinewidth": 0,
             "ticks": ""
            },
            "colorscale": [
             [
              0,
              "#0d0887"
             ],
             [
              0.1111111111111111,
              "#46039f"
             ],
             [
              0.2222222222222222,
              "#7201a8"
             ],
             [
              0.3333333333333333,
              "#9c179e"
             ],
             [
              0.4444444444444444,
              "#bd3786"
             ],
             [
              0.5555555555555556,
              "#d8576b"
             ],
             [
              0.6666666666666666,
              "#ed7953"
             ],
             [
              0.7777777777777778,
              "#fb9f3a"
             ],
             [
              0.8888888888888888,
              "#fdca26"
             ],
             [
              1,
              "#f0f921"
             ]
            ],
            "type": "heatmap"
           }
          ],
          "heatmapgl": [
           {
            "colorbar": {
             "outlinewidth": 0,
             "ticks": ""
            },
            "colorscale": [
             [
              0,
              "#0d0887"
             ],
             [
              0.1111111111111111,
              "#46039f"
             ],
             [
              0.2222222222222222,
              "#7201a8"
             ],
             [
              0.3333333333333333,
              "#9c179e"
             ],
             [
              0.4444444444444444,
              "#bd3786"
             ],
             [
              0.5555555555555556,
              "#d8576b"
             ],
             [
              0.6666666666666666,
              "#ed7953"
             ],
             [
              0.7777777777777778,
              "#fb9f3a"
             ],
             [
              0.8888888888888888,
              "#fdca26"
             ],
             [
              1,
              "#f0f921"
             ]
            ],
            "type": "heatmapgl"
           }
          ],
          "histogram": [
           {
            "marker": {
             "colorbar": {
              "outlinewidth": 0,
              "ticks": ""
             }
            },
            "type": "histogram"
           }
          ],
          "histogram2d": [
           {
            "colorbar": {
             "outlinewidth": 0,
             "ticks": ""
            },
            "colorscale": [
             [
              0,
              "#0d0887"
             ],
             [
              0.1111111111111111,
              "#46039f"
             ],
             [
              0.2222222222222222,
              "#7201a8"
             ],
             [
              0.3333333333333333,
              "#9c179e"
             ],
             [
              0.4444444444444444,
              "#bd3786"
             ],
             [
              0.5555555555555556,
              "#d8576b"
             ],
             [
              0.6666666666666666,
              "#ed7953"
             ],
             [
              0.7777777777777778,
              "#fb9f3a"
             ],
             [
              0.8888888888888888,
              "#fdca26"
             ],
             [
              1,
              "#f0f921"
             ]
            ],
            "type": "histogram2d"
           }
          ],
          "histogram2dcontour": [
           {
            "colorbar": {
             "outlinewidth": 0,
             "ticks": ""
            },
            "colorscale": [
             [
              0,
              "#0d0887"
             ],
             [
              0.1111111111111111,
              "#46039f"
             ],
             [
              0.2222222222222222,
              "#7201a8"
             ],
             [
              0.3333333333333333,
              "#9c179e"
             ],
             [
              0.4444444444444444,
              "#bd3786"
             ],
             [
              0.5555555555555556,
              "#d8576b"
             ],
             [
              0.6666666666666666,
              "#ed7953"
             ],
             [
              0.7777777777777778,
              "#fb9f3a"
             ],
             [
              0.8888888888888888,
              "#fdca26"
             ],
             [
              1,
              "#f0f921"
             ]
            ],
            "type": "histogram2dcontour"
           }
          ],
          "mesh3d": [
           {
            "colorbar": {
             "outlinewidth": 0,
             "ticks": ""
            },
            "type": "mesh3d"
           }
          ],
          "parcoords": [
           {
            "line": {
             "colorbar": {
              "outlinewidth": 0,
              "ticks": ""
             }
            },
            "type": "parcoords"
           }
          ],
          "pie": [
           {
            "automargin": true,
            "type": "pie"
           }
          ],
          "scatter": [
           {
            "marker": {
             "line": {
              "color": "#283442"
             }
            },
            "type": "scatter"
           }
          ],
          "scatter3d": [
           {
            "line": {
             "colorbar": {
              "outlinewidth": 0,
              "ticks": ""
             }
            },
            "marker": {
             "colorbar": {
              "outlinewidth": 0,
              "ticks": ""
             }
            },
            "type": "scatter3d"
           }
          ],
          "scattercarpet": [
           {
            "marker": {
             "colorbar": {
              "outlinewidth": 0,
              "ticks": ""
             }
            },
            "type": "scattercarpet"
           }
          ],
          "scattergeo": [
           {
            "marker": {
             "colorbar": {
              "outlinewidth": 0,
              "ticks": ""
             }
            },
            "type": "scattergeo"
           }
          ],
          "scattergl": [
           {
            "marker": {
             "line": {
              "color": "#283442"
             }
            },
            "type": "scattergl"
           }
          ],
          "scattermapbox": [
           {
            "marker": {
             "colorbar": {
              "outlinewidth": 0,
              "ticks": ""
             }
            },
            "type": "scattermapbox"
           }
          ],
          "scatterpolar": [
           {
            "marker": {
             "colorbar": {
              "outlinewidth": 0,
              "ticks": ""
             }
            },
            "type": "scatterpolar"
           }
          ],
          "scatterpolargl": [
           {
            "marker": {
             "colorbar": {
              "outlinewidth": 0,
              "ticks": ""
             }
            },
            "type": "scatterpolargl"
           }
          ],
          "scatterternary": [
           {
            "marker": {
             "colorbar": {
              "outlinewidth": 0,
              "ticks": ""
             }
            },
            "type": "scatterternary"
           }
          ],
          "surface": [
           {
            "colorbar": {
             "outlinewidth": 0,
             "ticks": ""
            },
            "colorscale": [
             [
              0,
              "#0d0887"
             ],
             [
              0.1111111111111111,
              "#46039f"
             ],
             [
              0.2222222222222222,
              "#7201a8"
             ],
             [
              0.3333333333333333,
              "#9c179e"
             ],
             [
              0.4444444444444444,
              "#bd3786"
             ],
             [
              0.5555555555555556,
              "#d8576b"
             ],
             [
              0.6666666666666666,
              "#ed7953"
             ],
             [
              0.7777777777777778,
              "#fb9f3a"
             ],
             [
              0.8888888888888888,
              "#fdca26"
             ],
             [
              1,
              "#f0f921"
             ]
            ],
            "type": "surface"
           }
          ],
          "table": [
           {
            "cells": {
             "fill": {
              "color": "#506784"
             },
             "line": {
              "color": "rgb(17,17,17)"
             }
            },
            "header": {
             "fill": {
              "color": "#2a3f5f"
             },
             "line": {
              "color": "rgb(17,17,17)"
             }
            },
            "type": "table"
           }
          ]
         },
         "layout": {
          "annotationdefaults": {
           "arrowcolor": "#f2f5fa",
           "arrowhead": 0,
           "arrowwidth": 1
          },
          "autotypenumbers": "strict",
          "coloraxis": {
           "colorbar": {
            "outlinewidth": 0,
            "ticks": ""
           }
          },
          "colorscale": {
           "diverging": [
            [
             0,
             "#8e0152"
            ],
            [
             0.1,
             "#c51b7d"
            ],
            [
             0.2,
             "#de77ae"
            ],
            [
             0.3,
             "#f1b6da"
            ],
            [
             0.4,
             "#fde0ef"
            ],
            [
             0.5,
             "#f7f7f7"
            ],
            [
             0.6,
             "#e6f5d0"
            ],
            [
             0.7,
             "#b8e186"
            ],
            [
             0.8,
             "#7fbc41"
            ],
            [
             0.9,
             "#4d9221"
            ],
            [
             1,
             "#276419"
            ]
           ],
           "sequential": [
            [
             0,
             "#0d0887"
            ],
            [
             0.1111111111111111,
             "#46039f"
            ],
            [
             0.2222222222222222,
             "#7201a8"
            ],
            [
             0.3333333333333333,
             "#9c179e"
            ],
            [
             0.4444444444444444,
             "#bd3786"
            ],
            [
             0.5555555555555556,
             "#d8576b"
            ],
            [
             0.6666666666666666,
             "#ed7953"
            ],
            [
             0.7777777777777778,
             "#fb9f3a"
            ],
            [
             0.8888888888888888,
             "#fdca26"
            ],
            [
             1,
             "#f0f921"
            ]
           ],
           "sequentialminus": [
            [
             0,
             "#0d0887"
            ],
            [
             0.1111111111111111,
             "#46039f"
            ],
            [
             0.2222222222222222,
             "#7201a8"
            ],
            [
             0.3333333333333333,
             "#9c179e"
            ],
            [
             0.4444444444444444,
             "#bd3786"
            ],
            [
             0.5555555555555556,
             "#d8576b"
            ],
            [
             0.6666666666666666,
             "#ed7953"
            ],
            [
             0.7777777777777778,
             "#fb9f3a"
            ],
            [
             0.8888888888888888,
             "#fdca26"
            ],
            [
             1,
             "#f0f921"
            ]
           ]
          },
          "colorway": [
           "#636efa",
           "#EF553B",
           "#00cc96",
           "#ab63fa",
           "#FFA15A",
           "#19d3f3",
           "#FF6692",
           "#B6E880",
           "#FF97FF",
           "#FECB52"
          ],
          "font": {
           "color": "#f2f5fa"
          },
          "geo": {
           "bgcolor": "rgb(17,17,17)",
           "lakecolor": "rgb(17,17,17)",
           "landcolor": "rgb(17,17,17)",
           "showlakes": true,
           "showland": true,
           "subunitcolor": "#506784"
          },
          "hoverlabel": {
           "align": "left"
          },
          "hovermode": "closest",
          "mapbox": {
           "style": "dark"
          },
          "paper_bgcolor": "rgb(17,17,17)",
          "plot_bgcolor": "rgb(17,17,17)",
          "polar": {
           "angularaxis": {
            "gridcolor": "#506784",
            "linecolor": "#506784",
            "ticks": ""
           },
           "bgcolor": "rgb(17,17,17)",
           "radialaxis": {
            "gridcolor": "#506784",
            "linecolor": "#506784",
            "ticks": ""
           }
          },
          "scene": {
           "xaxis": {
            "backgroundcolor": "rgb(17,17,17)",
            "gridcolor": "#506784",
            "gridwidth": 2,
            "linecolor": "#506784",
            "showbackground": true,
            "ticks": "",
            "zerolinecolor": "#C8D4E3"
           },
           "yaxis": {
            "backgroundcolor": "rgb(17,17,17)",
            "gridcolor": "#506784",
            "gridwidth": 2,
            "linecolor": "#506784",
            "showbackground": true,
            "ticks": "",
            "zerolinecolor": "#C8D4E3"
           },
           "zaxis": {
            "backgroundcolor": "rgb(17,17,17)",
            "gridcolor": "#506784",
            "gridwidth": 2,
            "linecolor": "#506784",
            "showbackground": true,
            "ticks": "",
            "zerolinecolor": "#C8D4E3"
           }
          },
          "shapedefaults": {
           "line": {
            "color": "#f2f5fa"
           }
          },
          "sliderdefaults": {
           "bgcolor": "#C8D4E3",
           "bordercolor": "rgb(17,17,17)",
           "borderwidth": 1,
           "tickwidth": 0
          },
          "ternary": {
           "aaxis": {
            "gridcolor": "#506784",
            "linecolor": "#506784",
            "ticks": ""
           },
           "baxis": {
            "gridcolor": "#506784",
            "linecolor": "#506784",
            "ticks": ""
           },
           "bgcolor": "rgb(17,17,17)",
           "caxis": {
            "gridcolor": "#506784",
            "linecolor": "#506784",
            "ticks": ""
           }
          },
          "title": {
           "x": 0.05
          },
          "updatemenudefaults": {
           "bgcolor": "#506784",
           "borderwidth": 0
          },
          "xaxis": {
           "automargin": true,
           "gridcolor": "#283442",
           "linecolor": "#506784",
           "ticks": "",
           "title": {
            "standoff": 15
           },
           "zerolinecolor": "#283442",
           "zerolinewidth": 2
          },
          "yaxis": {
           "automargin": true,
           "gridcolor": "#283442",
           "linecolor": "#506784",
           "ticks": "",
           "title": {
            "standoff": 15
           },
           "zerolinecolor": "#283442",
           "zerolinewidth": 2
          }
         }
        },
        "title": {
         "text": "Proportion des valeurs renseignées<br><sup>dans le dataframe importé</sup>"
        },
        "xaxis": {
         "anchor": "y",
         "domain": [
          0,
          1
         ],
         "showgrid": true,
         "ticks": "outside",
         "title": {
          "text": "pourcentage de valeurs renseignées (%)"
         }
        },
        "yaxis": {
         "anchor": "x",
         "domain": [
          0,
          1
         ],
         "title": {
          "text": "variable du dataframe importé"
         }
        }
       }
      },
      "text/html": [
       "<div>                            <div id=\"ce450a6c-29fc-4143-bbb8-24807aff3e46\" class=\"plotly-graph-div\" style=\"height:525px; width:100%;\"></div>            <script type=\"text/javascript\">                require([\"plotly\"], function(Plotly) {                    window.PLOTLYENV=window.PLOTLYENV || {};                                    if (document.getElementById(\"ce450a6c-29fc-4143-bbb8-24807aff3e46\")) {                    Plotly.newPlot(                        \"ce450a6c-29fc-4143-bbb8-24807aff3e46\",                        [{\"alignmentgroup\": \"True\", \"hovertemplate\": \"pourcentage de valeurs renseign\\u00e9es (%)=%{text}<br>variable du dataframe import\\u00e9=%{y}<extra></extra>\", \"legendgroup\": \"\", \"marker\": {\"color\": \"#0d0887\"}, \"name\": \"\", \"offsetgroup\": \"\", \"orientation\": \"h\", \"showlegend\": false, \"text\": [100.0, 100.0, 100.0, 100.0, 99.99875516606085, 99.99875516606085, 99.99626549818255, 99.9813274909127, 97.59498082955733, 92.78369765473286, 87.96619031021262], \"textposition\": \"outside\", \"texttemplate\": \"%{text:.2s}\", \"type\": \"bar\", \"x\": [100.0, 100.0, 100.0, 100.0, 99.99875516606085, 99.99875516606085, 99.99626549818255, 99.9813274909127, 97.59498082955733, 92.78369765473286, 87.96619031021262], \"xaxis\": \"x\", \"y\": [\"dates_time\", \"described_duration_of_encounter\", \"date_documented\", \"longitude\", \"city\", \"latitude\", \"length_of_encounter_seconds\", \"description\", \"UFO_shape\", \"state/province\", \"country\"], \"yaxis\": \"y\"}],                        {\"annotations\": [{\"font\": {\"color\": \"rgb(150,150,150)\", \"family\": \"Arial\", \"size\": 12}, \"showarrow\": false, \"text\": \"Source: fichier ufo     Site: https://www.kaggle.com/camnugent/ufo-sightings-around-the-world\", \"x\": 0.5, \"xanchor\": \"center\", \"xref\": \"paper\", \"y\": -0.14, \"yanchor\": \"top\", \"yref\": \"paper\"}], \"barmode\": \"relative\", \"legend\": {\"tracegroupgap\": 0}, \"margin\": {\"t\": 60}, \"showlegend\": true, \"template\": {\"data\": {\"bar\": [{\"error_x\": {\"color\": \"#f2f5fa\"}, \"error_y\": {\"color\": \"#f2f5fa\"}, \"marker\": {\"line\": {\"color\": \"rgb(17,17,17)\", \"width\": 0.5}}, \"type\": \"bar\"}], \"barpolar\": [{\"marker\": {\"line\": {\"color\": \"rgb(17,17,17)\", \"width\": 0.5}}, \"type\": \"barpolar\"}], \"carpet\": [{\"aaxis\": {\"endlinecolor\": \"#A2B1C6\", \"gridcolor\": \"#506784\", \"linecolor\": \"#506784\", \"minorgridcolor\": \"#506784\", \"startlinecolor\": \"#A2B1C6\"}, \"baxis\": {\"endlinecolor\": \"#A2B1C6\", \"gridcolor\": \"#506784\", \"linecolor\": \"#506784\", \"minorgridcolor\": \"#506784\", \"startlinecolor\": \"#A2B1C6\"}, \"type\": \"carpet\"}], \"choropleth\": [{\"colorbar\": {\"outlinewidth\": 0, \"ticks\": \"\"}, \"type\": \"choropleth\"}], \"contour\": [{\"colorbar\": {\"outlinewidth\": 0, \"ticks\": \"\"}, \"colorscale\": [[0.0, \"#0d0887\"], [0.1111111111111111, \"#46039f\"], [0.2222222222222222, \"#7201a8\"], [0.3333333333333333, \"#9c179e\"], [0.4444444444444444, \"#bd3786\"], [0.5555555555555556, \"#d8576b\"], [0.6666666666666666, \"#ed7953\"], [0.7777777777777778, \"#fb9f3a\"], [0.8888888888888888, \"#fdca26\"], [1.0, \"#f0f921\"]], \"type\": \"contour\"}], \"contourcarpet\": [{\"colorbar\": {\"outlinewidth\": 0, \"ticks\": \"\"}, \"type\": \"contourcarpet\"}], \"heatmap\": [{\"colorbar\": {\"outlinewidth\": 0, \"ticks\": \"\"}, \"colorscale\": [[0.0, \"#0d0887\"], [0.1111111111111111, \"#46039f\"], [0.2222222222222222, \"#7201a8\"], [0.3333333333333333, \"#9c179e\"], [0.4444444444444444, \"#bd3786\"], [0.5555555555555556, \"#d8576b\"], [0.6666666666666666, \"#ed7953\"], [0.7777777777777778, \"#fb9f3a\"], [0.8888888888888888, \"#fdca26\"], [1.0, \"#f0f921\"]], \"type\": \"heatmap\"}], \"heatmapgl\": [{\"colorbar\": {\"outlinewidth\": 0, \"ticks\": \"\"}, \"colorscale\": [[0.0, \"#0d0887\"], [0.1111111111111111, \"#46039f\"], [0.2222222222222222, \"#7201a8\"], [0.3333333333333333, \"#9c179e\"], [0.4444444444444444, \"#bd3786\"], [0.5555555555555556, \"#d8576b\"], [0.6666666666666666, \"#ed7953\"], [0.7777777777777778, \"#fb9f3a\"], [0.8888888888888888, \"#fdca26\"], [1.0, \"#f0f921\"]], \"type\": \"heatmapgl\"}], \"histogram\": [{\"marker\": {\"colorbar\": {\"outlinewidth\": 0, \"ticks\": \"\"}}, \"type\": \"histogram\"}], \"histogram2d\": [{\"colorbar\": {\"outlinewidth\": 0, \"ticks\": \"\"}, \"colorscale\": [[0.0, \"#0d0887\"], [0.1111111111111111, \"#46039f\"], [0.2222222222222222, \"#7201a8\"], [0.3333333333333333, \"#9c179e\"], [0.4444444444444444, \"#bd3786\"], [0.5555555555555556, \"#d8576b\"], [0.6666666666666666, \"#ed7953\"], [0.7777777777777778, \"#fb9f3a\"], [0.8888888888888888, \"#fdca26\"], [1.0, \"#f0f921\"]], \"type\": \"histogram2d\"}], \"histogram2dcontour\": [{\"colorbar\": {\"outlinewidth\": 0, \"ticks\": \"\"}, \"colorscale\": [[0.0, \"#0d0887\"], [0.1111111111111111, \"#46039f\"], [0.2222222222222222, \"#7201a8\"], [0.3333333333333333, \"#9c179e\"], [0.4444444444444444, \"#bd3786\"], [0.5555555555555556, \"#d8576b\"], [0.6666666666666666, \"#ed7953\"], [0.7777777777777778, \"#fb9f3a\"], [0.8888888888888888, \"#fdca26\"], [1.0, \"#f0f921\"]], \"type\": \"histogram2dcontour\"}], \"mesh3d\": [{\"colorbar\": {\"outlinewidth\": 0, \"ticks\": \"\"}, \"type\": \"mesh3d\"}], \"parcoords\": [{\"line\": {\"colorbar\": {\"outlinewidth\": 0, \"ticks\": \"\"}}, \"type\": \"parcoords\"}], \"pie\": [{\"automargin\": true, \"type\": \"pie\"}], \"scatter\": [{\"marker\": {\"line\": {\"color\": \"#283442\"}}, \"type\": \"scatter\"}], \"scatter3d\": [{\"line\": {\"colorbar\": {\"outlinewidth\": 0, \"ticks\": \"\"}}, \"marker\": {\"colorbar\": {\"outlinewidth\": 0, \"ticks\": \"\"}}, \"type\": \"scatter3d\"}], \"scattercarpet\": [{\"marker\": {\"colorbar\": {\"outlinewidth\": 0, \"ticks\": \"\"}}, \"type\": \"scattercarpet\"}], \"scattergeo\": [{\"marker\": {\"colorbar\": {\"outlinewidth\": 0, \"ticks\": \"\"}}, \"type\": \"scattergeo\"}], \"scattergl\": [{\"marker\": {\"line\": {\"color\": \"#283442\"}}, \"type\": \"scattergl\"}], \"scattermapbox\": [{\"marker\": {\"colorbar\": {\"outlinewidth\": 0, \"ticks\": \"\"}}, \"type\": \"scattermapbox\"}], \"scatterpolar\": [{\"marker\": {\"colorbar\": {\"outlinewidth\": 0, \"ticks\": \"\"}}, \"type\": \"scatterpolar\"}], \"scatterpolargl\": [{\"marker\": {\"colorbar\": {\"outlinewidth\": 0, \"ticks\": \"\"}}, \"type\": \"scatterpolargl\"}], \"scatterternary\": [{\"marker\": {\"colorbar\": {\"outlinewidth\": 0, \"ticks\": \"\"}}, \"type\": \"scatterternary\"}], \"surface\": [{\"colorbar\": {\"outlinewidth\": 0, \"ticks\": \"\"}, \"colorscale\": [[0.0, \"#0d0887\"], [0.1111111111111111, \"#46039f\"], [0.2222222222222222, \"#7201a8\"], [0.3333333333333333, \"#9c179e\"], [0.4444444444444444, \"#bd3786\"], [0.5555555555555556, \"#d8576b\"], [0.6666666666666666, \"#ed7953\"], [0.7777777777777778, \"#fb9f3a\"], [0.8888888888888888, \"#fdca26\"], [1.0, \"#f0f921\"]], \"type\": \"surface\"}], \"table\": [{\"cells\": {\"fill\": {\"color\": \"#506784\"}, \"line\": {\"color\": \"rgb(17,17,17)\"}}, \"header\": {\"fill\": {\"color\": \"#2a3f5f\"}, \"line\": {\"color\": \"rgb(17,17,17)\"}}, \"type\": \"table\"}]}, \"layout\": {\"annotationdefaults\": {\"arrowcolor\": \"#f2f5fa\", \"arrowhead\": 0, \"arrowwidth\": 1}, \"autotypenumbers\": \"strict\", \"coloraxis\": {\"colorbar\": {\"outlinewidth\": 0, \"ticks\": \"\"}}, \"colorscale\": {\"diverging\": [[0, \"#8e0152\"], [0.1, \"#c51b7d\"], [0.2, \"#de77ae\"], [0.3, \"#f1b6da\"], [0.4, \"#fde0ef\"], [0.5, \"#f7f7f7\"], [0.6, \"#e6f5d0\"], [0.7, \"#b8e186\"], [0.8, \"#7fbc41\"], [0.9, \"#4d9221\"], [1, \"#276419\"]], \"sequential\": [[0.0, \"#0d0887\"], [0.1111111111111111, \"#46039f\"], [0.2222222222222222, \"#7201a8\"], [0.3333333333333333, \"#9c179e\"], [0.4444444444444444, \"#bd3786\"], [0.5555555555555556, \"#d8576b\"], [0.6666666666666666, \"#ed7953\"], [0.7777777777777778, \"#fb9f3a\"], [0.8888888888888888, \"#fdca26\"], [1.0, \"#f0f921\"]], \"sequentialminus\": [[0.0, \"#0d0887\"], [0.1111111111111111, \"#46039f\"], [0.2222222222222222, \"#7201a8\"], [0.3333333333333333, \"#9c179e\"], [0.4444444444444444, \"#bd3786\"], [0.5555555555555556, \"#d8576b\"], [0.6666666666666666, \"#ed7953\"], [0.7777777777777778, \"#fb9f3a\"], [0.8888888888888888, \"#fdca26\"], [1.0, \"#f0f921\"]]}, \"colorway\": [\"#636efa\", \"#EF553B\", \"#00cc96\", \"#ab63fa\", \"#FFA15A\", \"#19d3f3\", \"#FF6692\", \"#B6E880\", \"#FF97FF\", \"#FECB52\"], \"font\": {\"color\": \"#f2f5fa\"}, \"geo\": {\"bgcolor\": \"rgb(17,17,17)\", \"lakecolor\": \"rgb(17,17,17)\", \"landcolor\": \"rgb(17,17,17)\", \"showlakes\": true, \"showland\": true, \"subunitcolor\": \"#506784\"}, \"hoverlabel\": {\"align\": \"left\"}, \"hovermode\": \"closest\", \"mapbox\": {\"style\": \"dark\"}, \"paper_bgcolor\": \"rgb(17,17,17)\", \"plot_bgcolor\": \"rgb(17,17,17)\", \"polar\": {\"angularaxis\": {\"gridcolor\": \"#506784\", \"linecolor\": \"#506784\", \"ticks\": \"\"}, \"bgcolor\": \"rgb(17,17,17)\", \"radialaxis\": {\"gridcolor\": \"#506784\", \"linecolor\": \"#506784\", \"ticks\": \"\"}}, \"scene\": {\"xaxis\": {\"backgroundcolor\": \"rgb(17,17,17)\", \"gridcolor\": \"#506784\", \"gridwidth\": 2, \"linecolor\": \"#506784\", \"showbackground\": true, \"ticks\": \"\", \"zerolinecolor\": \"#C8D4E3\"}, \"yaxis\": {\"backgroundcolor\": \"rgb(17,17,17)\", \"gridcolor\": \"#506784\", \"gridwidth\": 2, \"linecolor\": \"#506784\", \"showbackground\": true, \"ticks\": \"\", \"zerolinecolor\": \"#C8D4E3\"}, \"zaxis\": {\"backgroundcolor\": \"rgb(17,17,17)\", \"gridcolor\": \"#506784\", \"gridwidth\": 2, \"linecolor\": \"#506784\", \"showbackground\": true, \"ticks\": \"\", \"zerolinecolor\": \"#C8D4E3\"}}, \"shapedefaults\": {\"line\": {\"color\": \"#f2f5fa\"}}, \"sliderdefaults\": {\"bgcolor\": \"#C8D4E3\", \"bordercolor\": \"rgb(17,17,17)\", \"borderwidth\": 1, \"tickwidth\": 0}, \"ternary\": {\"aaxis\": {\"gridcolor\": \"#506784\", \"linecolor\": \"#506784\", \"ticks\": \"\"}, \"baxis\": {\"gridcolor\": \"#506784\", \"linecolor\": \"#506784\", \"ticks\": \"\"}, \"bgcolor\": \"rgb(17,17,17)\", \"caxis\": {\"gridcolor\": \"#506784\", \"linecolor\": \"#506784\", \"ticks\": \"\"}}, \"title\": {\"x\": 0.05}, \"updatemenudefaults\": {\"bgcolor\": \"#506784\", \"borderwidth\": 0}, \"xaxis\": {\"automargin\": true, \"gridcolor\": \"#283442\", \"linecolor\": \"#506784\", \"ticks\": \"\", \"title\": {\"standoff\": 15}, \"zerolinecolor\": \"#283442\", \"zerolinewidth\": 2}, \"yaxis\": {\"automargin\": true, \"gridcolor\": \"#283442\", \"linecolor\": \"#506784\", \"ticks\": \"\", \"title\": {\"standoff\": 15}, \"zerolinecolor\": \"#283442\", \"zerolinewidth\": 2}}}, \"title\": {\"text\": \"Proportion des valeurs renseign\\u00e9es<br><sup>dans le dataframe import\\u00e9</sup>\"}, \"xaxis\": {\"anchor\": \"y\", \"domain\": [0.0, 1.0], \"showgrid\": true, \"ticks\": \"outside\", \"title\": {\"text\": \"pourcentage de valeurs renseign\\u00e9es (%)\"}}, \"yaxis\": {\"anchor\": \"x\", \"domain\": [0.0, 1.0], \"title\": {\"text\": \"variable du dataframe import\\u00e9\"}}},                        {\"responsive\": true}                    ).then(function(){\n",
       "                            \n",
       "var gd = document.getElementById('ce450a6c-29fc-4143-bbb8-24807aff3e46');\n",
       "var x = new MutationObserver(function (mutations, observer) {{\n",
       "        var display = window.getComputedStyle(gd).display;\n",
       "        if (!display || display === 'none') {{\n",
       "            console.log([gd, 'removed!']);\n",
       "            Plotly.purge(gd);\n",
       "            observer.disconnect();\n",
       "        }}\n",
       "}});\n",
       "\n",
       "// Listen for the removal of the full notebook cells\n",
       "var notebookContainer = gd.closest('#notebook-container');\n",
       "if (notebookContainer) {{\n",
       "    x.observe(notebookContainer, {childList: true});\n",
       "}}\n",
       "\n",
       "// Listen for the clearing of the current output cell\n",
       "var outputEl = gd.closest('.output');\n",
       "if (outputEl) {{\n",
       "    x.observe(outputEl, {childList: true});\n",
       "}}\n",
       "\n",
       "                        })                };                });            </script>        </div>"
      ]
     },
     "metadata": {},
     "output_type": "display_data"
    }
   ],
   "source": [
    "#  Graph\n",
    "fig = px.bar(df_missing_values,\n",
    "             y='variable',\n",
    "             x='prop_val_fournies (%)',\n",
    "             text='prop_val_fournies (%)',\n",
    "             labels={'prop_val_fournies (%)': 'pourcentage de valeurs renseignées (%)',\n",
    "                     'variable': 'variable du dataframe importé'},             \n",
    "             template=TEMPLATE)\n",
    "\n",
    "# Text\n",
    "fig.update_traces(texttemplate='%{text:.2s}',\n",
    "                  textposition='outside',\n",
    "                  marker_color='#0d0887')\n",
    "\n",
    "fig.update_layout(title='Proportion des valeurs renseignées<br>'\n",
    "                  '<sup>dans le dataframe importé</sup>',\n",
    "                  showlegend=True)\n",
    "\n",
    "# Axes\n",
    "fig.update_xaxes(showgrid=True, ticks=\"outside\")\n",
    "\n",
    "# Annotations\n",
    "annotations = []\n",
    "\n",
    "# Source\n",
    "annotations.append(dict(xref='paper', yref='paper', x=0.5, y=-0.14,\n",
    "                        xanchor='center', yanchor='top',\n",
    "                        text='Source: fichier ufo  ' +\n",
    "                        '   Site: https://www.kaggle.com/camnugent/ufo-sightings-around-the-world',\n",
    "                        font=dict(family='Arial',\n",
    "                                  size=12,\n",
    "                                  color='rgb(150,150,150)'),\n",
    "                        showarrow=False))\n",
    "\n",
    "fig.update_layout(annotations=annotations)\n",
    "\n",
    "fig.show()"
   ]
  },
  {
   "cell_type": "markdown",
   "metadata": {},
   "source": [
    "Dataframe  du total des valeurs manquantes et proportion des valeurs fournies"
   ]
  },
  {
   "cell_type": "code",
   "execution_count": 29,
   "metadata": {
    "scrolled": false
   },
   "outputs": [
    {
     "data": {
      "text/html": [
       "<div>\n",
       "<style scoped>\n",
       "    .dataframe tbody tr th:only-of-type {\n",
       "        vertical-align: middle;\n",
       "    }\n",
       "\n",
       "    .dataframe tbody tr th {\n",
       "        vertical-align: top;\n",
       "    }\n",
       "\n",
       "    .dataframe thead th {\n",
       "        text-align: right;\n",
       "    }\n",
       "</style>\n",
       "<table border=\"1\" class=\"dataframe\">\n",
       "  <thead>\n",
       "    <tr style=\"text-align: right;\">\n",
       "      <th></th>\n",
       "      <th>variable</th>\n",
       "      <th>total_val_manquantes</th>\n",
       "      <th>prop_val_fournies (%)</th>\n",
       "    </tr>\n",
       "  </thead>\n",
       "  <tbody>\n",
       "    <tr>\n",
       "      <th>0</th>\n",
       "      <td>country</td>\n",
       "      <td>9667</td>\n",
       "      <td>87.966190</td>\n",
       "    </tr>\n",
       "    <tr>\n",
       "      <th>1</th>\n",
       "      <td>state/province</td>\n",
       "      <td>5797</td>\n",
       "      <td>92.783698</td>\n",
       "    </tr>\n",
       "    <tr>\n",
       "      <th>2</th>\n",
       "      <td>UFO_shape</td>\n",
       "      <td>1932</td>\n",
       "      <td>97.594981</td>\n",
       "    </tr>\n",
       "    <tr>\n",
       "      <th>3</th>\n",
       "      <td>description</td>\n",
       "      <td>15</td>\n",
       "      <td>99.981327</td>\n",
       "    </tr>\n",
       "    <tr>\n",
       "      <th>4</th>\n",
       "      <td>length_of_encounter_seconds</td>\n",
       "      <td>3</td>\n",
       "      <td>99.996265</td>\n",
       "    </tr>\n",
       "    <tr>\n",
       "      <th>5</th>\n",
       "      <td>city</td>\n",
       "      <td>1</td>\n",
       "      <td>99.998755</td>\n",
       "    </tr>\n",
       "    <tr>\n",
       "      <th>6</th>\n",
       "      <td>latitude</td>\n",
       "      <td>1</td>\n",
       "      <td>99.998755</td>\n",
       "    </tr>\n",
       "    <tr>\n",
       "      <th>7</th>\n",
       "      <td>dates_time</td>\n",
       "      <td>0</td>\n",
       "      <td>100.000000</td>\n",
       "    </tr>\n",
       "    <tr>\n",
       "      <th>8</th>\n",
       "      <td>described_duration_of_encounter</td>\n",
       "      <td>0</td>\n",
       "      <td>100.000000</td>\n",
       "    </tr>\n",
       "    <tr>\n",
       "      <th>9</th>\n",
       "      <td>date_documented</td>\n",
       "      <td>0</td>\n",
       "      <td>100.000000</td>\n",
       "    </tr>\n",
       "    <tr>\n",
       "      <th>10</th>\n",
       "      <td>longitude</td>\n",
       "      <td>0</td>\n",
       "      <td>100.000000</td>\n",
       "    </tr>\n",
       "  </tbody>\n",
       "</table>\n",
       "</div>"
      ],
      "text/plain": [
       "                           variable  total_val_manquantes  \\\n",
       "0                           country                  9667   \n",
       "1                    state/province                  5797   \n",
       "2                         UFO_shape                  1932   \n",
       "3                       description                    15   \n",
       "4       length_of_encounter_seconds                     3   \n",
       "5                              city                     1   \n",
       "6                          latitude                     1   \n",
       "7                        dates_time                     0   \n",
       "8   described_duration_of_encounter                     0   \n",
       "9                   date_documented                     0   \n",
       "10                        longitude                     0   \n",
       "\n",
       "    prop_val_fournies (%)  \n",
       "0               87.966190  \n",
       "1               92.783698  \n",
       "2               97.594981  \n",
       "3               99.981327  \n",
       "4               99.996265  \n",
       "5               99.998755  \n",
       "6               99.998755  \n",
       "7              100.000000  \n",
       "8              100.000000  \n",
       "9              100.000000  \n",
       "10             100.000000  "
      ]
     },
     "execution_count": 29,
     "metadata": {},
     "output_type": "execute_result"
    }
   ],
   "source": [
    "proportion_valeurs_fournies(ufo)"
   ]
  },
  {
   "cell_type": "markdown",
   "metadata": {},
   "source": [
    "Valeurs manquantes pour les variables `country`, `UFO_shape` et `state/province`"
   ]
  },
  {
   "cell_type": "markdown",
   "metadata": {},
   "source": [
    "Suppression des données dont la variable `UFO_shape` est manquante"
   ]
  },
  {
   "cell_type": "code",
   "execution_count": 30,
   "metadata": {},
   "outputs": [],
   "source": [
    "ufo.dropna(subset=['UFO_shape'], inplace=True)"
   ]
  },
  {
   "cell_type": "markdown",
   "metadata": {},
   "source": [
    "Nouvelle dimension du dataset"
   ]
  },
  {
   "cell_type": "code",
   "execution_count": 31,
   "metadata": {
    "scrolled": true
   },
   "outputs": [
    {
     "data": {
      "text/plain": [
       "(78400, 11)"
      ]
     },
     "execution_count": 31,
     "metadata": {},
     "output_type": "execute_result"
    }
   ],
   "source": [
    "ufo.shape"
   ]
  },
  {
   "cell_type": "markdown",
   "metadata": {},
   "source": [
    "Visualisation des valeurs null de `country`"
   ]
  },
  {
   "cell_type": "code",
   "execution_count": 32,
   "metadata": {
    "scrolled": true
   },
   "outputs": [
    {
     "data": {
      "text/html": [
       "<div>\n",
       "<style scoped>\n",
       "    .dataframe tbody tr th:only-of-type {\n",
       "        vertical-align: middle;\n",
       "    }\n",
       "\n",
       "    .dataframe tbody tr th {\n",
       "        vertical-align: top;\n",
       "    }\n",
       "\n",
       "    .dataframe thead th {\n",
       "        text-align: right;\n",
       "    }\n",
       "</style>\n",
       "<table border=\"1\" class=\"dataframe\">\n",
       "  <thead>\n",
       "    <tr style=\"text-align: right;\">\n",
       "      <th></th>\n",
       "      <th>dates_time</th>\n",
       "      <th>city</th>\n",
       "      <th>state/province</th>\n",
       "      <th>country</th>\n",
       "      <th>UFO_shape</th>\n",
       "      <th>length_of_encounter_seconds</th>\n",
       "      <th>described_duration_of_encounter</th>\n",
       "      <th>description</th>\n",
       "      <th>date_documented</th>\n",
       "      <th>latitude</th>\n",
       "      <th>longitude</th>\n",
       "    </tr>\n",
       "  </thead>\n",
       "  <tbody>\n",
       "    <tr>\n",
       "      <th>1</th>\n",
       "      <td>1949-10-10 21:00:00</td>\n",
       "      <td>lackland afb</td>\n",
       "      <td>tx</td>\n",
       "      <td>NaN</td>\n",
       "      <td>light</td>\n",
       "      <td>7200.0</td>\n",
       "      <td>1-2 hrs</td>\n",
       "      <td>1949 Lackland AFB&amp;#44 TX.  Lights racing acros...</td>\n",
       "      <td>12/16/2005</td>\n",
       "      <td>29.384210</td>\n",
       "      <td>-98.581082</td>\n",
       "    </tr>\n",
       "    <tr>\n",
       "      <th>18</th>\n",
       "      <td>1973-10-10 23:00:00</td>\n",
       "      <td>bermuda nas</td>\n",
       "      <td>NaN</td>\n",
       "      <td>NaN</td>\n",
       "      <td>light</td>\n",
       "      <td>20.0</td>\n",
       "      <td>20 sec.</td>\n",
       "      <td>saw fast moving blip on the radar scope thin w...</td>\n",
       "      <td>1/11/2002</td>\n",
       "      <td>32.364167</td>\n",
       "      <td>-64.678611</td>\n",
       "    </tr>\n",
       "    <tr>\n",
       "      <th>29</th>\n",
       "      <td>1979-10-10 22:00:00</td>\n",
       "      <td>saddle lake (canada)</td>\n",
       "      <td>ab</td>\n",
       "      <td>NaN</td>\n",
       "      <td>triangle</td>\n",
       "      <td>270.0</td>\n",
       "      <td>4.5 or more min.</td>\n",
       "      <td>Lights far above&amp;#44  that glance; then flee f...</td>\n",
       "      <td>1/19/2005</td>\n",
       "      <td>53.970571</td>\n",
       "      <td>-111.689885</td>\n",
       "    </tr>\n",
       "    <tr>\n",
       "      <th>35</th>\n",
       "      <td>1982-10-10 07:00:00</td>\n",
       "      <td>gisborne (new zealand)</td>\n",
       "      <td>NaN</td>\n",
       "      <td>NaN</td>\n",
       "      <td>disk</td>\n",
       "      <td>120.0</td>\n",
       "      <td>2min</td>\n",
       "      <td>gisborne nz 1982 wainui beach to sponge bay</td>\n",
       "      <td>1/11/2002</td>\n",
       "      <td>-38.662334</td>\n",
       "      <td>178.017649</td>\n",
       "    </tr>\n",
       "    <tr>\n",
       "      <th>40</th>\n",
       "      <td>1986-10-10 20:00:00</td>\n",
       "      <td>holmes</td>\n",
       "      <td>ny</td>\n",
       "      <td>NaN</td>\n",
       "      <td>chevron</td>\n",
       "      <td>180.0</td>\n",
       "      <td>3 minutes</td>\n",
       "      <td>Football Field Sized Chevron with bright white...</td>\n",
       "      <td>10/8/2007</td>\n",
       "      <td>41.523427</td>\n",
       "      <td>-73.646795</td>\n",
       "    </tr>\n",
       "  </tbody>\n",
       "</table>\n",
       "</div>"
      ],
      "text/plain": [
       "            dates_time                    city state/province country  \\\n",
       "1  1949-10-10 21:00:00            lackland afb             tx     NaN   \n",
       "18 1973-10-10 23:00:00             bermuda nas            NaN     NaN   \n",
       "29 1979-10-10 22:00:00    saddle lake (canada)             ab     NaN   \n",
       "35 1982-10-10 07:00:00  gisborne (new zealand)            NaN     NaN   \n",
       "40 1986-10-10 20:00:00                  holmes             ny     NaN   \n",
       "\n",
       "   UFO_shape  length_of_encounter_seconds described_duration_of_encounter  \\\n",
       "1      light                       7200.0                         1-2 hrs   \n",
       "18     light                         20.0                         20 sec.   \n",
       "29  triangle                        270.0                4.5 or more min.   \n",
       "35      disk                        120.0                            2min   \n",
       "40   chevron                        180.0                       3 minutes   \n",
       "\n",
       "                                          description date_documented  \\\n",
       "1   1949 Lackland AFB&#44 TX.  Lights racing acros...      12/16/2005   \n",
       "18  saw fast moving blip on the radar scope thin w...       1/11/2002   \n",
       "29  Lights far above&#44  that glance; then flee f...       1/19/2005   \n",
       "35        gisborne nz 1982 wainui beach to sponge bay       1/11/2002   \n",
       "40  Football Field Sized Chevron with bright white...       10/8/2007   \n",
       "\n",
       "     latitude   longitude  \n",
       "1   29.384210  -98.581082  \n",
       "18  32.364167  -64.678611  \n",
       "29  53.970571 -111.689885  \n",
       "35 -38.662334  178.017649  \n",
       "40  41.523427  -73.646795  "
      ]
     },
     "execution_count": 32,
     "metadata": {},
     "output_type": "execute_result"
    }
   ],
   "source": [
    "ufo[ufo.country.isnull()].head(5)"
   ]
  },
  {
   "cell_type": "markdown",
   "metadata": {},
   "source": [
    "Des valeurs `country` sont indiquées dans la variable `city` entre parenthèses.  \n",
    "Récupération de ces valeurs et implémentation dans la variable `country`"
   ]
  },
  {
   "cell_type": "markdown",
   "metadata": {},
   "source": [
    "Affichage des valeurs dont on ne connait ni \"country\" ni \"state/province\""
   ]
  },
  {
   "cell_type": "code",
   "execution_count": 33,
   "metadata": {
    "scrolled": true
   },
   "outputs": [
    {
     "data": {
      "text/html": [
       "<div>\n",
       "<style scoped>\n",
       "    .dataframe tbody tr th:only-of-type {\n",
       "        vertical-align: middle;\n",
       "    }\n",
       "\n",
       "    .dataframe tbody tr th {\n",
       "        vertical-align: top;\n",
       "    }\n",
       "\n",
       "    .dataframe thead th {\n",
       "        text-align: right;\n",
       "    }\n",
       "</style>\n",
       "<table border=\"1\" class=\"dataframe\">\n",
       "  <thead>\n",
       "    <tr style=\"text-align: right;\">\n",
       "      <th></th>\n",
       "      <th>dates_time</th>\n",
       "      <th>city</th>\n",
       "      <th>state/province</th>\n",
       "      <th>country</th>\n",
       "      <th>UFO_shape</th>\n",
       "      <th>length_of_encounter_seconds</th>\n",
       "      <th>described_duration_of_encounter</th>\n",
       "      <th>description</th>\n",
       "      <th>date_documented</th>\n",
       "      <th>latitude</th>\n",
       "      <th>longitude</th>\n",
       "    </tr>\n",
       "  </thead>\n",
       "  <tbody>\n",
       "    <tr>\n",
       "      <th>18</th>\n",
       "      <td>1973-10-10 23:00:00</td>\n",
       "      <td>bermuda nas</td>\n",
       "      <td>NaN</td>\n",
       "      <td>NaN</td>\n",
       "      <td>light</td>\n",
       "      <td>20.0</td>\n",
       "      <td>20 sec.</td>\n",
       "      <td>saw fast moving blip on the radar scope thin w...</td>\n",
       "      <td>1/11/2002</td>\n",
       "      <td>32.364167</td>\n",
       "      <td>-64.678611</td>\n",
       "    </tr>\n",
       "    <tr>\n",
       "      <th>35</th>\n",
       "      <td>1982-10-10 07:00:00</td>\n",
       "      <td>gisborne (new zealand)</td>\n",
       "      <td>NaN</td>\n",
       "      <td>NaN</td>\n",
       "      <td>disk</td>\n",
       "      <td>120.0</td>\n",
       "      <td>2min</td>\n",
       "      <td>gisborne nz 1982 wainui beach to sponge bay</td>\n",
       "      <td>1/11/2002</td>\n",
       "      <td>-38.662334</td>\n",
       "      <td>178.017649</td>\n",
       "    </tr>\n",
       "    <tr>\n",
       "      <th>55</th>\n",
       "      <td>1993-10-10 03:00:00</td>\n",
       "      <td>zlatoust (russia)</td>\n",
       "      <td>NaN</td>\n",
       "      <td>NaN</td>\n",
       "      <td>sphere</td>\n",
       "      <td>1200.0</td>\n",
       "      <td>20 minutes</td>\n",
       "      <td>I woke up at night and looked out the window n...</td>\n",
       "      <td>12/14/2004</td>\n",
       "      <td>55.183333</td>\n",
       "      <td>59.650000</td>\n",
       "    </tr>\n",
       "    <tr>\n",
       "      <th>65</th>\n",
       "      <td>1996-10-10 20:00:00</td>\n",
       "      <td>lake macquarie (australia)</td>\n",
       "      <td>NaN</td>\n",
       "      <td>NaN</td>\n",
       "      <td>light</td>\n",
       "      <td>300.0</td>\n",
       "      <td>5 min</td>\n",
       "      <td>RED LIGHT WITH OTHER RED FLASHING LIGHT&amp;#44 ON...</td>\n",
       "      <td>5/24/1999</td>\n",
       "      <td>-33.093373</td>\n",
       "      <td>151.588982</td>\n",
       "    </tr>\n",
       "    <tr>\n",
       "      <th>136</th>\n",
       "      <td>2004-10-10 15:20:00</td>\n",
       "      <td>kedainiai (lithuania)</td>\n",
       "      <td>NaN</td>\n",
       "      <td>NaN</td>\n",
       "      <td>oval</td>\n",
       "      <td>240.0</td>\n",
       "      <td>4min</td>\n",
       "      <td>6 oval light objects very quickly rounded unde...</td>\n",
       "      <td>10/27/2004</td>\n",
       "      <td>55.288131</td>\n",
       "      <td>23.957728</td>\n",
       "    </tr>\n",
       "  </tbody>\n",
       "</table>\n",
       "</div>"
      ],
      "text/plain": [
       "             dates_time                        city state/province country  \\\n",
       "18  1973-10-10 23:00:00                 bermuda nas            NaN     NaN   \n",
       "35  1982-10-10 07:00:00      gisborne (new zealand)            NaN     NaN   \n",
       "55  1993-10-10 03:00:00           zlatoust (russia)            NaN     NaN   \n",
       "65  1996-10-10 20:00:00  lake macquarie (australia)            NaN     NaN   \n",
       "136 2004-10-10 15:20:00       kedainiai (lithuania)            NaN     NaN   \n",
       "\n",
       "    UFO_shape  length_of_encounter_seconds described_duration_of_encounter  \\\n",
       "18      light                         20.0                         20 sec.   \n",
       "35       disk                        120.0                            2min   \n",
       "55     sphere                       1200.0                      20 minutes   \n",
       "65      light                        300.0                           5 min   \n",
       "136      oval                        240.0                            4min   \n",
       "\n",
       "                                           description date_documented  \\\n",
       "18   saw fast moving blip on the radar scope thin w...       1/11/2002   \n",
       "35         gisborne nz 1982 wainui beach to sponge bay       1/11/2002   \n",
       "55   I woke up at night and looked out the window n...      12/14/2004   \n",
       "65   RED LIGHT WITH OTHER RED FLASHING LIGHT&#44 ON...       5/24/1999   \n",
       "136  6 oval light objects very quickly rounded unde...      10/27/2004   \n",
       "\n",
       "      latitude   longitude  \n",
       "18   32.364167  -64.678611  \n",
       "35  -38.662334  178.017649  \n",
       "55   55.183333   59.650000  \n",
       "65  -33.093373  151.588982  \n",
       "136  55.288131   23.957728  "
      ]
     },
     "execution_count": 33,
     "metadata": {},
     "output_type": "execute_result"
    }
   ],
   "source": [
    "# Affichage des valeurs null pour \"country\" et \"state/province\"\n",
    "ufo.loc[(ufo['country'].isnull()) & (\n",
    "         ufo['state/province'].isnull()), :].head(5)"
   ]
  },
  {
   "cell_type": "markdown",
   "metadata": {},
   "source": [
    "Récupération des valeurs `country` comprises dans la variable `city`"
   ]
  },
  {
   "cell_type": "markdown",
   "metadata": {},
   "source": [
    "Somme des valeurs `country` manquantes"
   ]
  },
  {
   "cell_type": "code",
   "execution_count": 34,
   "metadata": {
    "scrolled": true
   },
   "outputs": [
    {
     "data": {
      "text/plain": [
       "9396"
      ]
     },
     "execution_count": 34,
     "metadata": {},
     "output_type": "execute_result"
    }
   ],
   "source": [
    "ufo['country'].isnull().sum()"
   ]
  },
  {
   "cell_type": "markdown",
   "metadata": {},
   "source": [
    "Division de la chaîne de caractère de \"city\" par le caractère \"(\""
   ]
  },
  {
   "cell_type": "code",
   "execution_count": 35,
   "metadata": {},
   "outputs": [],
   "source": [
    "# Division de la chaîne de caractère de \"city\" par le caractère\"(\"\"\n",
    "ufo[\"city\"] = ufo.city.str.split(\"(\")"
   ]
  },
  {
   "cell_type": "markdown",
   "metadata": {},
   "source": [
    "Affichage de `city`"
   ]
  },
  {
   "cell_type": "code",
   "execution_count": 36,
   "metadata": {},
   "outputs": [
    {
     "data": {
      "text/plain": [
       "0                   [san marcos]\n",
       "1                 [lackland afb]\n",
       "2        [chester , uk/england)]\n",
       "3                         [edna]\n",
       "4                      [kaneohe]\n",
       "                  ...           \n",
       "80327                [nashville]\n",
       "80328                    [boise]\n",
       "80329                     [napa]\n",
       "80330                   [vienna]\n",
       "80331                   [edmond]\n",
       "Name: city, Length: 78400, dtype: object"
      ]
     },
     "execution_count": 36,
     "metadata": {},
     "output_type": "execute_result"
    }
   ],
   "source": [
    "ufo[\"city\"]"
   ]
  },
  {
   "cell_type": "markdown",
   "metadata": {},
   "source": [
    " Récupération du pays indiqué dans \"city\" (str[1]) quand \"country\" est null"
   ]
  },
  {
   "cell_type": "markdown",
   "metadata": {},
   "source": [
    "Lorsque que `country` est manquant, on implémente par la valeur après la parenthèse dans `city ` (elle correspond souvent au nom du pays manquant).  \n",
    "Cette valeur est considérée comme étant en index 1 de la liste générée par split().  \n",
    "Exemple: \"[chester , uk/england)]\" qui devient \"uk/england)\""
   ]
  },
  {
   "cell_type": "code",
   "execution_count": 37,
   "metadata": {},
   "outputs": [],
   "source": [
    "#  Récupération du pays indiqué dans \"city\" (str[1]) quand \"country\" est null\n",
    "ufo.loc[(ufo['country'].isnull()), 'country'] = ufo[\"city\"].str[1]    "
   ]
  },
  {
   "cell_type": "code",
   "execution_count": 38,
   "metadata": {
    "scrolled": true
   },
   "outputs": [
    {
     "data": {
      "text/plain": [
       "0                NaN\n",
       "1                NaN\n",
       "2        uk/england)\n",
       "3                NaN\n",
       "4                NaN\n",
       "            ...     \n",
       "80327            NaN\n",
       "80328            NaN\n",
       "80329            NaN\n",
       "80330            NaN\n",
       "80331            NaN\n",
       "Name: city, Length: 78400, dtype: object"
      ]
     },
     "execution_count": 38,
     "metadata": {},
     "output_type": "execute_result"
    }
   ],
   "source": [
    "ufo[\"city\"].str[1]"
   ]
  },
  {
   "cell_type": "markdown",
   "metadata": {},
   "source": [
    "Vérification de l'implémentation réalisée"
   ]
  },
  {
   "cell_type": "code",
   "execution_count": 39,
   "metadata": {
    "scrolled": false
   },
   "outputs": [
    {
     "data": {
      "text/html": [
       "<div>\n",
       "<style scoped>\n",
       "    .dataframe tbody tr th:only-of-type {\n",
       "        vertical-align: middle;\n",
       "    }\n",
       "\n",
       "    .dataframe tbody tr th {\n",
       "        vertical-align: top;\n",
       "    }\n",
       "\n",
       "    .dataframe thead th {\n",
       "        text-align: right;\n",
       "    }\n",
       "</style>\n",
       "<table border=\"1\" class=\"dataframe\">\n",
       "  <thead>\n",
       "    <tr style=\"text-align: right;\">\n",
       "      <th></th>\n",
       "      <th>dates_time</th>\n",
       "      <th>city</th>\n",
       "      <th>state/province</th>\n",
       "      <th>country</th>\n",
       "      <th>UFO_shape</th>\n",
       "      <th>length_of_encounter_seconds</th>\n",
       "      <th>described_duration_of_encounter</th>\n",
       "      <th>description</th>\n",
       "      <th>date_documented</th>\n",
       "      <th>latitude</th>\n",
       "      <th>longitude</th>\n",
       "    </tr>\n",
       "  </thead>\n",
       "  <tbody>\n",
       "    <tr>\n",
       "      <th>1036</th>\n",
       "      <td>2000-10-12 20:08:00</td>\n",
       "      <td>[brixham&amp;#44 devon , uk/england)]</td>\n",
       "      <td>NaN</td>\n",
       "      <td>uk/england)</td>\n",
       "      <td>light</td>\n",
       "      <td>600.0</td>\n",
       "      <td>10 minutes</td>\n",
       "      <td>Unusual lights which blink on and off&amp;#44 befo...</td>\n",
       "      <td>12/2/2000</td>\n",
       "      <td>50.39514</td>\n",
       "      <td>-3.513924</td>\n",
       "    </tr>\n",
       "    <tr>\n",
       "      <th>1733</th>\n",
       "      <td>1967-10-15 19:30:00</td>\n",
       "      <td>[knott - end. fleetwood , uk/england)]</td>\n",
       "      <td>NaN</td>\n",
       "      <td>uk/england)</td>\n",
       "      <td>light</td>\n",
       "      <td>600.0</td>\n",
       "      <td>5 - 10 mins</td>\n",
       "      <td>Strange lights in the sky Northern England in ...</td>\n",
       "      <td>2/18/2001</td>\n",
       "      <td>53.92766</td>\n",
       "      <td>-3.005850</td>\n",
       "    </tr>\n",
       "  </tbody>\n",
       "</table>\n",
       "</div>"
      ],
      "text/plain": [
       "              dates_time                                    city  \\\n",
       "1036 2000-10-12 20:08:00       [brixham&#44 devon , uk/england)]   \n",
       "1733 1967-10-15 19:30:00  [knott - end. fleetwood , uk/england)]   \n",
       "\n",
       "     state/province      country UFO_shape  length_of_encounter_seconds  \\\n",
       "1036            NaN  uk/england)     light                        600.0   \n",
       "1733            NaN  uk/england)     light                        600.0   \n",
       "\n",
       "     described_duration_of_encounter  \\\n",
       "1036                      10 minutes   \n",
       "1733                     5 - 10 mins   \n",
       "\n",
       "                                            description date_documented  \\\n",
       "1036  Unusual lights which blink on and off&#44 befo...       12/2/2000   \n",
       "1733  Strange lights in the sky Northern England in ...       2/18/2001   \n",
       "\n",
       "      latitude  longitude  \n",
       "1036  50.39514  -3.513924  \n",
       "1733  53.92766  -3.005850  "
      ]
     },
     "execution_count": 39,
     "metadata": {},
     "output_type": "execute_result"
    }
   ],
   "source": [
    "ufo[ufo.country == 'uk/england)'].head(2)"
   ]
  },
  {
   "cell_type": "markdown",
   "metadata": {},
   "source": [
    "On transforme '_uk/england)_'  en  '_England_', dénomination qui sera utilisée pour l'Angleterre"
   ]
  },
  {
   "cell_type": "code",
   "execution_count": 40,
   "metadata": {},
   "outputs": [],
   "source": [
    "ufo.loc[ufo.country == 'uk/england)', 'country'] = 'United Kingdom'"
   ]
  },
  {
   "cell_type": "markdown",
   "metadata": {},
   "source": [
    "Le nom des villes est laissé dans la colonne `city`"
   ]
  },
  {
   "cell_type": "code",
   "execution_count": 41,
   "metadata": {},
   "outputs": [],
   "source": [
    "#  Dans \"city\", on ne laisse que la ville (city)\n",
    "ufo[\"city\"] = ufo.city.str[0].explode()"
   ]
  },
  {
   "cell_type": "code",
   "execution_count": 42,
   "metadata": {},
   "outputs": [],
   "source": [
    "# Suppression des espaces après le nom de la ville\n",
    "ufo['city'] = ufo.city.str.strip()"
   ]
  },
  {
   "cell_type": "code",
   "execution_count": 43,
   "metadata": {},
   "outputs": [
    {
     "data": {
      "text/plain": [
       "array(['san marcos', 'lackland afb', 'chester', ..., 'calmar',\n",
       "       'aleksandrow', 'hamstead'], dtype=object)"
      ]
     },
     "execution_count": 43,
     "metadata": {},
     "output_type": "execute_result"
    }
   ],
   "source": [
    "ufo[\"city\"].unique()"
   ]
  },
  {
   "cell_type": "markdown",
   "metadata": {},
   "source": [
    "Nombre de valeurs manquantes restant pour `country`"
   ]
  },
  {
   "cell_type": "code",
   "execution_count": 44,
   "metadata": {},
   "outputs": [
    {
     "data": {
      "text/plain": [
       "5369"
      ]
     },
     "execution_count": 44,
     "metadata": {},
     "output_type": "execute_result"
    }
   ],
   "source": [
    "# Nombre de valeurs null restantes\n",
    "ufo['country'].isnull().sum()"
   ]
  },
  {
   "cell_type": "markdown",
   "metadata": {},
   "source": [
    "Suppression des données pour lesquelles les variables \"country\" et \"state/province\" sont toutes deux manquantes  \n",
    "Nombre de valeurs manquantes restant pour `country`"
   ]
  },
  {
   "cell_type": "code",
   "execution_count": 45,
   "metadata": {
    "scrolled": true
   },
   "outputs": [
    {
     "data": {
      "text/plain": [
       "4986"
      ]
     },
     "execution_count": 45,
     "metadata": {},
     "output_type": "execute_result"
    }
   ],
   "source": [
    "ufo_ss_nan = ufo.dropna(subset=['country', 'state/province'], how='all')\n",
    "ufo_ss_nan['country'].isnull().sum()"
   ]
  },
  {
   "cell_type": "markdown",
   "metadata": {},
   "source": [
    "Dimension du dataset partiellement nettoyé comparé à l'original"
   ]
  },
  {
   "cell_type": "code",
   "execution_count": 46,
   "metadata": {
    "scrolled": true
   },
   "outputs": [
    {
     "name": "stdout",
     "output_type": "stream",
     "text": [
      "dataset partiellement nettoyé: (78017, 11) VS dataset original: (78400, 11)\n"
     ]
    }
   ],
   "source": [
    "print(f'dataset partiellement nettoyé: {ufo_ss_nan.shape} VS dataset original: {ufo.shape}')"
   ]
  },
  {
   "cell_type": "markdown",
   "metadata": {},
   "source": [
    "On observe une perte raisonnable de données"
   ]
  },
  {
   "cell_type": "markdown",
   "metadata": {},
   "source": [
    "Recherche des valeurs manquantes et donc de la proportion de valeurs fournies"
   ]
  },
  {
   "cell_type": "code",
   "execution_count": 47,
   "metadata": {
    "scrolled": true
   },
   "outputs": [],
   "source": [
    "# Proportion des valeurs fournies avec le total des valeurs manquantes\n",
    "df_prop_missing_values = proportion_valeurs_fournies(ufo_ss_nan)"
   ]
  },
  {
   "cell_type": "code",
   "execution_count": 48,
   "metadata": {},
   "outputs": [
    {
     "data": {
      "text/html": [
       "<div>\n",
       "<style scoped>\n",
       "    .dataframe tbody tr th:only-of-type {\n",
       "        vertical-align: middle;\n",
       "    }\n",
       "\n",
       "    .dataframe tbody tr th {\n",
       "        vertical-align: top;\n",
       "    }\n",
       "\n",
       "    .dataframe thead th {\n",
       "        text-align: right;\n",
       "    }\n",
       "</style>\n",
       "<table border=\"1\" class=\"dataframe\">\n",
       "  <thead>\n",
       "    <tr style=\"text-align: right;\">\n",
       "      <th></th>\n",
       "      <th>total_val_manquantes</th>\n",
       "      <th>prop_val_fournies (%)</th>\n",
       "    </tr>\n",
       "    <tr>\n",
       "      <th>variable</th>\n",
       "      <th></th>\n",
       "      <th></th>\n",
       "    </tr>\n",
       "  </thead>\n",
       "  <tbody>\n",
       "    <tr>\n",
       "      <th>state/province</th>\n",
       "      <td>5275</td>\n",
       "      <td>93.238653</td>\n",
       "    </tr>\n",
       "    <tr>\n",
       "      <th>country</th>\n",
       "      <td>4986</td>\n",
       "      <td>93.609085</td>\n",
       "    </tr>\n",
       "    <tr>\n",
       "      <th>description</th>\n",
       "      <td>8</td>\n",
       "      <td>99.989746</td>\n",
       "    </tr>\n",
       "    <tr>\n",
       "      <th>city</th>\n",
       "      <td>1</td>\n",
       "      <td>99.998718</td>\n",
       "    </tr>\n",
       "    <tr>\n",
       "      <th>length_of_encounter_seconds</th>\n",
       "      <td>1</td>\n",
       "      <td>99.998718</td>\n",
       "    </tr>\n",
       "    <tr>\n",
       "      <th>latitude</th>\n",
       "      <td>1</td>\n",
       "      <td>99.998718</td>\n",
       "    </tr>\n",
       "    <tr>\n",
       "      <th>dates_time</th>\n",
       "      <td>0</td>\n",
       "      <td>100.000000</td>\n",
       "    </tr>\n",
       "    <tr>\n",
       "      <th>UFO_shape</th>\n",
       "      <td>0</td>\n",
       "      <td>100.000000</td>\n",
       "    </tr>\n",
       "    <tr>\n",
       "      <th>described_duration_of_encounter</th>\n",
       "      <td>0</td>\n",
       "      <td>100.000000</td>\n",
       "    </tr>\n",
       "    <tr>\n",
       "      <th>date_documented</th>\n",
       "      <td>0</td>\n",
       "      <td>100.000000</td>\n",
       "    </tr>\n",
       "    <tr>\n",
       "      <th>longitude</th>\n",
       "      <td>0</td>\n",
       "      <td>100.000000</td>\n",
       "    </tr>\n",
       "  </tbody>\n",
       "</table>\n",
       "</div>"
      ],
      "text/plain": [
       "                                 total_val_manquantes  prop_val_fournies (%)\n",
       "variable                                                                    \n",
       "state/province                                   5275              93.238653\n",
       "country                                          4986              93.609085\n",
       "description                                         8              99.989746\n",
       "city                                                1              99.998718\n",
       "length_of_encounter_seconds                         1              99.998718\n",
       "latitude                                            1              99.998718\n",
       "dates_time                                          0             100.000000\n",
       "UFO_shape                                           0             100.000000\n",
       "described_duration_of_encounter                     0             100.000000\n",
       "date_documented                                     0             100.000000\n",
       "longitude                                           0             100.000000"
      ]
     },
     "execution_count": 48,
     "metadata": {},
     "output_type": "execute_result"
    }
   ],
   "source": [
    "dd = df_prop_missing_values.set_index(\"variable\")\n",
    "dd"
   ]
  },
  {
   "cell_type": "markdown",
   "metadata": {},
   "source": [
    "Visualisation de la proportion de valeurs fournies"
   ]
  },
  {
   "cell_type": "code",
   "execution_count": 49,
   "metadata": {},
   "outputs": [
    {
     "data": {
      "text/plain": [
       "<Figure size 720x360 with 0 Axes>"
      ]
     },
     "metadata": {},
     "output_type": "display_data"
    },
    {
     "data": {
      "image/png": "[encoded data removed]",
      "text/plain": [
       "<Figure size 360x360 with 1 Axes>"
      ]
     },
     "metadata": {},
     "output_type": "display_data"
    }
   ],
   "source": [
    "plt.figure(figsize=(10, 5))\n",
    "sns.catplot(x=\"prop_val_fournies (%)\",\n",
    "            y=\"variable\",\n",
    "            kind=\"bar\",\n",
    "            data=df_prop_missing_values,\n",
    "            orient=\"h\")\n",
    "plt.title('Proportion des valeurs renseignées\\n dans le dataframe importé',\n",
    "          size=14)\n",
    "plt.xlabel('pourcentage de valeurs renseignées', size=12)\n",
    "plt.ylabel('variable du dataframe importé', size=12)\n",
    "plt.show();"
   ]
  },
  {
   "cell_type": "markdown",
   "metadata": {},
   "source": [
    "#### Variable \"length_of_encounter_seconds\" "
   ]
  },
  {
   "cell_type": "markdown",
   "metadata": {},
   "source": [
    "Une valeur de `length_of_encounter_seconds` est manquante. Après recherche, cette valeur est renseignée dans `described_duration_of_encounter`. On l'implémente."
   ]
  },
  {
   "cell_type": "code",
   "execution_count": 50,
   "metadata": {
    "scrolled": true
   },
   "outputs": [
    {
     "data": {
      "text/html": [
       "<div>\n",
       "<style scoped>\n",
       "    .dataframe tbody tr th:only-of-type {\n",
       "        vertical-align: middle;\n",
       "    }\n",
       "\n",
       "    .dataframe tbody tr th {\n",
       "        vertical-align: top;\n",
       "    }\n",
       "\n",
       "    .dataframe thead th {\n",
       "        text-align: right;\n",
       "    }\n",
       "</style>\n",
       "<table border=\"1\" class=\"dataframe\">\n",
       "  <thead>\n",
       "    <tr style=\"text-align: right;\">\n",
       "      <th></th>\n",
       "      <th>dates_time</th>\n",
       "      <th>city</th>\n",
       "      <th>state/province</th>\n",
       "      <th>country</th>\n",
       "      <th>UFO_shape</th>\n",
       "      <th>length_of_encounter_seconds</th>\n",
       "      <th>described_duration_of_encounter</th>\n",
       "      <th>description</th>\n",
       "      <th>date_documented</th>\n",
       "      <th>latitude</th>\n",
       "      <th>longitude</th>\n",
       "    </tr>\n",
       "  </thead>\n",
       "  <tbody>\n",
       "    <tr>\n",
       "      <th>58591</th>\n",
       "      <td>2006-07-21 13:00:00</td>\n",
       "      <td>ibague</td>\n",
       "      <td>NaN</td>\n",
       "      <td>colombia)</td>\n",
       "      <td>circle</td>\n",
       "      <td>NaN</td>\n",
       "      <td>1/2 segundo</td>\n",
       "      <td>Viajaba a 27.000 pies en un avion comercial ve...</td>\n",
       "      <td>10/30/2006</td>\n",
       "      <td>4.440663</td>\n",
       "      <td>-75.244141</td>\n",
       "    </tr>\n",
       "  </tbody>\n",
       "</table>\n",
       "</div>"
      ],
      "text/plain": [
       "               dates_time    city state/province    country UFO_shape  \\\n",
       "58591 2006-07-21 13:00:00  ibague            NaN  colombia)    circle   \n",
       "\n",
       "       length_of_encounter_seconds described_duration_of_encounter  \\\n",
       "58591                          NaN                     1/2 segundo   \n",
       "\n",
       "                                             description date_documented  \\\n",
       "58591  Viajaba a 27.000 pies en un avion comercial ve...      10/30/2006   \n",
       "\n",
       "       latitude  longitude  \n",
       "58591  4.440663 -75.244141  "
      ]
     },
     "execution_count": 50,
     "metadata": {},
     "output_type": "execute_result"
    }
   ],
   "source": [
    "# Recherche de la valeur null\n",
    "ufo_ss_nan.loc[ufo_ss_nan.length_of_encounter_seconds.isnull()].head(1)"
   ]
  },
  {
   "cell_type": "code",
   "execution_count": 51,
   "metadata": {},
   "outputs": [],
   "source": [
    "# Implémentation selon la valeur indiquée en \"described_duration_of_encounter\"\n",
    "ufo_ss_nan = ufo_ss_nan.copy()\n",
    "ufo_ss_nan.loc[ufo_ss_nan[\"length_of_encounter_seconds\"].isnull(),\n",
    "               'length_of_encounter_seconds'] = 0.5"
   ]
  },
  {
   "cell_type": "markdown",
   "metadata": {},
   "source": [
    "Aucune valeur manquante pour `length_of_encounter_seconds`"
   ]
  },
  {
   "cell_type": "code",
   "execution_count": 52,
   "metadata": {},
   "outputs": [
    {
     "data": {
      "text/plain": [
       "0"
      ]
     },
     "execution_count": 52,
     "metadata": {},
     "output_type": "execute_result"
    }
   ],
   "source": [
    "# Aucune valeur manquante\n",
    "ufo_ss_nan.length_of_encounter_seconds.isnull().sum()"
   ]
  },
  {
   "cell_type": "code",
   "execution_count": 53,
   "metadata": {
    "scrolled": true
   },
   "outputs": [],
   "source": [
    "import matplotlib.style as style\n",
    "# style.available"
   ]
  },
  {
   "cell_type": "markdown",
   "metadata": {},
   "source": [
    "Suppression des colonnes inutiles pour le reste de l'étude: `description`, `date_documented`, `described_duration_of_encounter`"
   ]
  },
  {
   "cell_type": "code",
   "execution_count": 54,
   "metadata": {},
   "outputs": [],
   "source": [
    "ufo_col = ufo_ss_nan.drop([\"description\", \"date_documented\",\n",
    "                           \"described_duration_of_encounter\"],\n",
    "                          axis=1)"
   ]
  },
  {
   "cell_type": "code",
   "execution_count": 55,
   "metadata": {
    "scrolled": false
   },
   "outputs": [
    {
     "data": {
      "text/html": [
       "<div>\n",
       "<style scoped>\n",
       "    .dataframe tbody tr th:only-of-type {\n",
       "        vertical-align: middle;\n",
       "    }\n",
       "\n",
       "    .dataframe tbody tr th {\n",
       "        vertical-align: top;\n",
       "    }\n",
       "\n",
       "    .dataframe thead th {\n",
       "        text-align: right;\n",
       "    }\n",
       "</style>\n",
       "<table border=\"1\" class=\"dataframe\">\n",
       "  <thead>\n",
       "    <tr style=\"text-align: right;\">\n",
       "      <th></th>\n",
       "      <th>dates_time</th>\n",
       "      <th>city</th>\n",
       "      <th>state/province</th>\n",
       "      <th>country</th>\n",
       "      <th>UFO_shape</th>\n",
       "      <th>length_of_encounter_seconds</th>\n",
       "      <th>latitude</th>\n",
       "      <th>longitude</th>\n",
       "    </tr>\n",
       "  </thead>\n",
       "  <tbody>\n",
       "    <tr>\n",
       "      <th>0</th>\n",
       "      <td>1949-10-10 20:30:00</td>\n",
       "      <td>san marcos</td>\n",
       "      <td>tx</td>\n",
       "      <td>us</td>\n",
       "      <td>cylinder</td>\n",
       "      <td>2700.0</td>\n",
       "      <td>29.883056</td>\n",
       "      <td>-97.941111</td>\n",
       "    </tr>\n",
       "    <tr>\n",
       "      <th>1</th>\n",
       "      <td>1949-10-10 21:00:00</td>\n",
       "      <td>lackland afb</td>\n",
       "      <td>tx</td>\n",
       "      <td>NaN</td>\n",
       "      <td>light</td>\n",
       "      <td>7200.0</td>\n",
       "      <td>29.384210</td>\n",
       "      <td>-98.581082</td>\n",
       "    </tr>\n",
       "  </tbody>\n",
       "</table>\n",
       "</div>"
      ],
      "text/plain": [
       "           dates_time          city state/province country UFO_shape  \\\n",
       "0 1949-10-10 20:30:00    san marcos             tx      us  cylinder   \n",
       "1 1949-10-10 21:00:00  lackland afb             tx     NaN     light   \n",
       "\n",
       "   length_of_encounter_seconds   latitude  longitude  \n",
       "0                       2700.0  29.883056 -97.941111  \n",
       "1                       7200.0  29.384210 -98.581082  "
      ]
     },
     "execution_count": 55,
     "metadata": {},
     "output_type": "execute_result"
    }
   ],
   "source": [
    "ufo_col.head(2)"
   ]
  },
  {
   "cell_type": "code",
   "execution_count": 56,
   "metadata": {
    "scrolled": true
   },
   "outputs": [
    {
     "data": {
      "text/html": [
       "<div>\n",
       "<style scoped>\n",
       "    .dataframe tbody tr th:only-of-type {\n",
       "        vertical-align: middle;\n",
       "    }\n",
       "\n",
       "    .dataframe tbody tr th {\n",
       "        vertical-align: top;\n",
       "    }\n",
       "\n",
       "    .dataframe thead th {\n",
       "        text-align: right;\n",
       "    }\n",
       "</style>\n",
       "<table border=\"1\" class=\"dataframe\">\n",
       "  <thead>\n",
       "    <tr style=\"text-align: right;\">\n",
       "      <th></th>\n",
       "      <th>dates_time</th>\n",
       "      <th>city</th>\n",
       "      <th>state/province</th>\n",
       "      <th>country</th>\n",
       "      <th>UFO_shape</th>\n",
       "      <th>length_of_encounter_seconds</th>\n",
       "      <th>latitude</th>\n",
       "      <th>longitude</th>\n",
       "    </tr>\n",
       "  </thead>\n",
       "  <tbody>\n",
       "    <tr>\n",
       "      <th>1</th>\n",
       "      <td>1949-10-10 21:00:00</td>\n",
       "      <td>lackland afb</td>\n",
       "      <td>tx</td>\n",
       "      <td>NaN</td>\n",
       "      <td>light</td>\n",
       "      <td>7200.0</td>\n",
       "      <td>29.384210</td>\n",
       "      <td>-98.581082</td>\n",
       "    </tr>\n",
       "    <tr>\n",
       "      <th>40</th>\n",
       "      <td>1986-10-10 20:00:00</td>\n",
       "      <td>holmes</td>\n",
       "      <td>ny</td>\n",
       "      <td>NaN</td>\n",
       "      <td>chevron</td>\n",
       "      <td>180.0</td>\n",
       "      <td>41.523427</td>\n",
       "      <td>-73.646795</td>\n",
       "    </tr>\n",
       "  </tbody>\n",
       "</table>\n",
       "</div>"
      ],
      "text/plain": [
       "            dates_time          city state/province country UFO_shape  \\\n",
       "1  1949-10-10 21:00:00  lackland afb             tx     NaN     light   \n",
       "40 1986-10-10 20:00:00        holmes             ny     NaN   chevron   \n",
       "\n",
       "    length_of_encounter_seconds   latitude  longitude  \n",
       "1                        7200.0  29.384210 -98.581082  \n",
       "40                        180.0  41.523427 -73.646795  "
      ]
     },
     "execution_count": 56,
     "metadata": {},
     "output_type": "execute_result"
    }
   ],
   "source": [
    "ufo_col.loc[ufo_col[\"country\"].isnull()].head(2)"
   ]
  },
  {
   "cell_type": "markdown",
   "metadata": {},
   "source": [
    "Il reste encore des valeurs manquantes pour `country`"
   ]
  },
  {
   "cell_type": "code",
   "execution_count": 57,
   "metadata": {
    "scrolled": true
   },
   "outputs": [
    {
     "data": {
      "text/plain": [
       "4986"
      ]
     },
     "execution_count": 57,
     "metadata": {},
     "output_type": "execute_result"
    }
   ],
   "source": [
    "ufo_col[\"country\"].isnull().sum()"
   ]
  },
  {
   "cell_type": "code",
   "execution_count": 58,
   "metadata": {},
   "outputs": [
    {
     "data": {
      "text/plain": [
       "29"
      ]
     },
     "execution_count": 58,
     "metadata": {},
     "output_type": "execute_result"
    }
   ],
   "source": [
    "ufo_col.UFO_shape.nunique()"
   ]
  },
  {
   "cell_type": "markdown",
   "metadata": {},
   "source": [
    "Variables quantitatives"
   ]
  },
  {
   "cell_type": "markdown",
   "metadata": {},
   "source": [
    "Seule `length_of_encounter_seconds` est une variable quantitative"
   ]
  },
  {
   "cell_type": "markdown",
   "metadata": {},
   "source": [
    "On remarque qu'il y a une forte probabilité qu'il y ait des valeurs aberrantes, des outliers. On les traitera lors de l'analyse de données."
   ]
  },
  {
   "cell_type": "code",
   "execution_count": 59,
   "metadata": {
    "scrolled": false
   },
   "outputs": [
    {
     "data": {
      "text/plain": [
       "count    7.801700e+04\n",
       "mean     8.109150e+03\n",
       "std      5.983912e+05\n",
       "min      1.000000e-03\n",
       "25%      3.000000e+01\n",
       "50%      1.800000e+02\n",
       "75%      6.000000e+02\n",
       "max      9.783600e+07\n",
       "Name: length_of_encounter_seconds, dtype: float64"
      ]
     },
     "execution_count": 59,
     "metadata": {},
     "output_type": "execute_result"
    }
   ],
   "source": [
    "ufo_col['length_of_encounter_seconds'].describe()"
   ]
  },
  {
   "cell_type": "markdown",
   "metadata": {},
   "source": [
    "Poursuite du traitement des autres valeurs manquantes"
   ]
  },
  {
   "cell_type": "markdown",
   "metadata": {},
   "source": [
    "#### Variable \"country\" par la variable \"state/province\""
   ]
  },
  {
   "cell_type": "markdown",
   "metadata": {},
   "source": [
    "Implémentation des `country` manquantes avec les valeurs de `state/province`.  \n",
    "On récupère les valeurs de `country` les plus courantes dans une liste. Pour chaque valeur de `country` de cette liste, on récupère les différentes valeurs de `state/province`.  \n",
    "Pour chaque `country` manquante, on implémente la valeur `country` correspondant au `state/province`."
   ]
  },
  {
   "cell_type": "markdown",
   "metadata": {},
   "source": [
    "Liste des `country` les plus fréquentes"
   ]
  },
  {
   "cell_type": "code",
   "execution_count": 60,
   "metadata": {},
   "outputs": [],
   "source": [
    "country_list = ['us', 'gb', 'ca', 'au', 'de']"
   ]
  },
  {
   "cell_type": "markdown",
   "metadata": {},
   "source": [
    "Des villes canadiennes du Nunavut ont été à tort attribuées aux USA  \n",
    "Nous allons les réattribuer au Canada "
   ]
  },
  {
   "cell_type": "markdown",
   "metadata": {},
   "source": [
    "Implémentation de `country` = 'Canada' correspondant au Canada et non aux USA"
   ]
  },
  {
   "cell_type": "code",
   "execution_count": 61,
   "metadata": {},
   "outputs": [],
   "source": [
    "canadian_city_list = ['Alert', 'Baker Lake', 'Cambridge Bay',\n",
    "                      'Eureka', 'Iqaluit', 'Kugluktuk', \n",
    "                      'Rankin Inlet']\n",
    "\n",
    "for item in canadian_city_list:\n",
    "    ufo_col.loc[ufo_col['city']== item, 'country'] = 'Canada'\n",
    "    "
   ]
  },
  {
   "cell_type": "markdown",
   "metadata": {},
   "source": [
    "Implémentation de `state/province` = 'NU' correspondant au terrictoire Nunavut"
   ]
  },
  {
   "cell_type": "code",
   "execution_count": 62,
   "metadata": {},
   "outputs": [],
   "source": [
    "canadian_city_list = ['Alert', 'Baker Lake', 'Cambridge Bay',\n",
    "                      'Eureka', 'Iqaluit', 'Kugluktuk',\n",
    "                      'Rankin Inlet']\n",
    "\n",
    "for item in canadian_city_list:\n",
    "    ufo_col.loc[ufo_col['city'] == item, 'state/province'] = 'NU'"
   ]
  },
  {
   "cell_type": "code",
   "execution_count": 63,
   "metadata": {},
   "outputs": [
    {
     "data": {
      "text/html": [
       "<div>\n",
       "<style scoped>\n",
       "    .dataframe tbody tr th:only-of-type {\n",
       "        vertical-align: middle;\n",
       "    }\n",
       "\n",
       "    .dataframe tbody tr th {\n",
       "        vertical-align: top;\n",
       "    }\n",
       "\n",
       "    .dataframe thead th {\n",
       "        text-align: right;\n",
       "    }\n",
       "</style>\n",
       "<table border=\"1\" class=\"dataframe\">\n",
       "  <thead>\n",
       "    <tr style=\"text-align: right;\">\n",
       "      <th></th>\n",
       "      <th>dates_time</th>\n",
       "      <th>city</th>\n",
       "      <th>state/province</th>\n",
       "      <th>country</th>\n",
       "      <th>UFO_shape</th>\n",
       "      <th>length_of_encounter_seconds</th>\n",
       "      <th>latitude</th>\n",
       "      <th>longitude</th>\n",
       "    </tr>\n",
       "  </thead>\n",
       "  <tbody>\n",
       "  </tbody>\n",
       "</table>\n",
       "</div>"
      ],
      "text/plain": [
       "Empty DataFrame\n",
       "Columns: [dates_time, city, state/province, country, UFO_shape, length_of_encounter_seconds, latitude, longitude]\n",
       "Index: []"
      ]
     },
     "execution_count": 63,
     "metadata": {},
     "output_type": "execute_result"
    }
   ],
   "source": [
    "ufo_col[ufo_col['city'] == 'Eureka']"
   ]
  },
  {
   "cell_type": "markdown",
   "metadata": {},
   "source": [
    "Implémentation des valeurs `country` manquantes par `state/province`"
   ]
  },
  {
   "cell_type": "code",
   "execution_count": 64,
   "metadata": {},
   "outputs": [],
   "source": [
    "implement_nan(country_list, 'country', 'state/province', ufo_col)"
   ]
  },
  {
   "cell_type": "markdown",
   "metadata": {},
   "source": [
    "Aucune valeur manquante pour la variable `country`"
   ]
  },
  {
   "cell_type": "code",
   "execution_count": 65,
   "metadata": {
    "scrolled": false
   },
   "outputs": [
    {
     "data": {
      "text/plain": [
       "0"
      ]
     },
     "execution_count": 65,
     "metadata": {},
     "output_type": "execute_result"
    }
   ],
   "source": [
    "# Aucune valeur manquante pour la variable \"country\"\n",
    "ufo_col['country'].isnull().sum()"
   ]
  },
  {
   "cell_type": "markdown",
   "metadata": {},
   "source": [
    "#### Variable \"state/province\"  par la variable \"city\""
   ]
  },
  {
   "cell_type": "markdown",
   "metadata": {},
   "source": [
    "Nombre de valeurs manquantes"
   ]
  },
  {
   "cell_type": "code",
   "execution_count": 66,
   "metadata": {},
   "outputs": [
    {
     "data": {
      "text/plain": [
       "dates_time                        0\n",
       "city                              1\n",
       "state/province                 5275\n",
       "country                           0\n",
       "UFO_shape                         0\n",
       "length_of_encounter_seconds       0\n",
       "latitude                          1\n",
       "longitude                         0\n",
       "dtype: int64"
      ]
     },
     "execution_count": 66,
     "metadata": {},
     "output_type": "execute_result"
    }
   ],
   "source": [
    "ufo_col.isnull().sum()"
   ]
  },
  {
   "cell_type": "markdown",
   "metadata": {},
   "source": [
    "Implémentation des `state/province` manquantes avec les valeurs de `city`.  \n",
    "On récupère les valeurs de `state/province` dans une liste. Pour chaque valeur de `state/province` de cette liste, on récupère les différentes valeurs de `city`.  \n",
    "Pour chaque `state/province` manquante, on implémente la valeur `state/province` correspondant à `city`."
   ]
  },
  {
   "cell_type": "code",
   "execution_count": 67,
   "metadata": {
    "scrolled": true
   },
   "outputs": [
    {
     "data": {
      "text/plain": [
       "array(['tx', nan, 'hi', 'tn', 'ct', 'al', 'fl', 'ca', 'nc', 'ny', 'ky',\n",
       "       'mi', 'ma', 'ks', 'sc', 'wa', 'ab', 'co', 'nh', 'wi', 'me', 'ga',\n",
       "       'pa', 'il', 'ar', 'on', 'mo', 'oh', 'in', 'az', 'mn', 'nv', 'nf',\n",
       "       'ne', 'or', 'bc', 'ia', 'va', 'id', 'nm', 'nj', 'mb', 'wv', 'ok',\n",
       "       'ri', 'nb', 'vt', 'la', 'pr', 'ak', 'ms', 'ut', 'md', 'mt', 'sk',\n",
       "       'wy', 'sd', 'pq', 'ns', 'qc', 'de', 'nd', 'dc', 'nt', 'sa', 'yt',\n",
       "       'yk', 'pe'], dtype=object)"
      ]
     },
     "execution_count": 67,
     "metadata": {},
     "output_type": "execute_result"
    }
   ],
   "source": [
    "ufo_col[\"state/province\"].unique()"
   ]
  },
  {
   "cell_type": "markdown",
   "metadata": {},
   "source": [
    "Liste des `state/province` les plus fréquentes"
   ]
  },
  {
   "cell_type": "code",
   "execution_count": 68,
   "metadata": {},
   "outputs": [],
   "source": [
    "state_list = ['tx', 'hi', 'tn', 'ct', 'al', 'fl', 'ca', 'nc', 'ny', 'ky', 'mi', 'ma',\n",
    "              'ks', 'sc', 'wa', 'ab', 'co', 'nh', 'wi', 'me', 'ga', 'pa', 'il', 'ar', 'on',\n",
    "              'mo', 'oh', 'in', 'az', 'mn', 'nv', 'nf', 'ne', 'or', 'bc', 'ia', 'va', 'id',\n",
    "              'nm', 'nj', 'mb', 'wv', 'ok', 'ri', 'nb', 'vt', 'la', 'pr', 'ak', 'ms', 'ut',\n",
    "              'md', 'mt', 'sk', 'wy', 'sd', 'pq', 'ns', 'qc', 'de', 'nd', 'dc', 'nt', 'sa',\n",
    "              'yt', 'yk', 'pe']"
   ]
  },
  {
   "cell_type": "markdown",
   "metadata": {},
   "source": [
    "Implémentation des valeurs `state/province` manquantes par `city`"
   ]
  },
  {
   "cell_type": "code",
   "execution_count": 69,
   "metadata": {
    "scrolled": false
   },
   "outputs": [],
   "source": [
    "implement_nan(state_list, 'state/province', 'city', ufo_col)"
   ]
  },
  {
   "cell_type": "markdown",
   "metadata": {},
   "source": [
    "Il reste encore des valeurs manquantes de `state/province`"
   ]
  },
  {
   "cell_type": "code",
   "execution_count": 70,
   "metadata": {
    "scrolled": true
   },
   "outputs": [
    {
     "data": {
      "text/plain": [
       "dates_time                        0\n",
       "city                              1\n",
       "state/province                 3705\n",
       "country                           0\n",
       "UFO_shape                         0\n",
       "length_of_encounter_seconds       0\n",
       "latitude                          1\n",
       "longitude                         0\n",
       "dtype: int64"
      ]
     },
     "execution_count": 70,
     "metadata": {},
     "output_type": "execute_result"
    }
   ],
   "source": [
    "# Nombre de valeurs null\n",
    "ufo_col.isnull().sum()"
   ]
  },
  {
   "cell_type": "markdown",
   "metadata": {},
   "source": [
    "#### Variable \"latitude\"  "
   ]
  },
  {
   "cell_type": "markdown",
   "metadata": {},
   "source": [
    "source : https://latitude.to/articles-by-country/us/united-states/13108/mescalero"
   ]
  },
  {
   "cell_type": "markdown",
   "metadata": {},
   "source": [
    "Il y a une valeur manquante pour `latitude`. Il s'agit de la ville de \"Mescalero\" (localité indienne)."
   ]
  },
  {
   "cell_type": "code",
   "execution_count": 71,
   "metadata": {
    "scrolled": false
   },
   "outputs": [
    {
     "data": {
      "text/html": [
       "<div>\n",
       "<style scoped>\n",
       "    .dataframe tbody tr th:only-of-type {\n",
       "        vertical-align: middle;\n",
       "    }\n",
       "\n",
       "    .dataframe tbody tr th {\n",
       "        vertical-align: top;\n",
       "    }\n",
       "\n",
       "    .dataframe thead th {\n",
       "        text-align: right;\n",
       "    }\n",
       "</style>\n",
       "<table border=\"1\" class=\"dataframe\">\n",
       "  <thead>\n",
       "    <tr style=\"text-align: right;\">\n",
       "      <th></th>\n",
       "      <th>dates_time</th>\n",
       "      <th>city</th>\n",
       "      <th>state/province</th>\n",
       "      <th>country</th>\n",
       "      <th>UFO_shape</th>\n",
       "      <th>length_of_encounter_seconds</th>\n",
       "      <th>latitude</th>\n",
       "      <th>longitude</th>\n",
       "    </tr>\n",
       "  </thead>\n",
       "  <tbody>\n",
       "    <tr>\n",
       "      <th>43782</th>\n",
       "      <td>1974-05-22 05:30:00</td>\n",
       "      <td>mescalero indian reservation</td>\n",
       "      <td>nm</td>\n",
       "      <td>us</td>\n",
       "      <td>rectangle</td>\n",
       "      <td>180.0</td>\n",
       "      <td>NaN</td>\n",
       "      <td>-105.624152</td>\n",
       "    </tr>\n",
       "  </tbody>\n",
       "</table>\n",
       "</div>"
      ],
      "text/plain": [
       "               dates_time                          city state/province  \\\n",
       "43782 1974-05-22 05:30:00  mescalero indian reservation             nm   \n",
       "\n",
       "      country  UFO_shape  length_of_encounter_seconds  latitude   longitude  \n",
       "43782      us  rectangle                        180.0       NaN -105.624152  "
      ]
     },
     "execution_count": 71,
     "metadata": {},
     "output_type": "execute_result"
    }
   ],
   "source": [
    "ufo_col[ufo_col.latitude.isnull()].head(1)"
   ]
  },
  {
   "cell_type": "markdown",
   "metadata": {},
   "source": [
    "La latitude de de Mescalero est implémentée par sa valeur trouvée sur internet"
   ]
  },
  {
   "cell_type": "code",
   "execution_count": 72,
   "metadata": {},
   "outputs": [],
   "source": [
    "ufo_col.loc[ufo_col.latitude.isnull(), 'latitude'] = 33.173665"
   ]
  },
  {
   "cell_type": "markdown",
   "metadata": {},
   "source": [
    "La variable `latitude` n'a plus de valeur manquante"
   ]
  },
  {
   "cell_type": "code",
   "execution_count": 73,
   "metadata": {
    "scrolled": false
   },
   "outputs": [
    {
     "data": {
      "text/plain": [
       "dates_time                        0\n",
       "city                              1\n",
       "state/province                 3705\n",
       "country                           0\n",
       "UFO_shape                         0\n",
       "length_of_encounter_seconds       0\n",
       "latitude                          0\n",
       "longitude                         0\n",
       "dtype: int64"
      ]
     },
     "execution_count": 73,
     "metadata": {},
     "output_type": "execute_result"
    }
   ],
   "source": [
    "ufo_col.isnull().sum()"
   ]
  },
  {
   "cell_type": "markdown",
   "metadata": {},
   "source": [
    "Nous supprimons les parenthèses présentes dans quelques items de la variable `country`"
   ]
  },
  {
   "cell_type": "code",
   "execution_count": 74,
   "metadata": {},
   "outputs": [],
   "source": [
    "# Suppression des caractères \"parasites\" des la colonne \"country\"\n",
    "ufo_col['country'] = ufo_col['country'].str.replace(')', \"\")                     "
   ]
  },
  {
   "cell_type": "markdown",
   "metadata": {},
   "source": [
    "#### Implémentation des provinces de l'Angleterre"
   ]
  },
  {
   "cell_type": "markdown",
   "metadata": {},
   "source": [
    "Importation du fichier contenant les provinces d'Angleterre récupérées sur internet  \n",
    "sources:  \n",
    "- https://en.wikipedia.org/wiki/List_of_cities_in_the_United_Kingdom  \n",
    "- https://postcodebyaddress.co.uk/post-towns     \n",
    "    "
   ]
  },
  {
   "cell_type": "markdown",
   "metadata": {},
   "source": [
    "Récupération des différentes provinces des villes d'Angleterre sur internet.  \n",
    "Chaque item de `city` correspond à une province anglaise.  \n",
    "Ces provinces sont contenues dans la variable `state`.  \n",
    "Ces données sont dans le fichier \"list_state_uk_cvs.csv\"\n",
    "\n"
   ]
  },
  {
   "cell_type": "markdown",
   "metadata": {},
   "source": [
    "Importation et lecture du fichier \"list_state_uk_cvs.csv\""
   ]
  },
  {
   "cell_type": "code",
   "execution_count": 75,
   "metadata": {},
   "outputs": [],
   "source": [
    "df_state_uk_prov = pd.read_csv(\"list_state_uk_cvs.csv\",\n",
    "                               decimal=\",\",\n",
    "                               encoding=ENCODAGE).copy()"
   ]
  },
  {
   "cell_type": "markdown",
   "metadata": {},
   "source": [
    "Ajout d'une colonne \"country\" initialisée à \"England\" en vue d'une prochaine fusion"
   ]
  },
  {
   "cell_type": "code",
   "execution_count": 76,
   "metadata": {},
   "outputs": [],
   "source": [
    "# Ajout d'une colonne \"country\" initialisée à \"England\" en vue d'une prochaine fusion\n",
    "df_state_uk_prov['country'] = \"United Kingdom\""
   ]
  },
  {
   "cell_type": "code",
   "execution_count": 77,
   "metadata": {
    "scrolled": true
   },
   "outputs": [
    {
     "data": {
      "text/html": [
       "<div>\n",
       "<style scoped>\n",
       "    .dataframe tbody tr th:only-of-type {\n",
       "        vertical-align: middle;\n",
       "    }\n",
       "\n",
       "    .dataframe tbody tr th {\n",
       "        vertical-align: top;\n",
       "    }\n",
       "\n",
       "    .dataframe thead th {\n",
       "        text-align: right;\n",
       "    }\n",
       "</style>\n",
       "<table border=\"1\" class=\"dataframe\">\n",
       "  <thead>\n",
       "    <tr style=\"text-align: right;\">\n",
       "      <th></th>\n",
       "      <th>city</th>\n",
       "      <th>state</th>\n",
       "      <th>country</th>\n",
       "    </tr>\n",
       "  </thead>\n",
       "  <tbody>\n",
       "    <tr>\n",
       "      <th>1622</th>\n",
       "      <td>New Brighton (PA)</td>\n",
       "      <td>Yorkshire and the Humber</td>\n",
       "      <td>United Kingdom</td>\n",
       "    </tr>\n",
       "    <tr>\n",
       "      <th>1623</th>\n",
       "      <td>Guilford (CT)</td>\n",
       "      <td>South West of England</td>\n",
       "      <td>United Kingdom</td>\n",
       "    </tr>\n",
       "    <tr>\n",
       "      <th>1624</th>\n",
       "      <td>Fife (WA)</td>\n",
       "      <td>Scotland</td>\n",
       "      <td>United Kingdom</td>\n",
       "    </tr>\n",
       "    <tr>\n",
       "      <th>1625</th>\n",
       "      <td>Saxton (PA)</td>\n",
       "      <td>Yorkshire and the Humber</td>\n",
       "      <td>United Kingdom</td>\n",
       "    </tr>\n",
       "    <tr>\n",
       "      <th>1626</th>\n",
       "      <td>Hope (ME)</td>\n",
       "      <td>Scotland</td>\n",
       "      <td>United Kingdom</td>\n",
       "    </tr>\n",
       "  </tbody>\n",
       "</table>\n",
       "</div>"
      ],
      "text/plain": [
       "                    city                     state         country\n",
       "1622  New Brighton (PA)   Yorkshire and the Humber  United Kingdom\n",
       "1623      Guilford (CT)      South West of England  United Kingdom\n",
       "1624          Fife (WA)                   Scotland  United Kingdom\n",
       "1625        Saxton (PA)   Yorkshire and the Humber  United Kingdom\n",
       "1626           Hope (ME)                  Scotland  United Kingdom"
      ]
     },
     "execution_count": 77,
     "metadata": {},
     "output_type": "execute_result"
    }
   ],
   "source": [
    "df_state_uk_prov.tail()"
   ]
  },
  {
   "cell_type": "markdown",
   "metadata": {},
   "source": [
    "Dimension du dataset"
   ]
  },
  {
   "cell_type": "code",
   "execution_count": 78,
   "metadata": {
    "scrolled": false
   },
   "outputs": [
    {
     "data": {
      "text/plain": [
       "(1627, 3)"
      ]
     },
     "execution_count": 78,
     "metadata": {},
     "output_type": "execute_result"
    }
   ],
   "source": [
    "df_state_uk_prov.shape"
   ]
  },
  {
   "cell_type": "markdown",
   "metadata": {},
   "source": [
    "Nombre de valeurs dupliquées"
   ]
  },
  {
   "cell_type": "code",
   "execution_count": 79,
   "metadata": {},
   "outputs": [
    {
     "data": {
      "text/plain": [
       "0"
      ]
     },
     "execution_count": 79,
     "metadata": {},
     "output_type": "execute_result"
    }
   ],
   "source": [
    "# Aucune valeur dupliquée\n",
    "df_state_uk_prov.duplicated().sum()"
   ]
  },
  {
   "cell_type": "markdown",
   "metadata": {},
   "source": [
    "Nombre de valeurs null"
   ]
  },
  {
   "cell_type": "code",
   "execution_count": 80,
   "metadata": {
    "scrolled": true
   },
   "outputs": [
    {
     "data": {
      "text/plain": [
       "city       0\n",
       "state      0\n",
       "country    0\n",
       "dtype: int64"
      ]
     },
     "execution_count": 80,
     "metadata": {},
     "output_type": "execute_result"
    }
   ],
   "source": [
    "# Aucune valeur null\n",
    "df_state_uk_prov.isnull().sum()"
   ]
  },
  {
   "cell_type": "markdown",
   "metadata": {},
   "source": [
    "On crée une colonne `state/province` qui récupère les codes entre parenthèse de `city`"
   ]
  },
  {
   "cell_type": "code",
   "execution_count": 81,
   "metadata": {},
   "outputs": [],
   "source": [
    "# Création d'une colonne \"state/province\" qui comprend les codes récupérés dans \"city\"\n",
    "df_state_uk_prov['state/province'] = df_state_uk_prov['city']\\\n",
    ".str.split().str[1]\\\n",
    ".str.replace('(', \"\")\\\n",
    ".str[0:2].str.replace(')', \"\")                       "
   ]
  },
  {
   "cell_type": "markdown",
   "metadata": {},
   "source": [
    "Nombre de `state/province` différents"
   ]
  },
  {
   "cell_type": "code",
   "execution_count": 82,
   "metadata": {
    "scrolled": true
   },
   "outputs": [
    {
     "data": {
      "text/plain": [
       "201"
      ]
     },
     "execution_count": 82,
     "metadata": {},
     "output_type": "execute_result"
    }
   ],
   "source": [
    "df_state_uk_prov['state/province'].nunique()"
   ]
  },
  {
   "cell_type": "code",
   "execution_count": 83,
   "metadata": {
    "scrolled": false
   },
   "outputs": [
    {
     "data": {
      "text/plain": [
       "array(['', 'AB', 'AL', 'Ab', 'Ag', 'Al', 'An', 'Ar', 'As', 'Au', 'Ay',\n",
       "       'B', 'BA', 'BB', 'BD', 'BH', 'BL', 'BN', 'BR', 'BS', 'BT', 'Ba',\n",
       "       'Be', 'Bo', 'Br', 'Bu', 'By', 'CA', 'CB', 'CF', 'CH', 'CM', 'CO',\n",
       "       'CR', 'CT', 'CV', 'CW', 'Ca', 'Co', 'Cr', 'DA', 'DD', 'DE', 'DG',\n",
       "       'DH', 'DL', 'DN', 'DT', 'DY', 'Di', 'Do', 'Dr', 'Du', 'E', 'EH',\n",
       "       'EN', 'EX', 'Ea', 'Ed', 'Em', 'En', 'FK', 'FY', 'Fe', 'Ff', 'Fi',\n",
       "       'Fo', 'G', 'GL', 'GU', 'Ga', 'Gi', 'Gl', 'Gr', 'HA', 'HD', 'HG',\n",
       "       'HP', 'HR', 'HS', 'HU', 'HX', 'Ha', 'He', 'Hi', 'IG', 'IP', 'IV',\n",
       "       'In', 'Is', 'Iv', 'Ju', 'KA', 'KT', 'KW', 'KY', 'Ke', 'Ki', 'L',\n",
       "       'LA', 'LD', 'LE', 'LL', 'LN', 'LS', 'LU', 'La', 'Li', 'Ly', 'M',\n",
       "       'ME', 'MK', 'ML', 'Ma', 'Mi', 'Mo', 'NC', 'NE', 'NG', 'NN', 'NP',\n",
       "       'NR', 'Ne', 'No', 'OL', 'OX', 'Oc', 'Of', 'PA', 'PE', 'PH', 'PL',\n",
       "       'PO', 'PR', 'Pa', 'Pe', 'Po', 'Pr', 'Qu', 'RG', 'RH', 'RM', 'Ra',\n",
       "       'Re', 'Ri', 'Ro', 'S', 'SA', 'SE', 'SG', 'SK', 'SL', 'SM', 'SN',\n",
       "       'SO', 'SP', 'SR', 'SS', 'ST', 'SY', 'Sa', 'Sh', 'Sp', 'St', 'Su',\n",
       "       'TA', 'TD', 'TF', 'TN', 'TQ', 'TR', 'TS', 'TW', 'Ta', 'Tr', 'Ty',\n",
       "       'UB', 'Up', 'Va', 'WA', 'WD', 'WF', 'WN', 'WR', 'WS', 'WV', 'Wa',\n",
       "       'We', 'Wi', 'Wo', 'Wy', 'YO', 'Ya', 'Yo', 'ZE', 'an', 'in', 'le',\n",
       "       'of', 'on', 'up'], dtype=object)"
      ]
     },
     "execution_count": 83,
     "metadata": {},
     "output_type": "execute_result"
    }
   ],
   "source": [
    "df_state_uk_prov['state/province'].sort_values().unique()"
   ]
  },
  {
   "cell_type": "markdown",
   "metadata": {},
   "source": [
    "Aperçu du dataset "
   ]
  },
  {
   "cell_type": "code",
   "execution_count": 84,
   "metadata": {
    "scrolled": true
   },
   "outputs": [
    {
     "data": {
      "text/html": [
       "<div>\n",
       "<style scoped>\n",
       "    .dataframe tbody tr th:only-of-type {\n",
       "        vertical-align: middle;\n",
       "    }\n",
       "\n",
       "    .dataframe tbody tr th {\n",
       "        vertical-align: top;\n",
       "    }\n",
       "\n",
       "    .dataframe thead th {\n",
       "        text-align: right;\n",
       "    }\n",
       "</style>\n",
       "<table border=\"1\" class=\"dataframe\">\n",
       "  <thead>\n",
       "    <tr style=\"text-align: right;\">\n",
       "      <th></th>\n",
       "      <th>city</th>\n",
       "      <th>state</th>\n",
       "      <th>country</th>\n",
       "      <th>state/province</th>\n",
       "    </tr>\n",
       "  </thead>\n",
       "  <tbody>\n",
       "    <tr>\n",
       "      <th>0</th>\n",
       "      <td>Alford (LN)</td>\n",
       "      <td>East Midlands</td>\n",
       "      <td>United Kingdom</td>\n",
       "      <td>LN</td>\n",
       "    </tr>\n",
       "    <tr>\n",
       "      <th>1</th>\n",
       "      <td>Ashby-de-la-Zouch (LE)</td>\n",
       "      <td>East Midlands</td>\n",
       "      <td>United Kingdom</td>\n",
       "      <td>LE</td>\n",
       "    </tr>\n",
       "    <tr>\n",
       "      <th>2</th>\n",
       "      <td>Boston (PE)</td>\n",
       "      <td>East Midlands</td>\n",
       "      <td>United Kingdom</td>\n",
       "      <td>PE</td>\n",
       "    </tr>\n",
       "  </tbody>\n",
       "</table>\n",
       "</div>"
      ],
      "text/plain": [
       "                     city          state         country state/province\n",
       "0             Alford (LN)  East Midlands  United Kingdom             LN\n",
       "1  Ashby-de-la-Zouch (LE)  East Midlands  United Kingdom             LE\n",
       "2             Boston (PE)  East Midlands  United Kingdom             PE"
      ]
     },
     "execution_count": 84,
     "metadata": {},
     "output_type": "execute_result"
    }
   ],
   "source": [
    "df_state_uk_prov.head(3)"
   ]
  },
  {
   "cell_type": "markdown",
   "metadata": {},
   "source": [
    "### **Mise en forme** des données "
   ]
  },
  {
   "cell_type": "markdown",
   "metadata": {},
   "source": [
    "Mise en forme des noms des villes de la variables \"city\"  \n",
    "- par suppression des indications entre parenthèses  \n",
    "- récupération du nom de la ville seulement en supprimant les espaces avant et après  "
   ]
  },
  {
   "cell_type": "code",
   "execution_count": 85,
   "metadata": {},
   "outputs": [],
   "source": [
    "# Récupération des noms des villes de \"city\"\n",
    "df_state_uk_prov['city'] = df_state_uk_prov['city'].str.split('(').str[0].explode()"
   ]
  },
  {
   "cell_type": "code",
   "execution_count": 86,
   "metadata": {},
   "outputs": [],
   "source": [
    "# Suppression des espaces dans les noms de \"city\"\n",
    "df_state_uk_prov['city'] = df_state_uk_prov.city.str.strip()"
   ]
  },
  {
   "cell_type": "markdown",
   "metadata": {},
   "source": [
    "Les items de la variable \"state/province\" sont mis en majuscule"
   ]
  },
  {
   "cell_type": "code",
   "execution_count": 87,
   "metadata": {
    "scrolled": false
   },
   "outputs": [
    {
     "data": {
      "text/plain": [
       "0       LN\n",
       "1       LE\n",
       "2       PE\n",
       "3       PE\n",
       "4       NN\n",
       "        ..\n",
       "1622    BR\n",
       "1623    CT\n",
       "1624    WA\n",
       "1625    PA\n",
       "1626    ME\n",
       "Name: state/province, Length: 1627, dtype: object"
      ]
     },
     "execution_count": 87,
     "metadata": {},
     "output_type": "execute_result"
    }
   ],
   "source": [
    "#  Mise en majuscules des items de \"state/province\"\n",
    "df_state_uk_prov['state/province'].str.upper()"
   ]
  },
  {
   "cell_type": "code",
   "execution_count": 88,
   "metadata": {
    "scrolled": false
   },
   "outputs": [
    {
     "data": {
      "text/html": [
       "<div>\n",
       "<style scoped>\n",
       "    .dataframe tbody tr th:only-of-type {\n",
       "        vertical-align: middle;\n",
       "    }\n",
       "\n",
       "    .dataframe tbody tr th {\n",
       "        vertical-align: top;\n",
       "    }\n",
       "\n",
       "    .dataframe thead th {\n",
       "        text-align: right;\n",
       "    }\n",
       "</style>\n",
       "<table border=\"1\" class=\"dataframe\">\n",
       "  <thead>\n",
       "    <tr style=\"text-align: right;\">\n",
       "      <th></th>\n",
       "      <th>city</th>\n",
       "      <th>state</th>\n",
       "      <th>country</th>\n",
       "      <th>state/province</th>\n",
       "    </tr>\n",
       "  </thead>\n",
       "  <tbody>\n",
       "    <tr>\n",
       "      <th>0</th>\n",
       "      <td>Alford</td>\n",
       "      <td>East Midlands</td>\n",
       "      <td>United Kingdom</td>\n",
       "      <td>LN</td>\n",
       "    </tr>\n",
       "    <tr>\n",
       "      <th>1</th>\n",
       "      <td>Ashby-de-la-Zouch</td>\n",
       "      <td>East Midlands</td>\n",
       "      <td>United Kingdom</td>\n",
       "      <td>LE</td>\n",
       "    </tr>\n",
       "  </tbody>\n",
       "</table>\n",
       "</div>"
      ],
      "text/plain": [
       "                city          state         country state/province\n",
       "0             Alford  East Midlands  United Kingdom             LN\n",
       "1  Ashby-de-la-Zouch  East Midlands  United Kingdom             LE"
      ]
     },
     "execution_count": 88,
     "metadata": {},
     "output_type": "execute_result"
    }
   ],
   "source": [
    "df_state_uk_prov.head(2)"
   ]
  },
  {
   "cell_type": "markdown",
   "metadata": {},
   "source": [
    "Dimension du dataset"
   ]
  },
  {
   "cell_type": "code",
   "execution_count": 89,
   "metadata": {},
   "outputs": [
    {
     "data": {
      "text/plain": [
       "(1627, 4)"
      ]
     },
     "execution_count": 89,
     "metadata": {},
     "output_type": "execute_result"
    }
   ],
   "source": [
    "df_state_uk_prov.shape"
   ]
  },
  {
   "cell_type": "markdown",
   "metadata": {},
   "source": [
    "Nombre de valeurs manquantes"
   ]
  },
  {
   "cell_type": "code",
   "execution_count": 90,
   "metadata": {
    "scrolled": true
   },
   "outputs": [
    {
     "data": {
      "text/plain": [
       "city              0\n",
       "state             0\n",
       "country           0\n",
       "state/province    0\n",
       "dtype: int64"
      ]
     },
     "execution_count": 90,
     "metadata": {},
     "output_type": "execute_result"
    }
   ],
   "source": [
    "#  Aucune valeurs manquantes\n",
    "df_state_uk_prov.isnull().sum()"
   ]
  },
  {
   "cell_type": "code",
   "execution_count": 91,
   "metadata": {
    "scrolled": true
   },
   "outputs": [
    {
     "data": {
      "text/plain": [
       "array(['LN', 'LE', 'PE', 'NN', 'Ma', 'NG', 'Ly', 'Ha', 'Ra', 'Mo', 'Iv',\n",
       "       'Ne', 'in', 'Sp', 'La', 'IP', 'SG', 'NR', 'EN', 'SS', 'CM', 'St',\n",
       "       'WD', 'CO', 'CB', 'Is', 'RM', 'Ya', 'Co', 'Wa', 'Ba', 'Oc', 'Ab',\n",
       "       'Cr', 'on', 'IG', 'BR', 'Hi', 'HA', 'UB', 'SE', 'Dr', 'Wi', 'Gr',\n",
       "       'NE', 'Ca', 'DL', 'TS', 'Au', 'Ga', 'le', 'DH', 'Bo', 'Up', 'Ay',\n",
       "       'Sh', 'SR', 'Mi', 'Gi', 'BB', 'Ed', 'CA', 'WA', 'LA', 'OL', 'BD',\n",
       "       'FY', 'BL', 'L', 'SK', 'PR', 'CW', 'Pe', 'WN', 'M', 'Ro', 'Be',\n",
       "       'He', 'KT', 'GU', 'SO', 'HP', 'BN', 'SL', 'TN', 'ME', 'SM', 'RG',\n",
       "       'MK', 'DA', 'PO', 'RH', 'CT', 'Re', 'En', 'TW', 'CR', 'LU', 'Wy',\n",
       "       'up', 'Bu', 'Ke', 'Pa', 'Ri', 'Di', 'We', 'By', 'OX', 'SP', 'BS',\n",
       "       'EX', 'GL', 'BA', 'DT', 'Fo', 'PL', 'BH', 'TA', 'TQ', 'Sa', 'SN',\n",
       "       'TR', 'No', 'of', 'Ta', 'Br', 'Ag', 'B', 'DE', 'CV', 'DY', 'WV',\n",
       "       'WR', 'TF', 'WS', 'ST', 'NP', 'DN', 'S', 'WF', 'HU', 'YO', 'HD',\n",
       "       'HX', 'HG', 'Va', 'LS', 'Fe', 'AB', 'PH', 'IV', 'ML', 'G', 'FK',\n",
       "       'DG', 'KY', 'PA', 'DD', 'KA', 'EH', 'KW', 'TD', 'Do', 'Ki', 'Li',\n",
       "       'Gl', 'ZE', 'Qu', 'An', 'HS', 'SA', 'CF', 'LL', 'SY', 'CH', 'Ff',\n",
       "       'LD', 'HR', 'Po', 'Ar', 'Ju', 'Ty', 'As', 'Tr', 'Em', 'BT', 'Su',\n",
       "       'an', '', 'E', 'Du', 'Fi', 'Pr', 'AL', 'In', 'Ea', 'Wo', 'Yo',\n",
       "       'NC', 'Of', 'Al'], dtype=object)"
      ]
     },
     "execution_count": 91,
     "metadata": {},
     "output_type": "execute_result"
    }
   ],
   "source": [
    "state_list_uk = df_state_uk_prov[\"state/province\"].unique()\n",
    "state_list_uk"
   ]
  },
  {
   "cell_type": "markdown",
   "metadata": {},
   "source": [
    "Renommage des noms des pays de la variable `country`"
   ]
  },
  {
   "cell_type": "code",
   "execution_count": 92,
   "metadata": {
    "scrolled": true
   },
   "outputs": [
    {
     "data": {
      "text/plain": [
       "array(['us', 'gb', 'canada', ..., 'entire west coast',\n",
       "       'mexico and ocho rios ', 'hollyridge'], dtype=object)"
      ]
     },
     "execution_count": 92,
     "metadata": {},
     "output_type": "execute_result"
    }
   ],
   "source": [
    "ufo_col.country.unique()"
   ]
  },
  {
   "cell_type": "code",
   "execution_count": 93,
   "metadata": {},
   "outputs": [],
   "source": [
    "# Renommage des valeurs de \"country\"\n",
    "ufo_col['country'] = ufo_col['country'].replace(\n",
    "    {'us': 'USA',\n",
    "     'gb': 'United Kingdom',\n",
    "     'ca': 'Canada',\n",
    "     'au': 'Australia',\n",
    "     'de': 'Germany'}\n",
    ")"
   ]
  },
  {
   "cell_type": "code",
   "execution_count": 94,
   "metadata": {
    "scrolled": true
   },
   "outputs": [
    {
     "data": {
      "text/plain": [
       "array(['USA', 'United Kingdom', 'canada', ..., 'entire west coast',\n",
       "       'mexico and ocho rios ', 'hollyridge'], dtype=object)"
      ]
     },
     "execution_count": 94,
     "metadata": {},
     "output_type": "execute_result"
    }
   ],
   "source": [
    "ufo_col.country.unique()"
   ]
  },
  {
   "cell_type": "markdown",
   "metadata": {},
   "source": [
    "Mise en forme de la colonne `country` avec une majuscule sur le premier caractère de l'item"
   ]
  },
  {
   "cell_type": "code",
   "execution_count": 95,
   "metadata": {},
   "outputs": [],
   "source": [
    "#  Mise en majuscule de la première lettre des items de \"country\"\n",
    "ufo_col['country'] = ufo_col.country.str.title()"
   ]
  },
  {
   "cell_type": "markdown",
   "metadata": {},
   "source": [
    "Mise en forme de la colonne `city` par suppression des indications entre parenthèses"
   ]
  },
  {
   "cell_type": "code",
   "execution_count": 96,
   "metadata": {},
   "outputs": [],
   "source": [
    "ufo_col[\"city\"] = ufo_col.city.str.split(\"(\").str[0].explode()"
   ]
  },
  {
   "cell_type": "markdown",
   "metadata": {},
   "source": [
    "Mise en forme de la colonne `state/province` en majuscule \t"
   ]
  },
  {
   "cell_type": "code",
   "execution_count": 97,
   "metadata": {},
   "outputs": [],
   "source": [
    "ufo_col[\"state/province\"] = ufo_col[\"state/province\"].str.upper()"
   ]
  },
  {
   "cell_type": "markdown",
   "metadata": {},
   "source": [
    "Mise en forme des noms de `city` (majuscule sur la première lettre)"
   ]
  },
  {
   "cell_type": "code",
   "execution_count": 98,
   "metadata": {
    "scrolled": true
   },
   "outputs": [],
   "source": [
    "ufo_col['city'] = ufo_col.city.str.title()"
   ]
  },
  {
   "cell_type": "code",
   "execution_count": 99,
   "metadata": {
    "scrolled": false
   },
   "outputs": [
    {
     "data": {
      "text/html": [
       "<div>\n",
       "<style scoped>\n",
       "    .dataframe tbody tr th:only-of-type {\n",
       "        vertical-align: middle;\n",
       "    }\n",
       "\n",
       "    .dataframe tbody tr th {\n",
       "        vertical-align: top;\n",
       "    }\n",
       "\n",
       "    .dataframe thead th {\n",
       "        text-align: right;\n",
       "    }\n",
       "</style>\n",
       "<table border=\"1\" class=\"dataframe\">\n",
       "  <thead>\n",
       "    <tr style=\"text-align: right;\">\n",
       "      <th></th>\n",
       "      <th>dates_time</th>\n",
       "      <th>city</th>\n",
       "      <th>state/province</th>\n",
       "      <th>country</th>\n",
       "      <th>UFO_shape</th>\n",
       "      <th>length_of_encounter_seconds</th>\n",
       "      <th>latitude</th>\n",
       "      <th>longitude</th>\n",
       "    </tr>\n",
       "  </thead>\n",
       "  <tbody>\n",
       "    <tr>\n",
       "      <th>0</th>\n",
       "      <td>1949-10-10 20:30:00</td>\n",
       "      <td>San Marcos</td>\n",
       "      <td>TX</td>\n",
       "      <td>Usa</td>\n",
       "      <td>cylinder</td>\n",
       "      <td>2700.0</td>\n",
       "      <td>29.883056</td>\n",
       "      <td>-97.941111</td>\n",
       "    </tr>\n",
       "    <tr>\n",
       "      <th>1</th>\n",
       "      <td>1949-10-10 21:00:00</td>\n",
       "      <td>Lackland Afb</td>\n",
       "      <td>TX</td>\n",
       "      <td>Usa</td>\n",
       "      <td>light</td>\n",
       "      <td>7200.0</td>\n",
       "      <td>29.384210</td>\n",
       "      <td>-98.581082</td>\n",
       "    </tr>\n",
       "    <tr>\n",
       "      <th>2</th>\n",
       "      <td>1955-10-10 17:00:00</td>\n",
       "      <td>Chester</td>\n",
       "      <td>TX</td>\n",
       "      <td>United Kingdom</td>\n",
       "      <td>circle</td>\n",
       "      <td>20.0</td>\n",
       "      <td>53.200000</td>\n",
       "      <td>-2.916667</td>\n",
       "    </tr>\n",
       "  </tbody>\n",
       "</table>\n",
       "</div>"
      ],
      "text/plain": [
       "           dates_time          city state/province         country UFO_shape  \\\n",
       "0 1949-10-10 20:30:00    San Marcos             TX             Usa  cylinder   \n",
       "1 1949-10-10 21:00:00  Lackland Afb             TX             Usa     light   \n",
       "2 1955-10-10 17:00:00       Chester             TX  United Kingdom    circle   \n",
       "\n",
       "   length_of_encounter_seconds   latitude  longitude  \n",
       "0                       2700.0  29.883056 -97.941111  \n",
       "1                       7200.0  29.384210 -98.581082  \n",
       "2                         20.0  53.200000  -2.916667  "
      ]
     },
     "execution_count": 99,
     "metadata": {},
     "output_type": "execute_result"
    }
   ],
   "source": [
    "ufo_col.head(3)"
   ]
  },
  {
   "cell_type": "markdown",
   "metadata": {},
   "source": [
    "Dimension du dataset"
   ]
  },
  {
   "cell_type": "code",
   "execution_count": 100,
   "metadata": {},
   "outputs": [
    {
     "data": {
      "text/plain": [
       "(78017, 8)"
      ]
     },
     "execution_count": 100,
     "metadata": {},
     "output_type": "execute_result"
    }
   ],
   "source": [
    "ufo_col.shape"
   ]
  },
  {
   "cell_type": "markdown",
   "metadata": {},
   "source": [
    "Renommage de 'Usa' en 'USA' de `country`"
   ]
  },
  {
   "cell_type": "code",
   "execution_count": 101,
   "metadata": {},
   "outputs": [],
   "source": [
    "# Renommage des valeurs de \"Usa\" en \"USA\"\n",
    "ufo_col['country'] = ufo_col['country'].replace({'Usa': 'USA'})"
   ]
  },
  {
   "cell_type": "markdown",
   "metadata": {},
   "source": [
    "Implémentation des villes du Canada attribuées par erreur à l'Angleterre dans `country`  \n",
    "'Douglas', 'Vancouver', 'North Vancouver', 'Frenchvale'"
   ]
  },
  {
   "cell_type": "code",
   "execution_count": 102,
   "metadata": {},
   "outputs": [],
   "source": [
    "villes_canada = ['Douglas', 'Vancouver', 'North Vancouver', 'Frenchvale']"
   ]
  },
  {
   "cell_type": "markdown",
   "metadata": {},
   "source": [
    "Des villes canadiennes du Nunavut ont été à tort attribuées aux USA  \n",
    "Nous allons les réattribuer au Canada \n",
    "\n",
    "Implémentation de `country` = 'Canada' correspondant au Canada et non aux USA"
   ]
  },
  {
   "cell_type": "code",
   "execution_count": 103,
   "metadata": {},
   "outputs": [],
   "source": [
    "canadian_city_list = ['Alert', 'Baker Lake', 'Cambridge Bay',\n",
    "                      'Eureka', 'Iqaluit', 'Kugluktuk', 'Rankin Inlet']\n",
    "\n",
    "for item in canadian_city_list:\n",
    "\n",
    "    ufo_col.loc[ufo_col['city'] == item, 'country'] = 'Canada'"
   ]
  },
  {
   "cell_type": "markdown",
   "metadata": {},
   "source": [
    "Implémentation de state/province = 'NU' correspondant au terrictoire Nunavut"
   ]
  },
  {
   "cell_type": "code",
   "execution_count": 104,
   "metadata": {},
   "outputs": [],
   "source": [
    "canadian_city_list = ['Alert', 'Baker Lake', 'Cambridge Bay',\n",
    "                       'Eureka', 'Iqaluit', 'Kugluktuk', 'Rankin Inlet']\n",
    "\n",
    "for item in canadian_city_list:\n",
    "    ufo_col.loc[ufo_col['city'] == item, 'state/province'] = 'NU'"
   ]
  },
  {
   "cell_type": "code",
   "execution_count": 105,
   "metadata": {},
   "outputs": [],
   "source": [
    "ufo_col.loc[(ufo_col['country'] == \"United Kingdom\"\n",
    "            ) & (ufo_col['city'].isin(villes_canada)\n",
    "                ), 'country'] = \"Canada\""
   ]
  },
  {
   "cell_type": "markdown",
   "metadata": {},
   "source": [
    "### **Implémentation** d'une variable \"**state**\"  pour les 3 pays étudiés"
   ]
  },
  {
   "cell_type": "markdown",
   "metadata": {},
   "source": [
    "#### **Angleterre**"
   ]
  },
  {
   "cell_type": "markdown",
   "metadata": {},
   "source": [
    "Fusion des données du dataset initial avec celles du dataset contenant la variable `state`.  \n",
    "\n",
    "Ainsi, à chaque `state/province` correspondra le nom de la région correspondante.\n"
   ]
  },
  {
   "cell_type": "code",
   "execution_count": 106,
   "metadata": {
    "scrolled": true
   },
   "outputs": [
    {
     "data": {
      "text/html": [
       "<div>\n",
       "<style scoped>\n",
       "    .dataframe tbody tr th:only-of-type {\n",
       "        vertical-align: middle;\n",
       "    }\n",
       "\n",
       "    .dataframe tbody tr th {\n",
       "        vertical-align: top;\n",
       "    }\n",
       "\n",
       "    .dataframe thead th {\n",
       "        text-align: right;\n",
       "    }\n",
       "</style>\n",
       "<table border=\"1\" class=\"dataframe\">\n",
       "  <thead>\n",
       "    <tr style=\"text-align: right;\">\n",
       "      <th></th>\n",
       "      <th>dates_time</th>\n",
       "      <th>city</th>\n",
       "      <th>state/province</th>\n",
       "      <th>country</th>\n",
       "      <th>UFO_shape</th>\n",
       "      <th>length_of_encounter_seconds</th>\n",
       "      <th>latitude</th>\n",
       "      <th>longitude</th>\n",
       "    </tr>\n",
       "  </thead>\n",
       "  <tbody>\n",
       "    <tr>\n",
       "      <th>0</th>\n",
       "      <td>1949-10-10 20:30:00</td>\n",
       "      <td>San Marcos</td>\n",
       "      <td>TX</td>\n",
       "      <td>USA</td>\n",
       "      <td>cylinder</td>\n",
       "      <td>2700.0</td>\n",
       "      <td>29.883056</td>\n",
       "      <td>-97.941111</td>\n",
       "    </tr>\n",
       "    <tr>\n",
       "      <th>1</th>\n",
       "      <td>1949-10-10 21:00:00</td>\n",
       "      <td>Lackland Afb</td>\n",
       "      <td>TX</td>\n",
       "      <td>USA</td>\n",
       "      <td>light</td>\n",
       "      <td>7200.0</td>\n",
       "      <td>29.384210</td>\n",
       "      <td>-98.581082</td>\n",
       "    </tr>\n",
       "  </tbody>\n",
       "</table>\n",
       "</div>"
      ],
      "text/plain": [
       "           dates_time          city state/province country UFO_shape  \\\n",
       "0 1949-10-10 20:30:00    San Marcos             TX     USA  cylinder   \n",
       "1 1949-10-10 21:00:00  Lackland Afb             TX     USA     light   \n",
       "\n",
       "   length_of_encounter_seconds   latitude  longitude  \n",
       "0                       2700.0  29.883056 -97.941111  \n",
       "1                       7200.0  29.384210 -98.581082  "
      ]
     },
     "execution_count": 106,
     "metadata": {},
     "output_type": "execute_result"
    }
   ],
   "source": [
    "ufo_col.head(2)"
   ]
  },
  {
   "cell_type": "code",
   "execution_count": 107,
   "metadata": {
    "scrolled": false
   },
   "outputs": [
    {
     "data": {
      "text/html": [
       "<div>\n",
       "<style scoped>\n",
       "    .dataframe tbody tr th:only-of-type {\n",
       "        vertical-align: middle;\n",
       "    }\n",
       "\n",
       "    .dataframe tbody tr th {\n",
       "        vertical-align: top;\n",
       "    }\n",
       "\n",
       "    .dataframe thead th {\n",
       "        text-align: right;\n",
       "    }\n",
       "</style>\n",
       "<table border=\"1\" class=\"dataframe\">\n",
       "  <thead>\n",
       "    <tr style=\"text-align: right;\">\n",
       "      <th></th>\n",
       "      <th>city</th>\n",
       "      <th>state</th>\n",
       "      <th>country</th>\n",
       "      <th>state/province</th>\n",
       "    </tr>\n",
       "  </thead>\n",
       "  <tbody>\n",
       "    <tr>\n",
       "      <th>0</th>\n",
       "      <td>Alford</td>\n",
       "      <td>East Midlands</td>\n",
       "      <td>United Kingdom</td>\n",
       "      <td>LN</td>\n",
       "    </tr>\n",
       "    <tr>\n",
       "      <th>1</th>\n",
       "      <td>Ashby-de-la-Zouch</td>\n",
       "      <td>East Midlands</td>\n",
       "      <td>United Kingdom</td>\n",
       "      <td>LE</td>\n",
       "    </tr>\n",
       "  </tbody>\n",
       "</table>\n",
       "</div>"
      ],
      "text/plain": [
       "                city          state         country state/province\n",
       "0             Alford  East Midlands  United Kingdom             LN\n",
       "1  Ashby-de-la-Zouch  East Midlands  United Kingdom             LE"
      ]
     },
     "execution_count": 107,
     "metadata": {},
     "output_type": "execute_result"
    }
   ],
   "source": [
    "df_state_uk_prov.head(2)"
   ]
  },
  {
   "cell_type": "markdown",
   "metadata": {},
   "source": [
    "Récupération dans une liste des items de `city` du fichier de référence "
   ]
  },
  {
   "cell_type": "code",
   "execution_count": 108,
   "metadata": {},
   "outputs": [],
   "source": [
    "# Liste des villes anglaises issues du fichier de référence\n",
    "list_ref_prov_uk = df_state_uk_prov.city.unique()"
   ]
  },
  {
   "cell_type": "markdown",
   "metadata": {},
   "source": [
    "Récupération dans une liste des items de `city` du fichier original"
   ]
  },
  {
   "cell_type": "code",
   "execution_count": 109,
   "metadata": {
    "scrolled": false
   },
   "outputs": [],
   "source": [
    "# Liste des villes anglaises issues du fichier d'étude\n",
    "list_city_eng = ufo_col[ufo_col[\"country\"] == \"United Kingdom\"].city.unique()"
   ]
  },
  {
   "cell_type": "markdown",
   "metadata": {},
   "source": [
    "Remplacement des valeurs manquantes par une string \"None\" pour éviter une error value"
   ]
  },
  {
   "cell_type": "code",
   "execution_count": 110,
   "metadata": {},
   "outputs": [],
   "source": [
    "# Remplacement des valeurs null de \"state/province\" par \"None\"\n",
    "ufo_col.loc[(ufo_col['state/province'].isnull()\n",
    "            ) & (ufo_col['country'] == \"United Kingdom\"), 'state/province'] = 'None'"
   ]
  },
  {
   "cell_type": "markdown",
   "metadata": {},
   "source": [
    "Pour chaque `state/province` anglaise à implémenter, on récupère dans la liste de référence la valeur du `state/province` correspondant à `city`  \n",
    "Si la ville dans `city` n'est pas référencée dans la liste de référence, on passe à la suivante."
   ]
  },
  {
   "cell_type": "code",
   "execution_count": 111,
   "metadata": {},
   "outputs": [],
   "source": [
    "# Pour chaque \"state/province\" anglaise à implémenter, on récupère dans le dataset de référence \n",
    "# la valeur du \"state/province\" correspondant à \"city\"\n",
    "for city in list_city_eng:\n",
    "    if city not in list_ref_prov_uk:   # Si la ville n'est pas référencée, on passe à la suivante\n",
    "        pass\n",
    "    \n",
    "    else:  # on implémente la valeur manquante selon celle de référence\n",
    "        ufo_col.loc[(ufo_col[\"country\"] == \"United Kingdom\")\\\n",
    "                    & (ufo_col[\"city\"] == city),\n",
    "                    'state/province'] = df_state_uk_prov.loc[\n",
    "            df_state_uk_prov['city'] == city, 'state/province'\n",
    "        ].values[0]"
   ]
  },
  {
   "cell_type": "code",
   "execution_count": 112,
   "metadata": {},
   "outputs": [
    {
     "data": {
      "text/html": [
       "<div>\n",
       "<style scoped>\n",
       "    .dataframe tbody tr th:only-of-type {\n",
       "        vertical-align: middle;\n",
       "    }\n",
       "\n",
       "    .dataframe tbody tr th {\n",
       "        vertical-align: top;\n",
       "    }\n",
       "\n",
       "    .dataframe thead th {\n",
       "        text-align: right;\n",
       "    }\n",
       "</style>\n",
       "<table border=\"1\" class=\"dataframe\">\n",
       "  <thead>\n",
       "    <tr style=\"text-align: right;\">\n",
       "      <th></th>\n",
       "      <th>dates_time</th>\n",
       "      <th>city</th>\n",
       "      <th>state/province</th>\n",
       "      <th>country</th>\n",
       "      <th>UFO_shape</th>\n",
       "      <th>length_of_encounter_seconds</th>\n",
       "      <th>latitude</th>\n",
       "      <th>longitude</th>\n",
       "    </tr>\n",
       "  </thead>\n",
       "  <tbody>\n",
       "    <tr>\n",
       "      <th>2</th>\n",
       "      <td>1955-10-10 17:00:00</td>\n",
       "      <td>Chester</td>\n",
       "      <td>CH</td>\n",
       "      <td>United Kingdom</td>\n",
       "      <td>circle</td>\n",
       "      <td>20.0</td>\n",
       "      <td>53.200000</td>\n",
       "      <td>-2.916667</td>\n",
       "    </tr>\n",
       "    <tr>\n",
       "      <th>6</th>\n",
       "      <td>1965-10-10 21:00:00</td>\n",
       "      <td>Penarth</td>\n",
       "      <td>CF</td>\n",
       "      <td>United Kingdom</td>\n",
       "      <td>circle</td>\n",
       "      <td>180.0</td>\n",
       "      <td>51.434722</td>\n",
       "      <td>-3.180000</td>\n",
       "    </tr>\n",
       "  </tbody>\n",
       "</table>\n",
       "</div>"
      ],
      "text/plain": [
       "           dates_time     city state/province         country UFO_shape  \\\n",
       "2 1955-10-10 17:00:00  Chester             CH  United Kingdom    circle   \n",
       "6 1965-10-10 21:00:00  Penarth             CF  United Kingdom    circle   \n",
       "\n",
       "   length_of_encounter_seconds   latitude  longitude  \n",
       "2                         20.0  53.200000  -2.916667  \n",
       "6                        180.0  51.434722  -3.180000  "
      ]
     },
     "execution_count": 112,
     "metadata": {},
     "output_type": "execute_result"
    }
   ],
   "source": [
    "ufo_col[ufo_col['country'] == 'United Kingdom'].head(2)"
   ]
  },
  {
   "cell_type": "markdown",
   "metadata": {},
   "source": [
    "Nombre de valeurs de la variable `state/province` manquantes"
   ]
  },
  {
   "cell_type": "code",
   "execution_count": 113,
   "metadata": {},
   "outputs": [
    {
     "data": {
      "text/plain": [
       "2691"
      ]
     },
     "execution_count": 113,
     "metadata": {},
     "output_type": "execute_result"
    }
   ],
   "source": [
    "ufo_col['state/province'].isnull().sum()"
   ]
  },
  {
   "cell_type": "markdown",
   "metadata": {},
   "source": [
    "Création d'un dataset temporaire qui ne comprend que les valeurs concernant l'Angleterre en vue de la future fusion"
   ]
  },
  {
   "cell_type": "code",
   "execution_count": 114,
   "metadata": {},
   "outputs": [],
   "source": [
    "df_gb = ufo_col.loc[ufo_col[\"country\"] == 'United Kingdom']"
   ]
  },
  {
   "cell_type": "markdown",
   "metadata": {},
   "source": [
    "Dimension de ce dataset \"England\""
   ]
  },
  {
   "cell_type": "code",
   "execution_count": 115,
   "metadata": {},
   "outputs": [
    {
     "data": {
      "text/plain": [
       "(2140, 8)"
      ]
     },
     "execution_count": 115,
     "metadata": {},
     "output_type": "execute_result"
    }
   ],
   "source": [
    "df_gb.shape"
   ]
  },
  {
   "cell_type": "markdown",
   "metadata": {},
   "source": [
    "Fusion de ce dataset avec le dataset de référence afin de récupérer pour chaque ville `city`, chaque state/province `state/province`, la province `state` correspondante. "
   ]
  },
  {
   "cell_type": "markdown",
   "metadata": {},
   "source": [
    "Fusion de df_state_uk_prov avec df_gb"
   ]
  },
  {
   "cell_type": "code",
   "execution_count": 116,
   "metadata": {},
   "outputs": [],
   "source": [
    "df_gb_state = pd.merge(df_gb, df_state_uk_prov, how='left')"
   ]
  },
  {
   "cell_type": "code",
   "execution_count": 117,
   "metadata": {
    "scrolled": true
   },
   "outputs": [
    {
     "data": {
      "text/plain": [
       "array(['East Midlands', 'East of England', 'Greater London',\n",
       "       'Greater London ', 'North East of England',\n",
       "       'North West of England', 'South East of England',\n",
       "       'South West of England', 'West Midlands', 'Wales',\n",
       "       'Yorkshire and the Humber', 'Scotland', 'Northern Ireland'],\n",
       "      dtype=object)"
      ]
     },
     "execution_count": 117,
     "metadata": {},
     "output_type": "execute_result"
    }
   ],
   "source": [
    "df_state_uk_prov.state.unique()"
   ]
  },
  {
   "cell_type": "code",
   "execution_count": 118,
   "metadata": {},
   "outputs": [
    {
     "data": {
      "text/plain": [
       "array(['United Kingdom'], dtype=object)"
      ]
     },
     "execution_count": 118,
     "metadata": {},
     "output_type": "execute_result"
    }
   ],
   "source": [
    "df_state_uk_prov.country.unique()"
   ]
  },
  {
   "cell_type": "markdown",
   "metadata": {},
   "source": [
    "Dimensions du dataset après fusion"
   ]
  },
  {
   "cell_type": "code",
   "execution_count": 119,
   "metadata": {
    "scrolled": false
   },
   "outputs": [
    {
     "data": {
      "text/plain": [
       "(2140, 9)"
      ]
     },
     "execution_count": 119,
     "metadata": {},
     "output_type": "execute_result"
    }
   ],
   "source": [
    "df_gb_state.shape"
   ]
  },
  {
   "cell_type": "markdown",
   "metadata": {},
   "source": [
    "Nombre de valeurs null"
   ]
  },
  {
   "cell_type": "code",
   "execution_count": 120,
   "metadata": {},
   "outputs": [
    {
     "data": {
      "text/plain": [
       "dates_time                       0\n",
       "city                             0\n",
       "state/province                   0\n",
       "country                          0\n",
       "UFO_shape                        0\n",
       "length_of_encounter_seconds      0\n",
       "latitude                         0\n",
       "longitude                        0\n",
       "state                          272\n",
       "dtype: int64"
      ]
     },
     "execution_count": 120,
     "metadata": {},
     "output_type": "execute_result"
    }
   ],
   "source": [
    "df_gb_state.isnull().sum()"
   ]
  },
  {
   "cell_type": "markdown",
   "metadata": {},
   "source": [
    "Suppression des valeurs null"
   ]
  },
  {
   "cell_type": "code",
   "execution_count": 121,
   "metadata": {},
   "outputs": [],
   "source": [
    "# Suppression des valeurs null\n",
    "df_gb_state.dropna(subset=['state'], axis=0, inplace=True)"
   ]
  },
  {
   "cell_type": "code",
   "execution_count": 122,
   "metadata": {
    "scrolled": true
   },
   "outputs": [
    {
     "data": {
      "text/plain": [
       "dates_time                     0\n",
       "city                           0\n",
       "state/province                 0\n",
       "country                        0\n",
       "UFO_shape                      0\n",
       "length_of_encounter_seconds    0\n",
       "latitude                       0\n",
       "longitude                      0\n",
       "state                          0\n",
       "dtype: int64"
      ]
     },
     "execution_count": 122,
     "metadata": {},
     "output_type": "execute_result"
    }
   ],
   "source": [
    "df_gb_state.isnull().sum()"
   ]
  },
  {
   "cell_type": "code",
   "execution_count": 123,
   "metadata": {},
   "outputs": [
    {
     "data": {
      "text/plain": [
       "array(['North West of England', 'Wales', 'South East of England',\n",
       "       'Yorkshire and the Humber', 'South West of England',\n",
       "       'Greater London ', 'West Midlands', 'Scotland',\n",
       "       'North East of England', 'East Midlands', 'East of England',\n",
       "       'Northern Ireland'], dtype=object)"
      ]
     },
     "execution_count": 123,
     "metadata": {},
     "output_type": "execute_result"
    }
   ],
   "source": [
    "df_gb_state.state.unique()"
   ]
  },
  {
   "cell_type": "markdown",
   "metadata": {},
   "source": [
    "Pour une meilleure mise en forme et pour éviter les erreurs lors de recherche de valeurs, suppression des espaces qui sont apparus après le nom de certains items de `state`"
   ]
  },
  {
   "cell_type": "code",
   "execution_count": 124,
   "metadata": {},
   "outputs": [],
   "source": [
    "# Suppression des espaces après le nom de state (notamment pour \"Greater London\")\n",
    "df_gb_state['state'] = df_gb_state.state.str.strip()"
   ]
  },
  {
   "cell_type": "code",
   "execution_count": 125,
   "metadata": {},
   "outputs": [
    {
     "data": {
      "text/plain": [
       "array(['North West of England', 'Wales', 'South East of England',\n",
       "       'Yorkshire and the Humber', 'South West of England',\n",
       "       'Greater London', 'West Midlands', 'Scotland',\n",
       "       'North East of England', 'East Midlands', 'East of England',\n",
       "       'Northern Ireland'], dtype=object)"
      ]
     },
     "execution_count": 125,
     "metadata": {},
     "output_type": "execute_result"
    }
   ],
   "source": [
    "df_gb_state.state.unique()"
   ]
  },
  {
   "cell_type": "markdown",
   "metadata": {},
   "source": [
    "#### **USA**"
   ]
  },
  {
   "cell_type": "markdown",
   "metadata": {},
   "source": [
    "Importation du dataset de référence (code et état USA)"
   ]
  },
  {
   "cell_type": "markdown",
   "metadata": {},
   "source": [
    "Nous allons déterminer les noms des états USA en entier à partir des codes de référence\n",
    "\n",
    "source : https://lehd.ces.census.gov/data/schema/latest/lehd_shapefiles.html"
   ]
  },
  {
   "cell_type": "markdown",
   "metadata": {},
   "source": [
    "Récupération des différents noms entiers des états des USA et de leur code sur internet.  \n",
    "Ces données sont dans le fichier \"list_state_usa.csv\""
   ]
  },
  {
   "cell_type": "code",
   "execution_count": 126,
   "metadata": {},
   "outputs": [],
   "source": [
    "df_state_usa = pd.read_csv('list_state_usa.csv',\n",
    "                           decimal=\",\",\n",
    "                           encoding=ENCODAGE).copy()"
   ]
  },
  {
   "cell_type": "code",
   "execution_count": 127,
   "metadata": {
    "scrolled": false
   },
   "outputs": [
    {
     "data": {
      "text/html": [
       "<div>\n",
       "<style scoped>\n",
       "    .dataframe tbody tr th:only-of-type {\n",
       "        vertical-align: middle;\n",
       "    }\n",
       "\n",
       "    .dataframe tbody tr th {\n",
       "        vertical-align: top;\n",
       "    }\n",
       "\n",
       "    .dataframe thead th {\n",
       "        text-align: right;\n",
       "    }\n",
       "</style>\n",
       "<table border=\"1\" class=\"dataframe\">\n",
       "  <thead>\n",
       "    <tr style=\"text-align: right;\">\n",
       "      <th></th>\n",
       "      <th>State</th>\n",
       "      <th>Abbrev</th>\n",
       "      <th>Code</th>\n",
       "    </tr>\n",
       "  </thead>\n",
       "  <tbody>\n",
       "    <tr>\n",
       "      <th>0</th>\n",
       "      <td>Alabama</td>\n",
       "      <td>Ala.</td>\n",
       "      <td>AL</td>\n",
       "    </tr>\n",
       "    <tr>\n",
       "      <th>1</th>\n",
       "      <td>Alaska</td>\n",
       "      <td>Alaska</td>\n",
       "      <td>AK</td>\n",
       "    </tr>\n",
       "  </tbody>\n",
       "</table>\n",
       "</div>"
      ],
      "text/plain": [
       "     State  Abbrev Code\n",
       "0  Alabama    Ala.   AL\n",
       "1   Alaska  Alaska   AK"
      ]
     },
     "execution_count": 127,
     "metadata": {},
     "output_type": "execute_result"
    }
   ],
   "source": [
    "df_state_usa.head(2)"
   ]
  },
  {
   "cell_type": "markdown",
   "metadata": {},
   "source": [
    "Dimension du fichier importé"
   ]
  },
  {
   "cell_type": "code",
   "execution_count": 128,
   "metadata": {
    "scrolled": true
   },
   "outputs": [
    {
     "data": {
      "text/plain": [
       "(51, 3)"
      ]
     },
     "execution_count": 128,
     "metadata": {},
     "output_type": "execute_result"
    }
   ],
   "source": [
    "df_state_usa.shape"
   ]
  },
  {
   "cell_type": "markdown",
   "metadata": {},
   "source": [
    "Renommage des colonnes du dataset de référence USA"
   ]
  },
  {
   "cell_type": "code",
   "execution_count": 129,
   "metadata": {},
   "outputs": [],
   "source": [
    "df_state_usa = df_state_usa.rename(\n",
    "    columns={'State': 'state', 'Abbrev': 'Abbrev', 'Code': 'state/province'})"
   ]
  },
  {
   "cell_type": "markdown",
   "metadata": {},
   "source": [
    "Suppression de la colonne 'Abbrev'"
   ]
  },
  {
   "cell_type": "code",
   "execution_count": 130,
   "metadata": {},
   "outputs": [],
   "source": [
    "#  Suppression de la colonne inutile\n",
    "df_state_usa = df_state_usa.drop('Abbrev', axis=1)"
   ]
  },
  {
   "cell_type": "markdown",
   "metadata": {},
   "source": [
    "Ajout du code \"PR\" correspondant au territoire organisé non incorporé des États-Unis avec un statut de commonwealth : \"Porto Rico\""
   ]
  },
  {
   "cell_type": "code",
   "execution_count": 131,
   "metadata": {},
   "outputs": [],
   "source": [
    "df_state_usa = df_state_usa.append(\n",
    "    {'state': 'Puerto Rico',\n",
    "     'state/province': \"PR\"},\n",
    "    ignore_index=True)"
   ]
  },
  {
   "cell_type": "markdown",
   "metadata": {},
   "source": [
    "Création d'une colonne `country` initialisée à \"USA\" pour une future fusion"
   ]
  },
  {
   "cell_type": "code",
   "execution_count": 132,
   "metadata": {},
   "outputs": [],
   "source": [
    "#  Création d'une colonne \"country\" initialisée à \"USA\" pour une future fusion\n",
    "df_state_usa['country'] = \"USA\""
   ]
  },
  {
   "cell_type": "code",
   "execution_count": 133,
   "metadata": {
    "scrolled": false
   },
   "outputs": [
    {
     "data": {
      "text/html": [
       "<div>\n",
       "<style scoped>\n",
       "    .dataframe tbody tr th:only-of-type {\n",
       "        vertical-align: middle;\n",
       "    }\n",
       "\n",
       "    .dataframe tbody tr th {\n",
       "        vertical-align: top;\n",
       "    }\n",
       "\n",
       "    .dataframe thead th {\n",
       "        text-align: right;\n",
       "    }\n",
       "</style>\n",
       "<table border=\"1\" class=\"dataframe\">\n",
       "  <thead>\n",
       "    <tr style=\"text-align: right;\">\n",
       "      <th></th>\n",
       "      <th>state</th>\n",
       "      <th>state/province</th>\n",
       "      <th>country</th>\n",
       "    </tr>\n",
       "  </thead>\n",
       "  <tbody>\n",
       "    <tr>\n",
       "      <th>0</th>\n",
       "      <td>Alabama</td>\n",
       "      <td>AL</td>\n",
       "      <td>USA</td>\n",
       "    </tr>\n",
       "    <tr>\n",
       "      <th>1</th>\n",
       "      <td>Alaska</td>\n",
       "      <td>AK</td>\n",
       "      <td>USA</td>\n",
       "    </tr>\n",
       "  </tbody>\n",
       "</table>\n",
       "</div>"
      ],
      "text/plain": [
       "     state state/province country\n",
       "0  Alabama             AL     USA\n",
       "1   Alaska             AK     USA"
      ]
     },
     "execution_count": 133,
     "metadata": {},
     "output_type": "execute_result"
    }
   ],
   "source": [
    "df_state_usa.head(2)"
   ]
  },
  {
   "cell_type": "markdown",
   "metadata": {},
   "source": [
    "Création d'un dataset temporaire qui ne comprend que les valeurs concernant les USA en vue de la future fusion"
   ]
  },
  {
   "cell_type": "code",
   "execution_count": 134,
   "metadata": {},
   "outputs": [],
   "source": [
    "df_usa = ufo_col.loc[ufo_col[\"country\"] == 'USA']"
   ]
  },
  {
   "cell_type": "markdown",
   "metadata": {},
   "source": [
    "Dimension de ce dataset temporaire"
   ]
  },
  {
   "cell_type": "code",
   "execution_count": 135,
   "metadata": {},
   "outputs": [
    {
     "data": {
      "text/plain": [
       "(68487, 8)"
      ]
     },
     "execution_count": 135,
     "metadata": {},
     "output_type": "execute_result"
    }
   ],
   "source": [
    "df_usa.shape"
   ]
  },
  {
   "cell_type": "markdown",
   "metadata": {},
   "source": [
    "Fusion de ce dataset avec le dataset de référence afin de récupérer pour chaque state/province `state/province`, le`state` correspondant. "
   ]
  },
  {
   "cell_type": "markdown",
   "metadata": {},
   "source": [
    "Fusion des dataframes \"df_usa\" et \"df_state_usa\""
   ]
  },
  {
   "cell_type": "code",
   "execution_count": 136,
   "metadata": {},
   "outputs": [],
   "source": [
    "df_usa_state = pd.merge(df_usa, df_state_usa, how='left')"
   ]
  },
  {
   "cell_type": "markdown",
   "metadata": {},
   "source": [
    "Dimension du dataset après fusion"
   ]
  },
  {
   "cell_type": "code",
   "execution_count": 137,
   "metadata": {
    "scrolled": true
   },
   "outputs": [
    {
     "data": {
      "text/plain": [
       "(68487, 9)"
      ]
     },
     "execution_count": 137,
     "metadata": {},
     "output_type": "execute_result"
    }
   ],
   "source": [
    "df_usa_state.shape"
   ]
  },
  {
   "cell_type": "markdown",
   "metadata": {},
   "source": [
    "Nombre de valeurs null"
   ]
  },
  {
   "cell_type": "code",
   "execution_count": 138,
   "metadata": {
    "scrolled": true
   },
   "outputs": [
    {
     "data": {
      "text/plain": [
       "dates_time                     0\n",
       "city                           1\n",
       "state/province                 0\n",
       "country                        0\n",
       "UFO_shape                      0\n",
       "length_of_encounter_seconds    0\n",
       "latitude                       0\n",
       "longitude                      0\n",
       "state                          0\n",
       "dtype: int64"
      ]
     },
     "execution_count": 138,
     "metadata": {},
     "output_type": "execute_result"
    }
   ],
   "source": [
    "df_usa_state.isnull().sum()"
   ]
  },
  {
   "cell_type": "markdown",
   "metadata": {},
   "source": [
    "Suppression des valeurs null"
   ]
  },
  {
   "cell_type": "code",
   "execution_count": 139,
   "metadata": {},
   "outputs": [],
   "source": [
    "df_usa_state.dropna(subset=['city'], axis=0, inplace=True)"
   ]
  },
  {
   "cell_type": "code",
   "execution_count": 140,
   "metadata": {},
   "outputs": [
    {
     "data": {
      "text/plain": [
       "dates_time                     0\n",
       "city                           0\n",
       "state/province                 0\n",
       "country                        0\n",
       "UFO_shape                      0\n",
       "length_of_encounter_seconds    0\n",
       "latitude                       0\n",
       "longitude                      0\n",
       "state                          0\n",
       "dtype: int64"
      ]
     },
     "execution_count": 140,
     "metadata": {},
     "output_type": "execute_result"
    }
   ],
   "source": [
    "df_usa_state.isnull().sum()"
   ]
  },
  {
   "cell_type": "markdown",
   "metadata": {},
   "source": [
    "Dimension du dataset"
   ]
  },
  {
   "cell_type": "code",
   "execution_count": 141,
   "metadata": {
    "scrolled": true
   },
   "outputs": [
    {
     "data": {
      "text/plain": [
       "(68486, 9)"
      ]
     },
     "execution_count": 141,
     "metadata": {},
     "output_type": "execute_result"
    }
   ],
   "source": [
    "df_usa_state.shape"
   ]
  },
  {
   "cell_type": "markdown",
   "metadata": {},
   "source": [
    "#### **Canada**"
   ]
  },
  {
   "cell_type": "markdown",
   "metadata": {},
   "source": [
    "Nous allons récupérer les noms entiers des états du Canada avec le dataset de référence code état et état"
   ]
  },
  {
   "cell_type": "markdown",
   "metadata": {},
   "source": [
    "Création du dataset de référence  \n",
    "source : https://en.wikipedia.org/wiki/Alberta (recherche état par état)"
   ]
  },
  {
   "cell_type": "markdown",
   "metadata": {},
   "source": [
    "Création d'un dataset comprenant toutes les provinces du Canada et leur abréviations"
   ]
  },
  {
   "cell_type": "code",
   "execution_count": 142,
   "metadata": {},
   "outputs": [],
   "source": [
    "# Création du dataset\n",
    "data = {\"state/province\": [\"AB\", \"BC\", \"MB\",\n",
    "                           \"NB\", \"NL\", \"NT\",\n",
    "                           \"NS\", \"NU\", \"ON\",\n",
    "                           \"PE\", \"QC\", \"SK\",\n",
    "                           \"YT\", \"PQ\", \"NY\",\n",
    "                           \"NF\", \"SA\", \"YK\",\n",
    "                           \"CT\", \"MI\", \"WA\", \"WI\"],\n",
    "        'state': [\"Alberta\", \"British Columbia\", \"Manitoba\",\n",
    "                  \"New Brunswick\", \"Newfoundland and Labrador\", \"Northwest Territories\",\n",
    "                  \"Nova Scotia\", \"Nunavut\", \"Ontario\", \n",
    "                  \"Prince Edward Island\", \"Quebec\", \"Saskatchewan\",\n",
    "                  \"Yukon Territory\", \"Quebec\", \"Ontario\",\n",
    "                  \"Newfoundland and Labrador\", \"Saskatchewan\", \"Yukon Territory\",\n",
    "                  \"Ontario\", \"British Columbia\", \"British Columbia\", \"Quebec\"]}"
   ]
  },
  {
   "cell_type": "code",
   "execution_count": 143,
   "metadata": {
    "scrolled": true
   },
   "outputs": [],
   "source": [
    "#  Création du dataframe\n",
    "df_state_canada = pd.DataFrame(data)"
   ]
  },
  {
   "cell_type": "code",
   "execution_count": 144,
   "metadata": {},
   "outputs": [
    {
     "data": {
      "text/html": [
       "<div>\n",
       "<style scoped>\n",
       "    .dataframe tbody tr th:only-of-type {\n",
       "        vertical-align: middle;\n",
       "    }\n",
       "\n",
       "    .dataframe tbody tr th {\n",
       "        vertical-align: top;\n",
       "    }\n",
       "\n",
       "    .dataframe thead th {\n",
       "        text-align: right;\n",
       "    }\n",
       "</style>\n",
       "<table border=\"1\" class=\"dataframe\">\n",
       "  <thead>\n",
       "    <tr style=\"text-align: right;\">\n",
       "      <th></th>\n",
       "      <th>state/province</th>\n",
       "      <th>state</th>\n",
       "    </tr>\n",
       "  </thead>\n",
       "  <tbody>\n",
       "    <tr>\n",
       "      <th>0</th>\n",
       "      <td>AB</td>\n",
       "      <td>Alberta</td>\n",
       "    </tr>\n",
       "    <tr>\n",
       "      <th>1</th>\n",
       "      <td>BC</td>\n",
       "      <td>British Columbia</td>\n",
       "    </tr>\n",
       "    <tr>\n",
       "      <th>2</th>\n",
       "      <td>MB</td>\n",
       "      <td>Manitoba</td>\n",
       "    </tr>\n",
       "    <tr>\n",
       "      <th>3</th>\n",
       "      <td>NB</td>\n",
       "      <td>New Brunswick</td>\n",
       "    </tr>\n",
       "    <tr>\n",
       "      <th>4</th>\n",
       "      <td>NL</td>\n",
       "      <td>Newfoundland and Labrador</td>\n",
       "    </tr>\n",
       "    <tr>\n",
       "      <th>5</th>\n",
       "      <td>NT</td>\n",
       "      <td>Northwest Territories</td>\n",
       "    </tr>\n",
       "    <tr>\n",
       "      <th>6</th>\n",
       "      <td>NS</td>\n",
       "      <td>Nova Scotia</td>\n",
       "    </tr>\n",
       "    <tr>\n",
       "      <th>7</th>\n",
       "      <td>NU</td>\n",
       "      <td>Nunavut</td>\n",
       "    </tr>\n",
       "    <tr>\n",
       "      <th>8</th>\n",
       "      <td>ON</td>\n",
       "      <td>Ontario</td>\n",
       "    </tr>\n",
       "    <tr>\n",
       "      <th>9</th>\n",
       "      <td>PE</td>\n",
       "      <td>Prince Edward Island</td>\n",
       "    </tr>\n",
       "    <tr>\n",
       "      <th>10</th>\n",
       "      <td>QC</td>\n",
       "      <td>Quebec</td>\n",
       "    </tr>\n",
       "    <tr>\n",
       "      <th>11</th>\n",
       "      <td>SK</td>\n",
       "      <td>Saskatchewan</td>\n",
       "    </tr>\n",
       "    <tr>\n",
       "      <th>12</th>\n",
       "      <td>YT</td>\n",
       "      <td>Yukon Territory</td>\n",
       "    </tr>\n",
       "    <tr>\n",
       "      <th>13</th>\n",
       "      <td>PQ</td>\n",
       "      <td>Quebec</td>\n",
       "    </tr>\n",
       "    <tr>\n",
       "      <th>14</th>\n",
       "      <td>NY</td>\n",
       "      <td>Ontario</td>\n",
       "    </tr>\n",
       "    <tr>\n",
       "      <th>15</th>\n",
       "      <td>NF</td>\n",
       "      <td>Newfoundland and Labrador</td>\n",
       "    </tr>\n",
       "    <tr>\n",
       "      <th>16</th>\n",
       "      <td>SA</td>\n",
       "      <td>Saskatchewan</td>\n",
       "    </tr>\n",
       "    <tr>\n",
       "      <th>17</th>\n",
       "      <td>YK</td>\n",
       "      <td>Yukon Territory</td>\n",
       "    </tr>\n",
       "    <tr>\n",
       "      <th>18</th>\n",
       "      <td>CT</td>\n",
       "      <td>Ontario</td>\n",
       "    </tr>\n",
       "    <tr>\n",
       "      <th>19</th>\n",
       "      <td>MI</td>\n",
       "      <td>British Columbia</td>\n",
       "    </tr>\n",
       "    <tr>\n",
       "      <th>20</th>\n",
       "      <td>WA</td>\n",
       "      <td>British Columbia</td>\n",
       "    </tr>\n",
       "    <tr>\n",
       "      <th>21</th>\n",
       "      <td>WI</td>\n",
       "      <td>Quebec</td>\n",
       "    </tr>\n",
       "  </tbody>\n",
       "</table>\n",
       "</div>"
      ],
      "text/plain": [
       "   state/province                      state\n",
       "0              AB                    Alberta\n",
       "1              BC           British Columbia\n",
       "2              MB                   Manitoba\n",
       "3              NB              New Brunswick\n",
       "4              NL  Newfoundland and Labrador\n",
       "5              NT      Northwest Territories\n",
       "6              NS                Nova Scotia\n",
       "7              NU                    Nunavut\n",
       "8              ON                    Ontario\n",
       "9              PE       Prince Edward Island\n",
       "10             QC                     Quebec\n",
       "11             SK               Saskatchewan\n",
       "12             YT            Yukon Territory\n",
       "13             PQ                     Quebec\n",
       "14             NY                    Ontario\n",
       "15             NF  Newfoundland and Labrador\n",
       "16             SA               Saskatchewan\n",
       "17             YK            Yukon Territory\n",
       "18             CT                    Ontario\n",
       "19             MI           British Columbia\n",
       "20             WA           British Columbia\n",
       "21             WI                     Quebec"
      ]
     },
     "execution_count": 144,
     "metadata": {},
     "output_type": "execute_result"
    }
   ],
   "source": [
    "df_state_canada"
   ]
  },
  {
   "cell_type": "markdown",
   "metadata": {},
   "source": [
    "Création d'une colonne `country` initialisée à \"Canada\" pour une future fusion"
   ]
  },
  {
   "cell_type": "code",
   "execution_count": 145,
   "metadata": {},
   "outputs": [],
   "source": [
    "#  Création d'une colonne \"country\" initialisée à \"Canada\" pour une future fusion\n",
    "df_state_canada['country'] = \"Canada\""
   ]
  },
  {
   "cell_type": "code",
   "execution_count": 146,
   "metadata": {
    "scrolled": true
   },
   "outputs": [
    {
     "data": {
      "text/html": [
       "<div>\n",
       "<style scoped>\n",
       "    .dataframe tbody tr th:only-of-type {\n",
       "        vertical-align: middle;\n",
       "    }\n",
       "\n",
       "    .dataframe tbody tr th {\n",
       "        vertical-align: top;\n",
       "    }\n",
       "\n",
       "    .dataframe thead th {\n",
       "        text-align: right;\n",
       "    }\n",
       "</style>\n",
       "<table border=\"1\" class=\"dataframe\">\n",
       "  <thead>\n",
       "    <tr style=\"text-align: right;\">\n",
       "      <th></th>\n",
       "      <th>state/province</th>\n",
       "      <th>state</th>\n",
       "      <th>country</th>\n",
       "    </tr>\n",
       "  </thead>\n",
       "  <tbody>\n",
       "    <tr>\n",
       "      <th>0</th>\n",
       "      <td>AB</td>\n",
       "      <td>Alberta</td>\n",
       "      <td>Canada</td>\n",
       "    </tr>\n",
       "    <tr>\n",
       "      <th>1</th>\n",
       "      <td>BC</td>\n",
       "      <td>British Columbia</td>\n",
       "      <td>Canada</td>\n",
       "    </tr>\n",
       "  </tbody>\n",
       "</table>\n",
       "</div>"
      ],
      "text/plain": [
       "  state/province             state country\n",
       "0             AB           Alberta  Canada\n",
       "1             BC  British Columbia  Canada"
      ]
     },
     "execution_count": 146,
     "metadata": {},
     "output_type": "execute_result"
    }
   ],
   "source": [
    "df_state_canada.head(2)"
   ]
  },
  {
   "cell_type": "markdown",
   "metadata": {},
   "source": [
    "Dimension du dataset de référence"
   ]
  },
  {
   "cell_type": "code",
   "execution_count": 147,
   "metadata": {},
   "outputs": [
    {
     "data": {
      "text/plain": [
       "(22, 3)"
      ]
     },
     "execution_count": 147,
     "metadata": {},
     "output_type": "execute_result"
    }
   ],
   "source": [
    "# dataframe de référence Canada\n",
    "df_state_canada.shape"
   ]
  },
  {
   "cell_type": "code",
   "execution_count": 148,
   "metadata": {},
   "outputs": [
    {
     "data": {
      "text/plain": [
       "array(['Alberta', 'British Columbia', 'Manitoba', 'New Brunswick',\n",
       "       'Newfoundland and Labrador', 'Northwest Territories',\n",
       "       'Nova Scotia', 'Nunavut', 'Ontario', 'Prince Edward Island',\n",
       "       'Quebec', 'Saskatchewan', 'Yukon Territory'], dtype=object)"
      ]
     },
     "execution_count": 148,
     "metadata": {},
     "output_type": "execute_result"
    }
   ],
   "source": [
    "df_state_canada.state.unique()"
   ]
  },
  {
   "cell_type": "markdown",
   "metadata": {},
   "source": [
    "Création d'un dataset temporaire qui ne comprend que les valeurs concernant du Canada en vue de la future fusion"
   ]
  },
  {
   "cell_type": "markdown",
   "metadata": {},
   "source": [
    "Sélection des données relatives au Canada"
   ]
  },
  {
   "cell_type": "code",
   "execution_count": 150,
   "metadata": {},
   "outputs": [],
   "source": [
    "df_canada = ufo_col.loc[ufo_col[\"country\"] == 'Canada']"
   ]
  },
  {
   "cell_type": "code",
   "execution_count": 217,
   "metadata": {
    "scrolled": true
   },
   "outputs": [
    {
     "data": {
      "text/html": [
       "<div>\n",
       "<style scoped>\n",
       "    .dataframe tbody tr th:only-of-type {\n",
       "        vertical-align: middle;\n",
       "    }\n",
       "\n",
       "    .dataframe tbody tr th {\n",
       "        vertical-align: top;\n",
       "    }\n",
       "\n",
       "    .dataframe thead th {\n",
       "        text-align: right;\n",
       "    }\n",
       "</style>\n",
       "<table border=\"1\" class=\"dataframe\">\n",
       "  <thead>\n",
       "    <tr style=\"text-align: right;\">\n",
       "      <th></th>\n",
       "      <th>dates_time</th>\n",
       "      <th>city</th>\n",
       "      <th>state/province</th>\n",
       "      <th>country</th>\n",
       "      <th>UFO_shape</th>\n",
       "      <th>length_of_encounter_seconds</th>\n",
       "      <th>latitude</th>\n",
       "      <th>longitude</th>\n",
       "    </tr>\n",
       "  </thead>\n",
       "  <tbody>\n",
       "    <tr>\n",
       "      <th>29</th>\n",
       "      <td>1979-10-10 22:00:00</td>\n",
       "      <td>Saddle Lake</td>\n",
       "      <td>AB</td>\n",
       "      <td>Canada</td>\n",
       "      <td>triangle</td>\n",
       "      <td>270.0</td>\n",
       "      <td>53.970571</td>\n",
       "      <td>-111.689885</td>\n",
       "    </tr>\n",
       "    <tr>\n",
       "      <th>61</th>\n",
       "      <td>1994-10-10 23:00:00</td>\n",
       "      <td>Toronto</td>\n",
       "      <td>ON</td>\n",
       "      <td>Canada</td>\n",
       "      <td>sphere</td>\n",
       "      <td>3600.0</td>\n",
       "      <td>43.666667</td>\n",
       "      <td>-79.416667</td>\n",
       "    </tr>\n",
       "  </tbody>\n",
       "</table>\n",
       "</div>"
      ],
      "text/plain": [
       "            dates_time         city state/province country UFO_shape  \\\n",
       "29 1979-10-10 22:00:00  Saddle Lake             AB  Canada  triangle   \n",
       "61 1994-10-10 23:00:00      Toronto             ON  Canada    sphere   \n",
       "\n",
       "    length_of_encounter_seconds   latitude   longitude  \n",
       "29                        270.0  53.970571 -111.689885  \n",
       "61                       3600.0  43.666667  -79.416667  "
      ]
     },
     "execution_count": 217,
     "metadata": {},
     "output_type": "execute_result"
    }
   ],
   "source": [
    "df_canada.head(2)"
   ]
  },
  {
   "cell_type": "markdown",
   "metadata": {},
   "source": [
    "Dimension du dataset temporaire"
   ]
  },
  {
   "cell_type": "code",
   "execution_count": 151,
   "metadata": {
    "scrolled": false
   },
   "outputs": [
    {
     "data": {
      "text/plain": [
       "(3523, 8)"
      ]
     },
     "execution_count": 151,
     "metadata": {},
     "output_type": "execute_result"
    }
   ],
   "source": [
    "df_canada.shape"
   ]
  },
  {
   "cell_type": "markdown",
   "metadata": {},
   "source": [
    "Fusion de ce dataset avec le dataset de référence afin de récupérer pour chaque state/province `state/province`, le`state` correspondant. "
   ]
  },
  {
   "cell_type": "markdown",
   "metadata": {},
   "source": [
    "Fusion avec les dataframes \"df_canada\" et \"df_state_canada\""
   ]
  },
  {
   "cell_type": "code",
   "execution_count": 153,
   "metadata": {},
   "outputs": [],
   "source": [
    "df_canada_state = pd.merge(df_canada, df_state_canada, how='left')"
   ]
  },
  {
   "cell_type": "markdown",
   "metadata": {},
   "source": [
    "Dimension du dataset après fusion"
   ]
  },
  {
   "cell_type": "code",
   "execution_count": 154,
   "metadata": {
    "scrolled": false
   },
   "outputs": [
    {
     "data": {
      "text/plain": [
       "(3523, 9)"
      ]
     },
     "execution_count": 154,
     "metadata": {},
     "output_type": "execute_result"
    }
   ],
   "source": [
    "df_canada_state.shape"
   ]
  },
  {
   "cell_type": "markdown",
   "metadata": {},
   "source": [
    "Nombre de valeurs null"
   ]
  },
  {
   "cell_type": "code",
   "execution_count": 155,
   "metadata": {
    "scrolled": true
   },
   "outputs": [
    {
     "data": {
      "text/plain": [
       "dates_time                     0\n",
       "city                           0\n",
       "state/province                 1\n",
       "country                        0\n",
       "UFO_shape                      0\n",
       "length_of_encounter_seconds    0\n",
       "latitude                       0\n",
       "longitude                      0\n",
       "state                          5\n",
       "dtype: int64"
      ]
     },
     "execution_count": 155,
     "metadata": {},
     "output_type": "execute_result"
    }
   ],
   "source": [
    "df_canada_state.isnull().sum()"
   ]
  },
  {
   "cell_type": "markdown",
   "metadata": {},
   "source": [
    "Suppression des valeurs null"
   ]
  },
  {
   "cell_type": "code",
   "execution_count": 156,
   "metadata": {},
   "outputs": [],
   "source": [
    "# Suppression de la valeur null\n",
    "df_canada_state.dropna(subset=['state'], axis=0, inplace=True)"
   ]
  },
  {
   "cell_type": "code",
   "execution_count": 157,
   "metadata": {
    "scrolled": true
   },
   "outputs": [
    {
     "data": {
      "text/plain": [
       "dates_time                     0\n",
       "city                           0\n",
       "state/province                 0\n",
       "country                        0\n",
       "UFO_shape                      0\n",
       "length_of_encounter_seconds    0\n",
       "latitude                       0\n",
       "longitude                      0\n",
       "state                          0\n",
       "dtype: int64"
      ]
     },
     "execution_count": 157,
     "metadata": {},
     "output_type": "execute_result"
    }
   ],
   "source": [
    "df_canada_state.isnull().sum()"
   ]
  },
  {
   "cell_type": "markdown",
   "metadata": {},
   "source": [
    "#### Implémentation des \"state\" dans le dataset principal"
   ]
  },
  {
   "cell_type": "markdown",
   "metadata": {},
   "source": [
    "Fusion des trois dataframes de référence (USA, Canada, Royaume-Uni) comprenant les noms entiers des \"états/terrictoires\""
   ]
  },
  {
   "cell_type": "markdown",
   "metadata": {},
   "source": [
    "Fusion du dataset à étudier avec le dataset de référence pour récupérer les différents états (\"state\")"
   ]
  },
  {
   "cell_type": "markdown",
   "metadata": {},
   "source": [
    "Création d'un dataset comprenant les 3 dataset temporaire (Royaume-Uni, USA, Canada)"
   ]
  },
  {
   "cell_type": "code",
   "execution_count": 158,
   "metadata": {},
   "outputs": [],
   "source": [
    "frames = [df_gb_state, df_usa_state, df_canada_state]\n",
    "ufo_col_state =  pd.concat(frames)"
   ]
  },
  {
   "cell_type": "markdown",
   "metadata": {},
   "source": [
    "Dimensions de ce dataframe"
   ]
  },
  {
   "cell_type": "code",
   "execution_count": 159,
   "metadata": {},
   "outputs": [
    {
     "data": {
      "text/plain": [
       "(73872, 9)"
      ]
     },
     "execution_count": 159,
     "metadata": {},
     "output_type": "execute_result"
    }
   ],
   "source": [
    "ufo_col_state.shape"
   ]
  },
  {
   "cell_type": "code",
   "execution_count": 160,
   "metadata": {
    "scrolled": true
   },
   "outputs": [
    {
     "data": {
      "text/html": [
       "<div>\n",
       "<style scoped>\n",
       "    .dataframe tbody tr th:only-of-type {\n",
       "        vertical-align: middle;\n",
       "    }\n",
       "\n",
       "    .dataframe tbody tr th {\n",
       "        vertical-align: top;\n",
       "    }\n",
       "\n",
       "    .dataframe thead th {\n",
       "        text-align: right;\n",
       "    }\n",
       "</style>\n",
       "<table border=\"1\" class=\"dataframe\">\n",
       "  <thead>\n",
       "    <tr style=\"text-align: right;\">\n",
       "      <th></th>\n",
       "      <th>dates_time</th>\n",
       "      <th>city</th>\n",
       "      <th>state/province</th>\n",
       "      <th>country</th>\n",
       "      <th>UFO_shape</th>\n",
       "      <th>length_of_encounter_seconds</th>\n",
       "      <th>latitude</th>\n",
       "      <th>longitude</th>\n",
       "      <th>state</th>\n",
       "    </tr>\n",
       "  </thead>\n",
       "  <tbody>\n",
       "    <tr>\n",
       "      <th>3520</th>\n",
       "      <td>2012-09-09 14:00:00</td>\n",
       "      <td>Pictou</td>\n",
       "      <td>NS</td>\n",
       "      <td>Canada</td>\n",
       "      <td>disk</td>\n",
       "      <td>600.0</td>\n",
       "      <td>45.666667</td>\n",
       "      <td>-62.700000</td>\n",
       "      <td>Nova Scotia</td>\n",
       "    </tr>\n",
       "    <tr>\n",
       "      <th>3521</th>\n",
       "      <td>2013-09-09 13:10:00</td>\n",
       "      <td>Calmar</td>\n",
       "      <td>AB</td>\n",
       "      <td>Canada</td>\n",
       "      <td>unknown</td>\n",
       "      <td>90.0</td>\n",
       "      <td>53.250000</td>\n",
       "      <td>-113.783333</td>\n",
       "      <td>Alberta</td>\n",
       "    </tr>\n",
       "    <tr>\n",
       "      <th>3522</th>\n",
       "      <td>2013-09-09 21:00:00</td>\n",
       "      <td>Milton</td>\n",
       "      <td>ON</td>\n",
       "      <td>Canada</td>\n",
       "      <td>fireball</td>\n",
       "      <td>180.0</td>\n",
       "      <td>46.300000</td>\n",
       "      <td>-63.216667</td>\n",
       "      <td>Ontario</td>\n",
       "    </tr>\n",
       "  </tbody>\n",
       "</table>\n",
       "</div>"
      ],
      "text/plain": [
       "              dates_time    city state/province country UFO_shape  \\\n",
       "3520 2012-09-09 14:00:00  Pictou             NS  Canada      disk   \n",
       "3521 2013-09-09 13:10:00  Calmar             AB  Canada   unknown   \n",
       "3522 2013-09-09 21:00:00  Milton             ON  Canada  fireball   \n",
       "\n",
       "      length_of_encounter_seconds   latitude   longitude        state  \n",
       "3520                        600.0  45.666667  -62.700000  Nova Scotia  \n",
       "3521                         90.0  53.250000 -113.783333      Alberta  \n",
       "3522                        180.0  46.300000  -63.216667      Ontario  "
      ]
     },
     "execution_count": 160,
     "metadata": {},
     "output_type": "execute_result"
    }
   ],
   "source": [
    "ufo_col_state.tail(3)"
   ]
  },
  {
   "cell_type": "code",
   "execution_count": 161,
   "metadata": {},
   "outputs": [
    {
     "data": {
      "text/plain": [
       "array(['United Kingdom', 'USA', 'Canada'], dtype=object)"
      ]
     },
     "execution_count": 161,
     "metadata": {},
     "output_type": "execute_result"
    }
   ],
   "source": [
    "ufo_col_state.country.unique()"
   ]
  },
  {
   "cell_type": "markdown",
   "metadata": {},
   "source": [
    "Nombre de valeurs null"
   ]
  },
  {
   "cell_type": "code",
   "execution_count": 162,
   "metadata": {},
   "outputs": [
    {
     "data": {
      "text/plain": [
       "dates_time                     0\n",
       "city                           0\n",
       "state/province                 0\n",
       "country                        0\n",
       "UFO_shape                      0\n",
       "length_of_encounter_seconds    0\n",
       "latitude                       0\n",
       "longitude                      0\n",
       "state                          0\n",
       "dtype: int64"
      ]
     },
     "execution_count": 162,
     "metadata": {},
     "output_type": "execute_result"
    }
   ],
   "source": [
    "#  Nombre de valeurs null\n",
    "ufo_col_state.isnull().sum()"
   ]
  },
  {
   "cell_type": "code",
   "execution_count": 163,
   "metadata": {},
   "outputs": [
    {
     "data": {
      "text/plain": [
       "array(['Alabama', 'Alaska', 'Alberta', 'Arizona', 'Arkansas',\n",
       "       'British Columbia', 'California', 'Colorado', 'Connecticut',\n",
       "       'Delaware', 'District of Columbia', 'East Midlands',\n",
       "       'East of England', 'Florida', 'Georgia', 'Greater London',\n",
       "       'Hawaii', 'Idaho', 'Illinois', 'Indiana', 'Iowa', 'Kansas',\n",
       "       'Kentucky', 'Louisiana', 'Maine', 'Manitoba', 'Maryland',\n",
       "       'Massachusetts', 'Michigan', 'Minnesota', 'Mississippi',\n",
       "       'Missouri', 'Montana', 'Nebraska', 'Nevada', 'New Brunswick',\n",
       "       'New Hampshire', 'New Jersey', 'New Mexico', 'New York',\n",
       "       'Newfoundland and Labrador', 'North Carolina', 'North Dakota',\n",
       "       'North East of England', 'North West of England',\n",
       "       'Northern Ireland', 'Northwest Territories', 'Nova Scotia',\n",
       "       'Nunavut', 'Ohio', 'Oklahoma', 'Ontario', 'Oregon', 'Pennsylvania',\n",
       "       'Prince Edward Island', 'Puerto Rico', 'Quebec', 'Rhode Island',\n",
       "       'Saskatchewan', 'Scotland', 'South Carolina', 'South Dakota',\n",
       "       'South East of England', 'South West of England', 'Tennessee',\n",
       "       'Texas', 'Utah', 'Vermont', 'Virginia', 'Wales', 'Washington',\n",
       "       'West Midlands', 'West Virginia', 'Wisconsin', 'Wyoming',\n",
       "       'Yorkshire and the Humber', 'Yukon Territory'], dtype=object)"
      ]
     },
     "execution_count": 163,
     "metadata": {},
     "output_type": "execute_result"
    }
   ],
   "source": [
    "ufo_col_state.state.sort_values().unique()"
   ]
  },
  {
   "cell_type": "markdown",
   "metadata": {},
   "source": [
    "Nombre des valeurs par `country`"
   ]
  },
  {
   "cell_type": "code",
   "execution_count": 164,
   "metadata": {
    "scrolled": false
   },
   "outputs": [
    {
     "data": {
      "text/plain": [
       "USA               68486\n",
       "Canada             3518\n",
       "United Kingdom     1868\n",
       "Name: country, dtype: int64"
      ]
     },
     "execution_count": 164,
     "metadata": {},
     "output_type": "execute_result"
    }
   ],
   "source": [
    "ufo_col_state.country.value_counts()"
   ]
  },
  {
   "cell_type": "markdown",
   "metadata": {},
   "source": [
    "Les USA dominent en nombre de données ce dataset"
   ]
  },
  {
   "cell_type": "markdown",
   "metadata": {},
   "source": [
    "###  Importation de **datasets complémentaires**"
   ]
  },
  {
   "cell_type": "markdown",
   "metadata": {},
   "source": [
    "####  Import de données relatives à la **population**"
   ]
  },
  {
   "cell_type": "markdown",
   "metadata": {},
   "source": [
    "##### **Angleterre** : population de 2019 par région  \n",
    "Source : https://www.ons.gov.uk/peoplepopulationandcommunity/populationandmigration/populationestimates/datasets/populationestimatesforukenglandandwalesscotlandandnorthernireland"
   ]
  },
  {
   "cell_type": "markdown",
   "metadata": {},
   "source": [
    "Import et lecture du fichier \"pop_uk_2019.csv\" qui contient le nombre d'habitants en Angleterre en 2019"
   ]
  },
  {
   "cell_type": "code",
   "execution_count": 165,
   "metadata": {},
   "outputs": [
    {
     "data": {
      "text/html": [
       "<div>\n",
       "<style scoped>\n",
       "    .dataframe tbody tr th:only-of-type {\n",
       "        vertical-align: middle;\n",
       "    }\n",
       "\n",
       "    .dataframe tbody tr th {\n",
       "        vertical-align: top;\n",
       "    }\n",
       "\n",
       "    .dataframe thead th {\n",
       "        text-align: right;\n",
       "    }\n",
       "</style>\n",
       "<table border=\"1\" class=\"dataframe\">\n",
       "  <thead>\n",
       "    <tr style=\"text-align: right;\">\n",
       "      <th></th>\n",
       "      <th>state</th>\n",
       "      <th>population</th>\n",
       "    </tr>\n",
       "  </thead>\n",
       "  <tbody>\n",
       "    <tr>\n",
       "      <th>0</th>\n",
       "      <td>Greater London</td>\n",
       "      <td>8961989</td>\n",
       "    </tr>\n",
       "    <tr>\n",
       "      <th>1</th>\n",
       "      <td>South East of England</td>\n",
       "      <td>9180135</td>\n",
       "    </tr>\n",
       "  </tbody>\n",
       "</table>\n",
       "</div>"
      ],
      "text/plain": [
       "                   state  population\n",
       "0         Greater London     8961989\n",
       "1  South East of England     9180135"
      ]
     },
     "execution_count": 165,
     "metadata": {},
     "output_type": "execute_result"
    }
   ],
   "source": [
    "pop_uk = pd.read_csv(\"pop_uk_2019.csv\", encoding=ENCODAGE, sep=',').copy()\n",
    "pop_uk.head(2)"
   ]
  },
  {
   "cell_type": "code",
   "execution_count": 166,
   "metadata": {},
   "outputs": [
    {
     "data": {
      "text/plain": [
       "array(['Greater London', 'South East of England', 'East of England',\n",
       "       'South West of England', 'North West of England', 'East Midlands',\n",
       "       'West Midlands', 'Yorkshire and the Humber',\n",
       "       'North East of England', 'Scotland', 'Wales', 'Northern Ireland'],\n",
       "      dtype=object)"
      ]
     },
     "execution_count": 166,
     "metadata": {},
     "output_type": "execute_result"
    }
   ],
   "source": [
    "pop_uk.state.unique()"
   ]
  },
  {
   "cell_type": "markdown",
   "metadata": {},
   "source": [
    "Dimension du fichier"
   ]
  },
  {
   "cell_type": "code",
   "execution_count": 167,
   "metadata": {
    "scrolled": false
   },
   "outputs": [
    {
     "data": {
      "text/plain": [
       "(12, 2)"
      ]
     },
     "execution_count": 167,
     "metadata": {},
     "output_type": "execute_result"
    }
   ],
   "source": [
    "pop_uk.shape"
   ]
  },
  {
   "cell_type": "markdown",
   "metadata": {},
   "source": [
    "Informations générales sur le fichier"
   ]
  },
  {
   "cell_type": "code",
   "execution_count": 168,
   "metadata": {
    "scrolled": true
   },
   "outputs": [
    {
     "name": "stdout",
     "output_type": "stream",
     "text": [
      "<class 'pandas.core.frame.DataFrame'>\n",
      "RangeIndex: 12 entries, 0 to 11\n",
      "Data columns (total 2 columns):\n",
      " #   Column      Non-Null Count  Dtype \n",
      "---  ------      --------------  ----- \n",
      " 0   state       12 non-null     object\n",
      " 1   population  12 non-null     int64 \n",
      "dtypes: int64(1), object(1)\n",
      "memory usage: 320.0+ bytes\n"
     ]
    }
   ],
   "source": [
    "pop_uk.info()"
   ]
  },
  {
   "cell_type": "markdown",
   "metadata": {},
   "source": [
    "#####  **USA** : population de 2020 par état  \n",
    "Source : https://lehd.ces.census.gov/data/schema/latest/lehd_shapefiles.html "
   ]
  },
  {
   "cell_type": "markdown",
   "metadata": {},
   "source": [
    "Import et lecture du fichier \"pop_usa_2020.csv\" qui contient le nombre d'habitants aux USA en 2020"
   ]
  },
  {
   "cell_type": "code",
   "execution_count": 169,
   "metadata": {},
   "outputs": [
    {
     "data": {
      "text/html": [
       "<div>\n",
       "<style scoped>\n",
       "    .dataframe tbody tr th:only-of-type {\n",
       "        vertical-align: middle;\n",
       "    }\n",
       "\n",
       "    .dataframe tbody tr th {\n",
       "        vertical-align: top;\n",
       "    }\n",
       "\n",
       "    .dataframe thead th {\n",
       "        text-align: right;\n",
       "    }\n",
       "</style>\n",
       "<table border=\"1\" class=\"dataframe\">\n",
       "  <thead>\n",
       "    <tr style=\"text-align: right;\">\n",
       "      <th></th>\n",
       "      <th>state</th>\n",
       "      <th>population</th>\n",
       "    </tr>\n",
       "  </thead>\n",
       "  <tbody>\n",
       "    <tr>\n",
       "      <th>0</th>\n",
       "      <td>California</td>\n",
       "      <td>39538223</td>\n",
       "    </tr>\n",
       "    <tr>\n",
       "      <th>1</th>\n",
       "      <td>Texas</td>\n",
       "      <td>29145505</td>\n",
       "    </tr>\n",
       "    <tr>\n",
       "      <th>2</th>\n",
       "      <td>Florida</td>\n",
       "      <td>21538187</td>\n",
       "    </tr>\n",
       "    <tr>\n",
       "      <th>3</th>\n",
       "      <td>New York</td>\n",
       "      <td>20201249</td>\n",
       "    </tr>\n",
       "    <tr>\n",
       "      <th>4</th>\n",
       "      <td>Pennsylvania</td>\n",
       "      <td>13002700</td>\n",
       "    </tr>\n",
       "  </tbody>\n",
       "</table>\n",
       "</div>"
      ],
      "text/plain": [
       "          state  population\n",
       "0    California    39538223\n",
       "1         Texas    29145505\n",
       "2       Florida    21538187\n",
       "3      New York    20201249\n",
       "4  Pennsylvania    13002700"
      ]
     },
     "execution_count": 169,
     "metadata": {},
     "output_type": "execute_result"
    }
   ],
   "source": [
    "pop_usa = pd.read_csv(\"pop_usa_2020.csv\",\n",
    "                      decimal=\",\",\n",
    "                      encoding=ENCODAGE).copy()\n",
    "pop_usa.head()"
   ]
  },
  {
   "cell_type": "markdown",
   "metadata": {},
   "source": [
    "Dimension du fichier"
   ]
  },
  {
   "cell_type": "code",
   "execution_count": 170,
   "metadata": {
    "scrolled": true
   },
   "outputs": [
    {
     "data": {
      "text/plain": [
       "(56, 2)"
      ]
     },
     "execution_count": 170,
     "metadata": {},
     "output_type": "execute_result"
    }
   ],
   "source": [
    "pop_usa.shape"
   ]
  },
  {
   "cell_type": "markdown",
   "metadata": {},
   "source": [
    "Informations générales sur le fichier"
   ]
  },
  {
   "cell_type": "code",
   "execution_count": 171,
   "metadata": {},
   "outputs": [
    {
     "name": "stdout",
     "output_type": "stream",
     "text": [
      "<class 'pandas.core.frame.DataFrame'>\n",
      "RangeIndex: 56 entries, 0 to 55\n",
      "Data columns (total 2 columns):\n",
      " #   Column      Non-Null Count  Dtype \n",
      "---  ------      --------------  ----- \n",
      " 0   state       56 non-null     object\n",
      " 1   population  56 non-null     int64 \n",
      "dtypes: int64(1), object(1)\n",
      "memory usage: 1.0+ KB\n"
     ]
    }
   ],
   "source": [
    "pop_usa.info()"
   ]
  },
  {
   "cell_type": "markdown",
   "metadata": {},
   "source": [
    "Nombre de valeurs null"
   ]
  },
  {
   "cell_type": "code",
   "execution_count": 172,
   "metadata": {},
   "outputs": [
    {
     "data": {
      "text/plain": [
       "state         0\n",
       "population    0\n",
       "dtype: int64"
      ]
     },
     "execution_count": 172,
     "metadata": {},
     "output_type": "execute_result"
    }
   ],
   "source": [
    "#  Aucune valeur null\n",
    "pop_usa.isnull().sum()"
   ]
  },
  {
   "cell_type": "markdown",
   "metadata": {},
   "source": [
    "Nombre de valeurs dupliquées"
   ]
  },
  {
   "cell_type": "code",
   "execution_count": 173,
   "metadata": {},
   "outputs": [
    {
     "data": {
      "text/plain": [
       "0"
      ]
     },
     "execution_count": 173,
     "metadata": {},
     "output_type": "execute_result"
    }
   ],
   "source": [
    "# Aucune valeur dupliquée\n",
    "pop_usa.duplicated().sum()"
   ]
  },
  {
   "cell_type": "markdown",
   "metadata": {},
   "source": [
    "##### **Canada** : population de 2020  par province\n",
    "Source : https://worldpopulationreview.com/canadian-provinces"
   ]
  },
  {
   "cell_type": "markdown",
   "metadata": {},
   "source": [
    "Import et lecture du fichier \"pop_canada_2020.csv\" qui contient le nombre d'habitants au Canada en 2020"
   ]
  },
  {
   "cell_type": "code",
   "execution_count": 174,
   "metadata": {},
   "outputs": [],
   "source": [
    "pop_canada = pd.read_csv(\"pop_canada_2020.csv\", encoding=ENCODAGE).copy()"
   ]
  },
  {
   "cell_type": "code",
   "execution_count": 175,
   "metadata": {
    "scrolled": true
   },
   "outputs": [
    {
     "data": {
      "text/html": [
       "<div>\n",
       "<style scoped>\n",
       "    .dataframe tbody tr th:only-of-type {\n",
       "        vertical-align: middle;\n",
       "    }\n",
       "\n",
       "    .dataframe tbody tr th {\n",
       "        vertical-align: top;\n",
       "    }\n",
       "\n",
       "    .dataframe thead th {\n",
       "        text-align: right;\n",
       "    }\n",
       "</style>\n",
       "<table border=\"1\" class=\"dataframe\">\n",
       "  <thead>\n",
       "    <tr style=\"text-align: right;\">\n",
       "      <th></th>\n",
       "      <th>state</th>\n",
       "      <th>population</th>\n",
       "    </tr>\n",
       "  </thead>\n",
       "  <tbody>\n",
       "    <tr>\n",
       "      <th>0</th>\n",
       "      <td>Ontario</td>\n",
       "      <td>14733119</td>\n",
       "    </tr>\n",
       "    <tr>\n",
       "      <th>1</th>\n",
       "      <td>Quebec</td>\n",
       "      <td>8575779</td>\n",
       "    </tr>\n",
       "  </tbody>\n",
       "</table>\n",
       "</div>"
      ],
      "text/plain": [
       "     state  population\n",
       "0  Ontario    14733119\n",
       "1   Quebec     8575779"
      ]
     },
     "execution_count": 175,
     "metadata": {},
     "output_type": "execute_result"
    }
   ],
   "source": [
    "pop_canada.head(2)"
   ]
  },
  {
   "cell_type": "markdown",
   "metadata": {},
   "source": [
    "Dimension du fichier"
   ]
  },
  {
   "cell_type": "code",
   "execution_count": 176,
   "metadata": {},
   "outputs": [
    {
     "data": {
      "text/plain": [
       "(13, 2)"
      ]
     },
     "execution_count": 176,
     "metadata": {},
     "output_type": "execute_result"
    }
   ],
   "source": [
    "pop_canada.shape"
   ]
  },
  {
   "cell_type": "markdown",
   "metadata": {},
   "source": [
    "Informations générales sur le fichier"
   ]
  },
  {
   "cell_type": "code",
   "execution_count": 177,
   "metadata": {
    "scrolled": true
   },
   "outputs": [
    {
     "name": "stdout",
     "output_type": "stream",
     "text": [
      "<class 'pandas.core.frame.DataFrame'>\n",
      "RangeIndex: 13 entries, 0 to 12\n",
      "Data columns (total 2 columns):\n",
      " #   Column      Non-Null Count  Dtype \n",
      "---  ------      --------------  ----- \n",
      " 0   state       13 non-null     object\n",
      " 1   population  13 non-null     int64 \n",
      "dtypes: int64(1), object(1)\n",
      "memory usage: 336.0+ bytes\n"
     ]
    }
   ],
   "source": [
    "pop_canada.info()"
   ]
  },
  {
   "cell_type": "markdown",
   "metadata": {},
   "source": [
    "##### **Création** d'un dataframe réunissant la population des USA, Canada et Angleterre"
   ]
  },
  {
   "cell_type": "markdown",
   "metadata": {},
   "source": [
    "Création d'une colonne pour chaque dataset contenant le nom du pays"
   ]
  },
  {
   "cell_type": "code",
   "execution_count": 178,
   "metadata": {},
   "outputs": [],
   "source": [
    "pop_uk['country'] = 'United Kingdom'\n",
    "pop_usa['country'] = 'USA'\n",
    "pop_canada['country'] = 'Canada'"
   ]
  },
  {
   "cell_type": "markdown",
   "metadata": {},
   "source": [
    "Concaténation des 3 datasets temporaires"
   ]
  },
  {
   "cell_type": "code",
   "execution_count": 179,
   "metadata": {},
   "outputs": [],
   "source": [
    "pop_frames = [pop_uk, pop_usa, pop_canada]\n",
    "df_total_pop = pd.concat(pop_frames)"
   ]
  },
  {
   "cell_type": "code",
   "execution_count": 180,
   "metadata": {},
   "outputs": [
    {
     "data": {
      "text/html": [
       "<div>\n",
       "<style scoped>\n",
       "    .dataframe tbody tr th:only-of-type {\n",
       "        vertical-align: middle;\n",
       "    }\n",
       "\n",
       "    .dataframe tbody tr th {\n",
       "        vertical-align: top;\n",
       "    }\n",
       "\n",
       "    .dataframe thead th {\n",
       "        text-align: right;\n",
       "    }\n",
       "</style>\n",
       "<table border=\"1\" class=\"dataframe\">\n",
       "  <thead>\n",
       "    <tr style=\"text-align: right;\">\n",
       "      <th></th>\n",
       "      <th>state</th>\n",
       "      <th>population</th>\n",
       "      <th>country</th>\n",
       "    </tr>\n",
       "  </thead>\n",
       "  <tbody>\n",
       "    <tr>\n",
       "      <th>0</th>\n",
       "      <td>Greater London</td>\n",
       "      <td>8961989</td>\n",
       "      <td>United Kingdom</td>\n",
       "    </tr>\n",
       "    <tr>\n",
       "      <th>1</th>\n",
       "      <td>South East of England</td>\n",
       "      <td>9180135</td>\n",
       "      <td>United Kingdom</td>\n",
       "    </tr>\n",
       "  </tbody>\n",
       "</table>\n",
       "</div>"
      ],
      "text/plain": [
       "                   state  population         country\n",
       "0         Greater London     8961989  United Kingdom\n",
       "1  South East of England     9180135  United Kingdom"
      ]
     },
     "execution_count": 180,
     "metadata": {},
     "output_type": "execute_result"
    }
   ],
   "source": [
    "df_total_pop.head(2)"
   ]
  },
  {
   "cell_type": "markdown",
   "metadata": {},
   "source": [
    "Dimension du dataset"
   ]
  },
  {
   "cell_type": "code",
   "execution_count": 181,
   "metadata": {},
   "outputs": [
    {
     "data": {
      "text/plain": [
       "(81, 3)"
      ]
     },
     "execution_count": 181,
     "metadata": {},
     "output_type": "execute_result"
    }
   ],
   "source": [
    "df_total_pop.shape"
   ]
  },
  {
   "cell_type": "markdown",
   "metadata": {},
   "source": [
    "Nombre de valeurs dupliquées"
   ]
  },
  {
   "cell_type": "code",
   "execution_count": 182,
   "metadata": {
    "scrolled": true
   },
   "outputs": [
    {
     "data": {
      "text/plain": [
       "0"
      ]
     },
     "execution_count": 182,
     "metadata": {},
     "output_type": "execute_result"
    }
   ],
   "source": [
    "df_total_pop.duplicated().sum()"
   ]
  },
  {
   "cell_type": "markdown",
   "metadata": {},
   "source": [
    "Nombre de valeurs null"
   ]
  },
  {
   "cell_type": "code",
   "execution_count": 183,
   "metadata": {
    "scrolled": false
   },
   "outputs": [
    {
     "data": {
      "text/plain": [
       "state         0\n",
       "population    0\n",
       "country       0\n",
       "dtype: int64"
      ]
     },
     "execution_count": 183,
     "metadata": {},
     "output_type": "execute_result"
    }
   ],
   "source": [
    "df_total_pop.isnull().sum()"
   ]
  },
  {
   "cell_type": "code",
   "execution_count": 184,
   "metadata": {},
   "outputs": [
    {
     "data": {
      "text/plain": [
       "array(['Greater London', 'South East of England', 'East of England',\n",
       "       'South West of England', 'North West of England', 'East Midlands',\n",
       "       'West Midlands', 'Yorkshire and the Humber',\n",
       "       'North East of England', 'Scotland', 'Wales', 'Northern Ireland',\n",
       "       'California', 'Texas', 'Florida', 'New York', 'Pennsylvania',\n",
       "       'Illinois', 'Ohio', 'Georgia', 'North Carolina', 'Michigan',\n",
       "       'New Jersey', 'Virginia', 'Washington', 'Arizona', 'Massachusetts',\n",
       "       'Tennessee', 'Indiana', 'Maryland', 'Missouri', 'Wisconsin',\n",
       "       'Colorado', 'Minnesota', 'South Carolina', 'Alabama', 'Louisiana',\n",
       "       'Kentucky', 'Oregon', 'Oklahoma', 'Connecticut', 'Puerto Rico',\n",
       "       'Utah', 'Iowa', 'Nevada', 'Arkansas', 'Mississippi', 'Kansas',\n",
       "       'New Mexico', 'Nebraska', 'Idaho', 'West Virginia', 'Hawaii',\n",
       "       'New Hampshire', 'Maine', 'Rhode Island', 'Montana', 'Delaware',\n",
       "       'South Dakota', 'North Dakota', 'Alaska', 'District of Columbia',\n",
       "       'Vermont', 'Wyoming', 'Guam', 'U.S. Virgin Islands',\n",
       "       'Northern Mariana Islands', 'American Samoa', 'Ontario', 'Quebec',\n",
       "       'British Columbia', 'Alberta', 'Manitoba', 'Saskatchewan',\n",
       "       'Nova Scotia', 'New Brunswick', 'Newfoundland and Labrador  ',\n",
       "       'Prince Edward Island', 'Northwest Territories',\n",
       "       'Yukon Territory ', 'Nunavut'], dtype=object)"
      ]
     },
     "execution_count": 184,
     "metadata": {},
     "output_type": "execute_result"
    }
   ],
   "source": [
    "df_total_pop.state.unique()"
   ]
  },
  {
   "cell_type": "markdown",
   "metadata": {},
   "source": [
    "Mise en forme de `state` en supprimant les espaces éventuels dans les items"
   ]
  },
  {
   "cell_type": "code",
   "execution_count": 185,
   "metadata": {},
   "outputs": [],
   "source": [
    "# Suppression des espaces après le nom de state\n",
    "# (notamment pour \"Newfoundland and Labrador\")\n",
    "df_total_pop['state'] = df_total_pop.state.str.strip()"
   ]
  },
  {
   "cell_type": "markdown",
   "metadata": {},
   "source": [
    "####  Import et exploration de données **météo**  \n",
    "Source : https://www.kaggle.com/dwarika/ufo-datasets-the-truth-is-out-there"
   ]
  },
  {
   "cell_type": "markdown",
   "metadata": {},
   "source": [
    "Importation et lecture du fichier \"ufo_weather.csv\" contenant des données météo"
   ]
  },
  {
   "cell_type": "code",
   "execution_count": 186,
   "metadata": {},
   "outputs": [],
   "source": [
    "weather = pd.read_csv(\"ufo_weather.csv\", encoding=ENCODAGE).copy()"
   ]
  },
  {
   "cell_type": "code",
   "execution_count": 187,
   "metadata": {
    "scrolled": true
   },
   "outputs": [
    {
     "data": {
      "text/html": [
       "<div>\n",
       "<style scoped>\n",
       "    .dataframe tbody tr th:only-of-type {\n",
       "        vertical-align: middle;\n",
       "    }\n",
       "\n",
       "    .dataframe tbody tr th {\n",
       "        vertical-align: top;\n",
       "    }\n",
       "\n",
       "    .dataframe thead th {\n",
       "        text-align: right;\n",
       "    }\n",
       "</style>\n",
       "<table border=\"1\" class=\"dataframe\">\n",
       "  <thead>\n",
       "    <tr style=\"text-align: right;\">\n",
       "      <th></th>\n",
       "      <th>reportedTimestamp</th>\n",
       "      <th>eventDate</th>\n",
       "      <th>eventTime</th>\n",
       "      <th>shape</th>\n",
       "      <th>duration</th>\n",
       "      <th>witnesses</th>\n",
       "      <th>weather</th>\n",
       "      <th>firstName</th>\n",
       "      <th>lastName</th>\n",
       "      <th>latitude</th>\n",
       "      <th>longitude</th>\n",
       "      <th>sighting</th>\n",
       "      <th>physicalEvidence</th>\n",
       "      <th>contact</th>\n",
       "      <th>researchOutcome</th>\n",
       "    </tr>\n",
       "  </thead>\n",
       "  <tbody>\n",
       "    <tr>\n",
       "      <th>0</th>\n",
       "      <td>1977-04-04T04:02:23.340Z</td>\n",
       "      <td>1977-03-31</td>\n",
       "      <td>23:46</td>\n",
       "      <td>circle</td>\n",
       "      <td>4</td>\n",
       "      <td>1</td>\n",
       "      <td>rain</td>\n",
       "      <td>Ila</td>\n",
       "      <td>Bashirian</td>\n",
       "      <td>47.329444</td>\n",
       "      <td>-122.578889</td>\n",
       "      <td>Y</td>\n",
       "      <td>N</td>\n",
       "      <td>N</td>\n",
       "      <td>explained</td>\n",
       "    </tr>\n",
       "    <tr>\n",
       "      <th>1</th>\n",
       "      <td>1982-11-22T02:06:32.019Z</td>\n",
       "      <td>1982-11-15</td>\n",
       "      <td>22:04</td>\n",
       "      <td>disk</td>\n",
       "      <td>4</td>\n",
       "      <td>1</td>\n",
       "      <td>partly cloudy</td>\n",
       "      <td>Eriberto</td>\n",
       "      <td>Runolfsson</td>\n",
       "      <td>52.664913</td>\n",
       "      <td>-1.034894</td>\n",
       "      <td>Y</td>\n",
       "      <td>Y</td>\n",
       "      <td>N</td>\n",
       "      <td>explained</td>\n",
       "    </tr>\n",
       "  </tbody>\n",
       "</table>\n",
       "</div>"
      ],
      "text/plain": [
       "          reportedTimestamp   eventDate eventTime   shape  duration  \\\n",
       "0  1977-04-04T04:02:23.340Z  1977-03-31     23:46  circle         4   \n",
       "1  1982-11-22T02:06:32.019Z  1982-11-15     22:04    disk         4   \n",
       "\n",
       "   witnesses        weather firstName    lastName   latitude   longitude  \\\n",
       "0          1           rain       Ila   Bashirian  47.329444 -122.578889   \n",
       "1          1  partly cloudy  Eriberto  Runolfsson  52.664913   -1.034894   \n",
       "\n",
       "  sighting physicalEvidence contact researchOutcome  \n",
       "0        Y                N       N       explained  \n",
       "1        Y                Y       N       explained  "
      ]
     },
     "execution_count": 187,
     "metadata": {},
     "output_type": "execute_result"
    }
   ],
   "source": [
    "weather.head(2)"
   ]
  },
  {
   "cell_type": "markdown",
   "metadata": {},
   "source": [
    "La colonne \"eventTime\" ne comprend pas les horaires contenus dans la colonne \"reportedTimestamp\"  \n",
    "Suppression de cette colonne et recalcule des temps à partir de la colonne \"reportedTimestamp\" "
   ]
  },
  {
   "cell_type": "markdown",
   "metadata": {},
   "source": [
    "Dimension du dataset"
   ]
  },
  {
   "cell_type": "code",
   "execution_count": 188,
   "metadata": {
    "scrolled": true
   },
   "outputs": [
    {
     "data": {
      "text/plain": [
       "(18000, 15)"
      ]
     },
     "execution_count": 188,
     "metadata": {},
     "output_type": "execute_result"
    }
   ],
   "source": [
    "weather.shape"
   ]
  },
  {
   "cell_type": "markdown",
   "metadata": {},
   "source": [
    "Types des différentes variables"
   ]
  },
  {
   "cell_type": "code",
   "execution_count": 189,
   "metadata": {
    "scrolled": true
   },
   "outputs": [
    {
     "data": {
      "text/plain": [
       "reportedTimestamp     object\n",
       "eventDate             object\n",
       "eventTime             object\n",
       "shape                 object\n",
       "duration               int64\n",
       "witnesses              int64\n",
       "weather               object\n",
       "firstName             object\n",
       "lastName              object\n",
       "latitude             float64\n",
       "longitude            float64\n",
       "sighting              object\n",
       "physicalEvidence      object\n",
       "contact               object\n",
       "researchOutcome       object\n",
       "dtype: object"
      ]
     },
     "execution_count": 189,
     "metadata": {},
     "output_type": "execute_result"
    }
   ],
   "source": [
    "weather.dtypes"
   ]
  },
  {
   "cell_type": "markdown",
   "metadata": {},
   "source": [
    "Items de `shape`"
   ]
  },
  {
   "cell_type": "code",
   "execution_count": 190,
   "metadata": {
    "scrolled": false
   },
   "outputs": [
    {
     "data": {
      "text/plain": [
       "array(['circle', 'disk', 'sphere', 'triangle', 'light', 'pyramid',\n",
       "       'square', 'box', 'oval', nan], dtype=object)"
      ]
     },
     "execution_count": 190,
     "metadata": {},
     "output_type": "execute_result"
    }
   ],
   "source": [
    "weather[\"shape\"].unique()"
   ]
  },
  {
   "cell_type": "markdown",
   "metadata": {},
   "source": [
    "Typage de la variable `reportedTimestamp` en dateTime64"
   ]
  },
  {
   "cell_type": "code",
   "execution_count": 191,
   "metadata": {},
   "outputs": [],
   "source": [
    "# Mise en format de la variable \"reportedTimestamp\"\n",
    "weather.reportedTimestamp = weather.reportedTimestamp.str[0:-8]"
   ]
  },
  {
   "cell_type": "code",
   "execution_count": 192,
   "metadata": {},
   "outputs": [
    {
     "data": {
      "text/html": [
       "<div>\n",
       "<style scoped>\n",
       "    .dataframe tbody tr th:only-of-type {\n",
       "        vertical-align: middle;\n",
       "    }\n",
       "\n",
       "    .dataframe tbody tr th {\n",
       "        vertical-align: top;\n",
       "    }\n",
       "\n",
       "    .dataframe thead th {\n",
       "        text-align: right;\n",
       "    }\n",
       "</style>\n",
       "<table border=\"1\" class=\"dataframe\">\n",
       "  <thead>\n",
       "    <tr style=\"text-align: right;\">\n",
       "      <th></th>\n",
       "      <th>reportedTimestamp</th>\n",
       "      <th>eventDate</th>\n",
       "      <th>eventTime</th>\n",
       "      <th>shape</th>\n",
       "      <th>duration</th>\n",
       "      <th>witnesses</th>\n",
       "      <th>weather</th>\n",
       "      <th>firstName</th>\n",
       "      <th>lastName</th>\n",
       "      <th>latitude</th>\n",
       "      <th>longitude</th>\n",
       "      <th>sighting</th>\n",
       "      <th>physicalEvidence</th>\n",
       "      <th>contact</th>\n",
       "      <th>researchOutcome</th>\n",
       "    </tr>\n",
       "  </thead>\n",
       "  <tbody>\n",
       "    <tr>\n",
       "      <th>0</th>\n",
       "      <td>1977-04-04T04:02</td>\n",
       "      <td>1977-03-31</td>\n",
       "      <td>23:46</td>\n",
       "      <td>circle</td>\n",
       "      <td>4</td>\n",
       "      <td>1</td>\n",
       "      <td>rain</td>\n",
       "      <td>Ila</td>\n",
       "      <td>Bashirian</td>\n",
       "      <td>47.329444</td>\n",
       "      <td>-122.578889</td>\n",
       "      <td>Y</td>\n",
       "      <td>N</td>\n",
       "      <td>N</td>\n",
       "      <td>explained</td>\n",
       "    </tr>\n",
       "    <tr>\n",
       "      <th>1</th>\n",
       "      <td>1982-11-22T02:06</td>\n",
       "      <td>1982-11-15</td>\n",
       "      <td>22:04</td>\n",
       "      <td>disk</td>\n",
       "      <td>4</td>\n",
       "      <td>1</td>\n",
       "      <td>partly cloudy</td>\n",
       "      <td>Eriberto</td>\n",
       "      <td>Runolfsson</td>\n",
       "      <td>52.664913</td>\n",
       "      <td>-1.034894</td>\n",
       "      <td>Y</td>\n",
       "      <td>Y</td>\n",
       "      <td>N</td>\n",
       "      <td>explained</td>\n",
       "    </tr>\n",
       "  </tbody>\n",
       "</table>\n",
       "</div>"
      ],
      "text/plain": [
       "  reportedTimestamp   eventDate eventTime   shape  duration  witnesses  \\\n",
       "0  1977-04-04T04:02  1977-03-31     23:46  circle         4          1   \n",
       "1  1982-11-22T02:06  1982-11-15     22:04    disk         4          1   \n",
       "\n",
       "         weather firstName    lastName   latitude   longitude sighting  \\\n",
       "0           rain       Ila   Bashirian  47.329444 -122.578889        Y   \n",
       "1  partly cloudy  Eriberto  Runolfsson  52.664913   -1.034894        Y   \n",
       "\n",
       "  physicalEvidence contact researchOutcome  \n",
       "0                N       N       explained  \n",
       "1                Y       N       explained  "
      ]
     },
     "execution_count": 192,
     "metadata": {},
     "output_type": "execute_result"
    }
   ],
   "source": [
    "weather.head(2)"
   ]
  },
  {
   "cell_type": "code",
   "execution_count": 193,
   "metadata": {},
   "outputs": [],
   "source": [
    "# Suppression du caractère \"T\"\n",
    "weather.reportedTimestamp = weather.reportedTimestamp.str.replace(\"T\", \" \")"
   ]
  },
  {
   "cell_type": "code",
   "execution_count": 194,
   "metadata": {},
   "outputs": [],
   "source": [
    "#  Conversion des \"24:00\" en \"00:00\"\n",
    "weather[weather['reportedTimestamp'].str.contains(\"24:00\")]\n",
    "weather['reportedTimestamp'].replace(\n",
    "    {'24:00': '00:00'},\n",
    "    regex=True,\n",
    "    inplace=True\n",
    ")"
   ]
  },
  {
   "cell_type": "code",
   "execution_count": 195,
   "metadata": {},
   "outputs": [],
   "source": [
    "# Typage de la variable \"date_time\" en datetime64\n",
    "def type_datetime_ymd(date_value):\n",
    "    day = datetime.timedelta(1)\n",
    "\n",
    "    if date_value.endswith('00:00'):\n",
    "        return datetime.datetime.strptime(date_value, '%Y-%m-%d %H:%M') + day\n",
    "\n",
    "    return datetime.datetime.strptime(date_value, '%Y-%m-%d %H:%M')\n",
    "\n",
    "\n",
    "weather['reportedTimestamp'] = weather['reportedTimestamp'].apply(\n",
    "    type_datetime_ymd).astype('datetime64')"
   ]
  },
  {
   "cell_type": "code",
   "execution_count": 196,
   "metadata": {
    "scrolled": true
   },
   "outputs": [
    {
     "data": {
      "text/html": [
       "<div>\n",
       "<style scoped>\n",
       "    .dataframe tbody tr th:only-of-type {\n",
       "        vertical-align: middle;\n",
       "    }\n",
       "\n",
       "    .dataframe tbody tr th {\n",
       "        vertical-align: top;\n",
       "    }\n",
       "\n",
       "    .dataframe thead th {\n",
       "        text-align: right;\n",
       "    }\n",
       "</style>\n",
       "<table border=\"1\" class=\"dataframe\">\n",
       "  <thead>\n",
       "    <tr style=\"text-align: right;\">\n",
       "      <th></th>\n",
       "      <th>reportedTimestamp</th>\n",
       "      <th>eventDate</th>\n",
       "      <th>eventTime</th>\n",
       "      <th>shape</th>\n",
       "      <th>duration</th>\n",
       "      <th>witnesses</th>\n",
       "      <th>weather</th>\n",
       "      <th>firstName</th>\n",
       "      <th>lastName</th>\n",
       "      <th>latitude</th>\n",
       "      <th>longitude</th>\n",
       "      <th>sighting</th>\n",
       "      <th>physicalEvidence</th>\n",
       "      <th>contact</th>\n",
       "      <th>researchOutcome</th>\n",
       "    </tr>\n",
       "  </thead>\n",
       "  <tbody>\n",
       "    <tr>\n",
       "      <th>0</th>\n",
       "      <td>1977-04-04 04:02:00</td>\n",
       "      <td>1977-03-31</td>\n",
       "      <td>23:46</td>\n",
       "      <td>circle</td>\n",
       "      <td>4</td>\n",
       "      <td>1</td>\n",
       "      <td>rain</td>\n",
       "      <td>Ila</td>\n",
       "      <td>Bashirian</td>\n",
       "      <td>47.329444</td>\n",
       "      <td>-122.578889</td>\n",
       "      <td>Y</td>\n",
       "      <td>N</td>\n",
       "      <td>N</td>\n",
       "      <td>explained</td>\n",
       "    </tr>\n",
       "    <tr>\n",
       "      <th>1</th>\n",
       "      <td>1982-11-22 02:06:00</td>\n",
       "      <td>1982-11-15</td>\n",
       "      <td>22:04</td>\n",
       "      <td>disk</td>\n",
       "      <td>4</td>\n",
       "      <td>1</td>\n",
       "      <td>partly cloudy</td>\n",
       "      <td>Eriberto</td>\n",
       "      <td>Runolfsson</td>\n",
       "      <td>52.664913</td>\n",
       "      <td>-1.034894</td>\n",
       "      <td>Y</td>\n",
       "      <td>Y</td>\n",
       "      <td>N</td>\n",
       "      <td>explained</td>\n",
       "    </tr>\n",
       "  </tbody>\n",
       "</table>\n",
       "</div>"
      ],
      "text/plain": [
       "    reportedTimestamp   eventDate eventTime   shape  duration  witnesses  \\\n",
       "0 1977-04-04 04:02:00  1977-03-31     23:46  circle         4          1   \n",
       "1 1982-11-22 02:06:00  1982-11-15     22:04    disk         4          1   \n",
       "\n",
       "         weather firstName    lastName   latitude   longitude sighting  \\\n",
       "0           rain       Ila   Bashirian  47.329444 -122.578889        Y   \n",
       "1  partly cloudy  Eriberto  Runolfsson  52.664913   -1.034894        Y   \n",
       "\n",
       "  physicalEvidence contact researchOutcome  \n",
       "0                N       N       explained  \n",
       "1                Y       N       explained  "
      ]
     },
     "execution_count": 196,
     "metadata": {},
     "output_type": "execute_result"
    }
   ],
   "source": [
    "weather.head(2)"
   ]
  },
  {
   "cell_type": "markdown",
   "metadata": {},
   "source": [
    "Conversion de la variable `eventDate` au format année-mois-jour"
   ]
  },
  {
   "cell_type": "code",
   "execution_count": 197,
   "metadata": {},
   "outputs": [
    {
     "data": {
      "text/plain": [
       "0   1977-03-31\n",
       "1   1982-11-15\n",
       "Name: eventDate, dtype: datetime64[ns]"
      ]
     },
     "execution_count": 197,
     "metadata": {},
     "output_type": "execute_result"
    }
   ],
   "source": [
    "#  Conversion de la colonne \"eventDate\"\n",
    "weather['eventDate'] = pd.to_datetime(weather['eventDate'], format='%Y-%m-%d')\n",
    "weather['eventDate'].head(2)"
   ]
  },
  {
   "cell_type": "markdown",
   "metadata": {},
   "source": [
    "Conversion de la variable `eventTime` en heure minute"
   ]
  },
  {
   "cell_type": "code",
   "execution_count": 198,
   "metadata": {},
   "outputs": [
    {
     "data": {
      "text/plain": [
       "0   1900-01-01 23:46:00\n",
       "1   1900-01-01 22:04:00\n",
       "Name: eventTime, dtype: datetime64[ns]"
      ]
     },
     "execution_count": 198,
     "metadata": {},
     "output_type": "execute_result"
    }
   ],
   "source": [
    "# Conversion de la colonne \"eventTime\" \n",
    "weather['eventTime'] = pd.to_datetime(weather['eventTime'],\n",
    "                                      format='%H:%M')\n",
    "weather['eventTime'].head(2)"
   ]
  },
  {
   "cell_type": "markdown",
   "metadata": {},
   "source": [
    "Vérification des nouveaux types"
   ]
  },
  {
   "cell_type": "code",
   "execution_count": 199,
   "metadata": {},
   "outputs": [
    {
     "data": {
      "text/plain": [
       "reportedTimestamp    datetime64[ns]\n",
       "eventDate            datetime64[ns]\n",
       "eventTime            datetime64[ns]\n",
       "shape                        object\n",
       "duration                      int64\n",
       "witnesses                     int64\n",
       "weather                      object\n",
       "firstName                    object\n",
       "lastName                     object\n",
       "latitude                    float64\n",
       "longitude                   float64\n",
       "sighting                     object\n",
       "physicalEvidence             object\n",
       "contact                      object\n",
       "researchOutcome              object\n",
       "dtype: object"
      ]
     },
     "execution_count": 199,
     "metadata": {},
     "output_type": "execute_result"
    }
   ],
   "source": [
    "weather.dtypes"
   ]
  },
  {
   "cell_type": "markdown",
   "metadata": {},
   "source": [
    "Informations sur le fichier"
   ]
  },
  {
   "cell_type": "code",
   "execution_count": 200,
   "metadata": {},
   "outputs": [
    {
     "name": "stdout",
     "output_type": "stream",
     "text": [
      "<class 'pandas.core.frame.DataFrame'>\n",
      "RangeIndex: 18000 entries, 0 to 17999\n",
      "Data columns (total 15 columns):\n",
      " #   Column             Non-Null Count  Dtype         \n",
      "---  ------             --------------  -----         \n",
      " 0   reportedTimestamp  18000 non-null  datetime64[ns]\n",
      " 1   eventDate          18000 non-null  datetime64[ns]\n",
      " 2   eventTime          18000 non-null  datetime64[ns]\n",
      " 3   shape              17998 non-null  object        \n",
      " 4   duration           18000 non-null  int64         \n",
      " 5   witnesses          18000 non-null  int64         \n",
      " 6   weather            18000 non-null  object        \n",
      " 7   firstName          18000 non-null  object        \n",
      " 8   lastName           18000 non-null  object        \n",
      " 9   latitude           18000 non-null  float64       \n",
      " 10  longitude          18000 non-null  float64       \n",
      " 11  sighting           18000 non-null  object        \n",
      " 12  physicalEvidence   18000 non-null  object        \n",
      " 13  contact            18000 non-null  object        \n",
      " 14  researchOutcome    18000 non-null  object        \n",
      "dtypes: datetime64[ns](3), float64(2), int64(2), object(8)\n",
      "memory usage: 2.1+ MB\n"
     ]
    }
   ],
   "source": [
    "weather.info()"
   ]
  },
  {
   "cell_type": "markdown",
   "metadata": {},
   "source": [
    "Suppression des colonnes inutiles : 'firstName', 'lastName'"
   ]
  },
  {
   "cell_type": "code",
   "execution_count": 201,
   "metadata": {},
   "outputs": [],
   "source": [
    "# Suppression des colonnes inutiles\n",
    "weather.drop(['firstName', 'lastName'], axis=1, inplace=True)"
   ]
  },
  {
   "cell_type": "code",
   "execution_count": 202,
   "metadata": {
    "scrolled": true
   },
   "outputs": [
    {
     "data": {
      "text/plain": [
       "Index(['reportedTimestamp', 'eventDate', 'eventTime', 'shape', 'duration',\n",
       "       'witnesses', 'weather', 'latitude', 'longitude', 'sighting',\n",
       "       'physicalEvidence', 'contact', 'researchOutcome'],\n",
       "      dtype='object')"
      ]
     },
     "execution_count": 202,
     "metadata": {},
     "output_type": "execute_result"
    }
   ],
   "source": [
    "weather.columns"
   ]
  },
  {
   "cell_type": "markdown",
   "metadata": {},
   "source": [
    "Renommage de la colonne \"shape\" en \"UFO_shape\""
   ]
  },
  {
   "cell_type": "code",
   "execution_count": 203,
   "metadata": {},
   "outputs": [],
   "source": [
    "weather.rename(columns={'shape': 'UFO_shape'}, inplace=True)"
   ]
  },
  {
   "cell_type": "code",
   "execution_count": 204,
   "metadata": {},
   "outputs": [
    {
     "data": {
      "text/plain": [
       "object            6\n",
       "datetime64[ns]    3\n",
       "float64           2\n",
       "int64             2\n",
       "dtype: int64"
      ]
     },
     "execution_count": 204,
     "metadata": {},
     "output_type": "execute_result"
    }
   ],
   "source": [
    "weather.dtypes.value_counts()"
   ]
  },
  {
   "cell_type": "markdown",
   "metadata": {},
   "source": [
    "Variables qualitatives"
   ]
  },
  {
   "cell_type": "code",
   "execution_count": 205,
   "metadata": {
    "scrolled": false
   },
   "outputs": [
    {
     "name": "stdout",
     "output_type": "stream",
     "text": [
      "UFO_shape-----------['circle' 'disk' 'sphere' 'triangle' 'light' 'pyramid' 'square' 'box'\n",
      " 'oval' nan]\n",
      "weather-------------['rain' 'partly cloudy' 'clear' 'mostly cloudy' 'fog' 'snow' 'stormy']\n",
      "sighting------------['Y']\n",
      "physicalEvidence----['N' 'Y']\n",
      "contact-------------['N' 'Y']\n",
      "researchOutcome-----['explained' 'probable' 'unexplained']\n"
     ]
    }
   ],
   "source": [
    "for col in weather.select_dtypes('O'):\n",
    "    print(f'{col:-<20}{weather[col].unique()}')"
   ]
  },
  {
   "cell_type": "code",
   "execution_count": 206,
   "metadata": {
    "scrolled": true
   },
   "outputs": [
    {
     "data": {
      "text/plain": [
       "circle      6047\n",
       "disk        5920\n",
       "light       1699\n",
       "square      1662\n",
       "triangle    1062\n",
       "sphere      1020\n",
       "box          200\n",
       "oval         199\n",
       "pyramid      189\n",
       "Name: UFO_shape, dtype: int64"
      ]
     },
     "execution_count": 206,
     "metadata": {},
     "output_type": "execute_result"
    }
   ],
   "source": [
    "weather.UFO_shape.value_counts()"
   ]
  },
  {
   "cell_type": "markdown",
   "metadata": {},
   "source": [
    "Nombre de valeurs null"
   ]
  },
  {
   "cell_type": "code",
   "execution_count": 207,
   "metadata": {
    "scrolled": true
   },
   "outputs": [
    {
     "data": {
      "text/plain": [
       "2"
      ]
     },
     "execution_count": 207,
     "metadata": {},
     "output_type": "execute_result"
    }
   ],
   "source": [
    "# Nombre de valeurs null\n",
    "weather.UFO_shape.isnull().sum()"
   ]
  },
  {
   "cell_type": "markdown",
   "metadata": {},
   "source": [
    "Suppression des valeurs null"
   ]
  },
  {
   "cell_type": "code",
   "execution_count": 208,
   "metadata": {},
   "outputs": [],
   "source": [
    "# Suppression des données de \"UFO_shape\" nulles\n",
    "weather.dropna(subset=['UFO_shape'], inplace=True)"
   ]
  },
  {
   "cell_type": "code",
   "execution_count": 209,
   "metadata": {},
   "outputs": [
    {
     "data": {
      "text/plain": [
       "0"
      ]
     },
     "execution_count": 209,
     "metadata": {},
     "output_type": "execute_result"
    }
   ],
   "source": [
    "weather.UFO_shape.isnull().sum()"
   ]
  },
  {
   "cell_type": "markdown",
   "metadata": {},
   "source": [
    "### **Export** et renommage des fichiers nettoyés en **csv**"
   ]
  },
  {
   "cell_type": "markdown",
   "metadata": {},
   "source": [
    "Suppression des dernières valeurs null de ufo_col (dataset initial nettoyé)"
   ]
  },
  {
   "cell_type": "code",
   "execution_count": 210,
   "metadata": {
    "scrolled": true
   },
   "outputs": [],
   "source": [
    "ufo_col.dropna(axis=0, inplace=True)"
   ]
  },
  {
   "cell_type": "code",
   "execution_count": 211,
   "metadata": {
    "scrolled": false
   },
   "outputs": [
    {
     "data": {
      "text/plain": [
       "dates_time                     0\n",
       "city                           0\n",
       "state/province                 0\n",
       "country                        0\n",
       "UFO_shape                      0\n",
       "length_of_encounter_seconds    0\n",
       "latitude                       0\n",
       "longitude                      0\n",
       "dtype: int64"
      ]
     },
     "execution_count": 211,
     "metadata": {},
     "output_type": "execute_result"
    }
   ],
   "source": [
    "ufo_col.isnull().sum()"
   ]
  },
  {
   "cell_type": "markdown",
   "metadata": {},
   "source": [
    "Dimension de ufo_col"
   ]
  },
  {
   "cell_type": "code",
   "execution_count": 212,
   "metadata": {
    "scrolled": true
   },
   "outputs": [
    {
     "data": {
      "text/plain": [
       "(75325, 8)"
      ]
     },
     "execution_count": 212,
     "metadata": {},
     "output_type": "execute_result"
    }
   ],
   "source": [
    "ufo_col.shape"
   ]
  },
  {
   "cell_type": "markdown",
   "metadata": {},
   "source": [
    "Export des différents fichiers créés en csv"
   ]
  },
  {
   "cell_type": "markdown",
   "metadata": {},
   "source": [
    "**ufo_col**: dataset initial nettoyé devient **\"ufo_clean.csv\"**"
   ]
  },
  {
   "cell_type": "code",
   "execution_count": 213,
   "metadata": {},
   "outputs": [],
   "source": [
    "ufo_col.to_csv(\"ufo_clean.csv\",\n",
    "               index=False,\n",
    "               encoding=ENCODAGE)"
   ]
  },
  {
   "cell_type": "markdown",
   "metadata": {},
   "source": [
    "**ufo_col_state**: dataset comprenant les données de l'Angleterre, les USA et le Canada devient **\"ufo_state_us_ca_gb_clean.csv\"**"
   ]
  },
  {
   "cell_type": "code",
   "execution_count": 214,
   "metadata": {},
   "outputs": [],
   "source": [
    "ufo_col_state.to_csv(\"ufo_state_us_ca_gb_clean.csv\",\n",
    "                     index=False,\n",
    "                     encoding=ENCODAGE)"
   ]
  },
  {
   "cell_type": "markdown",
   "metadata": {},
   "source": [
    "**weather**: dataset comprenant les données météo devient **\"weather_clean.csv\"**"
   ]
  },
  {
   "cell_type": "code",
   "execution_count": 215,
   "metadata": {},
   "outputs": [],
   "source": [
    "weather.to_csv(\"weather_clean.csv\",\n",
    "               index=False,\n",
    "               encoding=ENCODAGE)"
   ]
  },
  {
   "cell_type": "markdown",
   "metadata": {},
   "source": [
    "**df_total_pop**: dataset comprenant les données population devient **\"pop_us_ca_gb_clean.csv\"**"
   ]
  },
  {
   "cell_type": "code",
   "execution_count": 216,
   "metadata": {},
   "outputs": [],
   "source": [
    "df_total_pop.to_csv(\"pop_us_ca_gb_clean.csv\",\n",
    "                    index=False,\n",
    "                    encoding=ENCODAGE)"
   ]
  }
 ],
 "metadata": {
  "celltoolbar": "Aucun(e)",
  "hide_input": false,
  "kernelspec": {
   "display_name": "Python 3",
   "language": "python",
   "name": "python3"
  },
  "language_info": {
   "codemirror_mode": {
    "name": "ipython",
    "version": 3
   },
   "file_extension": ".py",
   "mimetype": "text/x-python",
   "name": "python",
   "nbconvert_exporter": "python",
   "pygments_lexer": "ipython3",
   "version": "3.8.5"
  },
  "toc": {
   "base_numbering": 1,
   "nav_menu": {},
   "number_sections": true,
   "sideBar": true,
   "skip_h1_title": true,
   "title_cell": "Table of Contents",
   "title_sidebar": "Contents",
   "toc_cell": true,
   "toc_position": {
    "height": "592.5px",
    "left": "1116px",
    "top": "157.633px",
    "width": "451.333px"
   },
   "toc_section_display": true,
   "toc_window_display": false
  }
 },
 "nbformat": 4,
 "nbformat_minor": 4
}
