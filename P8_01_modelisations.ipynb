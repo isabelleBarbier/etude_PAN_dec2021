{
 "cells": [
  {
   "cell_type": "markdown",
   "metadata": {},
   "source": [
    "# Etudes de phénomènes aérospatiaux non identifiés (PAN) de 1910 à 2014"
   ]
  },
  {
   "cell_type": "markdown",
   "metadata": {},
   "source": [
    "# Communiquez vos résultats - partie 6\n",
    "# Modélisations"
   ]
  },
  {
   "cell_type": "markdown",
   "metadata": {
    "toc": true
   },
   "source": [
    "<h1>Table of Contents<span class=\"tocSkip\"></span></h1>\n",
    "<div class=\"toc\"><ul class=\"toc-item\"><li><span><a href=\"#Import-et-lecture-du-fichier-df_ufo_weather\" data-toc-modified-id=\"Import-et-lecture-du-fichier-df_ufo_weather-1\"><span class=\"toc-item-num\">1&nbsp;&nbsp;</span>Import et lecture du fichier df_ufo_weather</a></span></li><li><span><a href=\"#Modélisation-:\" data-toc-modified-id=\"Modélisation-:-2\"><span class=\"toc-item-num\">2&nbsp;&nbsp;</span>Modélisation :</a></span><ul class=\"toc-item\"><li><span><a href=\"#Modèle-1-:-peut-on-prédire-si-un-phénomène-est-inexpliqué-ou-non?\" data-toc-modified-id=\"Modèle-1-:-peut-on-prédire-si-un-phénomène-est-inexpliqué-ou-non?-2.1\"><span class=\"toc-item-num\">2.1&nbsp;&nbsp;</span>Modèle 1 : peut-on prédire si un phénomène est inexpliqué ou non?</a></span></li><li><span><a href=\"#Modèle-2:-En-fonction-de-la-météo,-quelle-forme-aura-le-phénomène?\" data-toc-modified-id=\"Modèle-2:-En-fonction-de-la-météo,-quelle-forme-aura-le-phénomène?-2.2\"><span class=\"toc-item-num\">2.2&nbsp;&nbsp;</span>Modèle 2: En fonction de la météo, quelle forme aura le phénomène?</a></span></li><li><span><a href=\"#Modèle-3:-en-fonction-de-la-forme,-de-la-durée-du-phénomène,-dans-quel-pays-le-phénomène-sera-le-plus-observé\" data-toc-modified-id=\"Modèle-3:-en-fonction-de-la-forme,-de-la-durée-du-phénomène,-dans-quel-pays-le-phénomène-sera-le-plus-observé-2.3\"><span class=\"toc-item-num\">2.3&nbsp;&nbsp;</span>Modèle 3: en fonction de la forme, de la durée du phénomène, dans quel pays le phénomène sera le plus observé</a></span></li></ul></li></ul></div>"
   ]
  },
  {
   "cell_type": "markdown",
   "metadata": {},
   "source": [
    "## Import et lecture du fichier df_ufo_weather"
   ]
  },
  {
   "cell_type": "markdown",
   "metadata": {},
   "source": [
    "Importation des librairies nécessaires à l'exécution du code"
   ]
  },
  {
   "cell_type": "code",
   "execution_count": 1,
   "metadata": {},
   "outputs": [],
   "source": [
    "# Importation des librairies\n",
    "import pandas as pd\n",
    "import numpy as np\n",
    "import matplotlib.pyplot as plt\n",
    "import seaborn as sns\n",
    "from datetime import datetime\n",
    "import re\n",
    "import datetime\n",
    "\n",
    "# Librairies statistiques\n",
    "from scipy.stats import chi2_contingency\n",
    "import scipy.stats as stats\n",
    "from scipy.stats import ks_2samp\n",
    "\n",
    "# Librairies visualisation\n",
    "import folium\n",
    "from folium import Choropleth\n",
    "from folium.plugins import HeatMap\n",
    "from urllib.request import urlopen\n",
    "import json\n",
    "import plotly.express as px\n",
    "import plotly.figure_factory as ff\n",
    "\n",
    "# Librairies classement\n",
    "from sklearn.cluster import KMeans\n",
    "\n",
    "# Librairie modelisation\n",
    "from sklearn.neighbors import KNeighborsClassifier\n",
    "from sklearn.model_selection import train_test_split\n",
    "from sklearn import decomposition\n",
    "from sklearn import preprocessing\n",
    "from sklearn.cluster import KMeans\n",
    "from sklearn.preprocessing import StandardScaler\n",
    "from scipy.cluster.hierarchy import dendrogram, linkage,  fcluster, centroid\n",
    "from sklearn import decomposition\n",
    "from yellowbrick.cluster import KElbowVisualizer\n",
    "\n",
    "# librairies pour les modèles\n",
    "from sklearn.linear_model import LogisticRegression\n",
    "from sklearn.metrics import accuracy_score\n",
    "from sklearn.metrics import classification_report, plot_confusion_matrix, confusion_matrix\n",
    "from sklearn.metrics import roc_auc_score\n",
    "from sklearn.metrics import roc_curve\n",
    "from yellowbrick.model_selection import FeatureImportances\n",
    "from sklearn.metrics import accuracy_score\n",
    "from sklearn.ensemble import RandomForestClassifier"
   ]
  },
  {
   "cell_type": "code",
   "execution_count": 2,
   "metadata": {
    "scrolled": true
   },
   "outputs": [
    {
     "name": "stdout",
     "output_type": "stream",
     "text": [
      "version pandas : 1.1.3\n",
      "version numpy : 1.19.2\n",
      "version folium : 0.12.1\n"
     ]
    }
   ],
   "source": [
    "#  version de pandas\n",
    "print(f'version pandas : {pd.__version__}')\n",
    "#  version de numpy\n",
    "print(f'version numpy : {np.__version__}')\n",
    "#  version de folium\n",
    "print(f'version folium : {folium.__version__}')"
   ]
  },
  {
   "cell_type": "code",
   "execution_count": 3,
   "metadata": {},
   "outputs": [],
   "source": [
    "def calculate_accuracy(classifier, X_train, X_test, y_train, y_test):\n",
    "    \"\"\"Calcul de l'accuracy du modèle.\n",
    "    \n",
    "    Parameters\n",
    "    ----------\n",
    "    classifier: modèle\n",
    "    X_train, y_train: données d'entrainement\n",
    "    X_test, y_test: données de test\n",
    "    \n",
    "    Returns\n",
    "    -------\n",
    "    accuracy_train, accuracy_test, classifier     \n",
    "    \"\"\"\n",
    "    \n",
    "    classifier.fit(X_train, y_train)\n",
    "    y_pred_train = classifier.predict(X_train)\n",
    "    y_pred_test = classifier.predict(X_test)\n",
    "    accuracy_train = accuracy_score(y_train, y_pred_train)\n",
    "    accuracy_test = accuracy_score(y_test, y_pred_test)\n",
    "    print('Train accuracy:', '{:.3f}'.format(accuracy_train),\n",
    "          'Test accuracy:', '{:.3f}'.format(accuracy_test))\n",
    "    return accuracy_train, accuracy_test, classifier"
   ]
  },
  {
   "cell_type": "code",
   "execution_count": 4,
   "metadata": {},
   "outputs": [],
   "source": [
    "ENCODAGE = 'UTF-8'"
   ]
  },
  {
   "cell_type": "code",
   "execution_count": 5,
   "metadata": {},
   "outputs": [],
   "source": [
    "sns.set(style=\"darkgrid\")"
   ]
  },
  {
   "cell_type": "markdown",
   "metadata": {},
   "source": [
    "Import du dataset `df_ufo_weather`"
   ]
  },
  {
   "cell_type": "code",
   "execution_count": 6,
   "metadata": {},
   "outputs": [
    {
     "data": {
      "text/html": [
       "<div>\n",
       "<style scoped>\n",
       "    .dataframe tbody tr th:only-of-type {\n",
       "        vertical-align: middle;\n",
       "    }\n",
       "\n",
       "    .dataframe tbody tr th {\n",
       "        vertical-align: top;\n",
       "    }\n",
       "\n",
       "    .dataframe thead th {\n",
       "        text-align: right;\n",
       "    }\n",
       "</style>\n",
       "<table border=\"1\" class=\"dataframe\">\n",
       "  <thead>\n",
       "    <tr style=\"text-align: right;\">\n",
       "      <th></th>\n",
       "      <th>reportedTimestamp</th>\n",
       "      <th>eventDate</th>\n",
       "      <th>eventTime</th>\n",
       "      <th>UFO_shape</th>\n",
       "      <th>duration</th>\n",
       "      <th>witnesses</th>\n",
       "      <th>weather</th>\n",
       "      <th>latitude</th>\n",
       "      <th>longitude</th>\n",
       "      <th>physicalEvidence</th>\n",
       "      <th>contact</th>\n",
       "      <th>researchOutcome</th>\n",
       "      <th>year</th>\n",
       "      <th>month</th>\n",
       "      <th>day</th>\n",
       "      <th>hour</th>\n",
       "    </tr>\n",
       "  </thead>\n",
       "  <tbody>\n",
       "    <tr>\n",
       "      <th>0</th>\n",
       "      <td>1977-04-04 04:02:00</td>\n",
       "      <td>1977-03-31</td>\n",
       "      <td>1900-01-01 23:46:00</td>\n",
       "      <td>circle</td>\n",
       "      <td>4</td>\n",
       "      <td>1</td>\n",
       "      <td>rain</td>\n",
       "      <td>47.329444</td>\n",
       "      <td>-122.578889</td>\n",
       "      <td>N</td>\n",
       "      <td>N</td>\n",
       "      <td>explained</td>\n",
       "      <td>1977</td>\n",
       "      <td>4</td>\n",
       "      <td>0</td>\n",
       "      <td>4</td>\n",
       "    </tr>\n",
       "    <tr>\n",
       "      <th>1</th>\n",
       "      <td>1982-11-22 02:06:00</td>\n",
       "      <td>1982-11-15</td>\n",
       "      <td>1900-01-01 22:04:00</td>\n",
       "      <td>disk</td>\n",
       "      <td>4</td>\n",
       "      <td>1</td>\n",
       "      <td>partly cloudy</td>\n",
       "      <td>52.664913</td>\n",
       "      <td>-1.034894</td>\n",
       "      <td>Y</td>\n",
       "      <td>N</td>\n",
       "      <td>explained</td>\n",
       "      <td>1982</td>\n",
       "      <td>11</td>\n",
       "      <td>0</td>\n",
       "      <td>2</td>\n",
       "    </tr>\n",
       "  </tbody>\n",
       "</table>\n",
       "</div>"
      ],
      "text/plain": [
       "    reportedTimestamp  eventDate           eventTime UFO_shape  duration  \\\n",
       "0 1977-04-04 04:02:00 1977-03-31 1900-01-01 23:46:00    circle         4   \n",
       "1 1982-11-22 02:06:00 1982-11-15 1900-01-01 22:04:00      disk         4   \n",
       "\n",
       "   witnesses        weather   latitude   longitude physicalEvidence contact  \\\n",
       "0          1           rain  47.329444 -122.578889                N       N   \n",
       "1          1  partly cloudy  52.664913   -1.034894                Y       N   \n",
       "\n",
       "  researchOutcome  year  month  day  hour  \n",
       "0       explained  1977      4    0     4  \n",
       "1       explained  1982     11    0     2  "
      ]
     },
     "execution_count": 6,
     "metadata": {},
     "output_type": "execute_result"
    }
   ],
   "source": [
    "df_ufo_weather = pd.read_csv(\"df_ufo_weather.csv\",\n",
    "                             encoding=ENCODAGE,\n",
    "                             parse_dates=['reportedTimestamp',\n",
    "                                          'eventDate',\n",
    "                                          'eventTime']).copy()\n",
    "df_ufo_weather.head(2)"
   ]
  },
  {
   "cell_type": "markdown",
   "metadata": {},
   "source": [
    "Import du dataset population-évènement"
   ]
  },
  {
   "cell_type": "code",
   "execution_count": 7,
   "metadata": {},
   "outputs": [
    {
     "data": {
      "text/html": [
       "<div>\n",
       "<style scoped>\n",
       "    .dataframe tbody tr th:only-of-type {\n",
       "        vertical-align: middle;\n",
       "    }\n",
       "\n",
       "    .dataframe tbody tr th {\n",
       "        vertical-align: top;\n",
       "    }\n",
       "\n",
       "    .dataframe thead th {\n",
       "        text-align: right;\n",
       "    }\n",
       "</style>\n",
       "<table border=\"1\" class=\"dataframe\">\n",
       "  <thead>\n",
       "    <tr style=\"text-align: right;\">\n",
       "      <th></th>\n",
       "      <th>dates_time</th>\n",
       "      <th>city</th>\n",
       "      <th>state/province</th>\n",
       "      <th>country</th>\n",
       "      <th>UFO_shape</th>\n",
       "      <th>length_of_encounter_seconds</th>\n",
       "      <th>latitude</th>\n",
       "      <th>longitude</th>\n",
       "      <th>state</th>\n",
       "      <th>year</th>\n",
       "      <th>month</th>\n",
       "      <th>hour</th>\n",
       "      <th>day</th>\n",
       "      <th>cat_UFO_shape</th>\n",
       "      <th>log_length_of_encounter_seconds</th>\n",
       "      <th>gpe_duration</th>\n",
       "      <th>population</th>\n",
       "    </tr>\n",
       "  </thead>\n",
       "  <tbody>\n",
       "    <tr>\n",
       "      <th>0</th>\n",
       "      <td>1955-10-10 17:00:00</td>\n",
       "      <td>Chester</td>\n",
       "      <td>CH</td>\n",
       "      <td>United Kingdom</td>\n",
       "      <td>circle</td>\n",
       "      <td>20.0</td>\n",
       "      <td>53.200000</td>\n",
       "      <td>-2.916667</td>\n",
       "      <td>North West of England</td>\n",
       "      <td>1955</td>\n",
       "      <td>10</td>\n",
       "      <td>17</td>\n",
       "      <td>0</td>\n",
       "      <td>ovoid_shape</td>\n",
       "      <td>2.995732</td>\n",
       "      <td>&lt;60s</td>\n",
       "      <td>7341196</td>\n",
       "    </tr>\n",
       "    <tr>\n",
       "      <th>1</th>\n",
       "      <td>1965-10-10 21:00:00</td>\n",
       "      <td>Penarth</td>\n",
       "      <td>CF</td>\n",
       "      <td>United Kingdom</td>\n",
       "      <td>circle</td>\n",
       "      <td>180.0</td>\n",
       "      <td>51.434722</td>\n",
       "      <td>-3.180000</td>\n",
       "      <td>Wales</td>\n",
       "      <td>1965</td>\n",
       "      <td>10</td>\n",
       "      <td>21</td>\n",
       "      <td>6</td>\n",
       "      <td>ovoid_shape</td>\n",
       "      <td>5.192957</td>\n",
       "      <td>61-300s</td>\n",
       "      <td>3152879</td>\n",
       "    </tr>\n",
       "  </tbody>\n",
       "</table>\n",
       "</div>"
      ],
      "text/plain": [
       "           dates_time     city state/province         country UFO_shape  \\\n",
       "0 1955-10-10 17:00:00  Chester             CH  United Kingdom    circle   \n",
       "1 1965-10-10 21:00:00  Penarth             CF  United Kingdom    circle   \n",
       "\n",
       "   length_of_encounter_seconds   latitude  longitude                  state  \\\n",
       "0                         20.0  53.200000  -2.916667  North West of England   \n",
       "1                        180.0  51.434722  -3.180000                  Wales   \n",
       "\n",
       "   year  month  hour  day cat_UFO_shape  log_length_of_encounter_seconds  \\\n",
       "0  1955     10    17    0   ovoid_shape                         2.995732   \n",
       "1  1965     10    21    6   ovoid_shape                         5.192957   \n",
       "\n",
       "  gpe_duration  population  \n",
       "0         <60s     7341196  \n",
       "1      61-300s     3152879  "
      ]
     },
     "execution_count": 7,
     "metadata": {},
     "output_type": "execute_result"
    }
   ],
   "source": [
    "df_ufo_pop_tot = pd.read_csv(\"df_ufo_pop_tot.csv\",\n",
    "                             encoding=ENCODAGE,\n",
    "                             parse_dates=['dates_time']).copy()\n",
    "df_ufo_pop_tot.head(2)"
   ]
  },
  {
   "cell_type": "markdown",
   "metadata": {},
   "source": [
    "Items de la variable `contact`"
   ]
  },
  {
   "cell_type": "code",
   "execution_count": 8,
   "metadata": {
    "scrolled": true
   },
   "outputs": [
    {
     "data": {
      "text/plain": [
       "array(['N', 'Y'], dtype=object)"
      ]
     },
     "execution_count": 8,
     "metadata": {},
     "output_type": "execute_result"
    }
   ],
   "source": [
    "df_ufo_weather.contact.unique()"
   ]
  },
  {
   "cell_type": "markdown",
   "metadata": {},
   "source": [
    "Items de la variable `UFO_shape`"
   ]
  },
  {
   "cell_type": "code",
   "execution_count": 9,
   "metadata": {
    "scrolled": true
   },
   "outputs": [
    {
     "data": {
      "text/plain": [
       "array(['circle', 'disk', 'sphere', 'triangle', 'light', 'pyramid',\n",
       "       'square', 'box', 'oval'], dtype=object)"
      ]
     },
     "execution_count": 9,
     "metadata": {},
     "output_type": "execute_result"
    }
   ],
   "source": [
    "df_ufo_weather.UFO_shape.unique()"
   ]
  },
  {
   "cell_type": "markdown",
   "metadata": {},
   "source": [
    "Items de la variable `weather`"
   ]
  },
  {
   "cell_type": "code",
   "execution_count": 10,
   "metadata": {
    "scrolled": true
   },
   "outputs": [
    {
     "data": {
      "text/plain": [
       "array(['rain', 'partly cloudy', 'clear', 'mostly cloudy', 'fog', 'snow',\n",
       "       'stormy'], dtype=object)"
      ]
     },
     "execution_count": 10,
     "metadata": {},
     "output_type": "execute_result"
    }
   ],
   "source": [
    "df_ufo_weather.weather.unique()"
   ]
  },
  {
   "cell_type": "markdown",
   "metadata": {},
   "source": [
    "Regroupement des données par groupes"
   ]
  },
  {
   "cell_type": "markdown",
   "metadata": {},
   "source": [
    "## Modélisation :  \n"
   ]
  },
  {
   "cell_type": "code",
   "execution_count": 11,
   "metadata": {},
   "outputs": [
    {
     "data": {
      "text/plain": [
       "array(['explained', 'probable', 'unexplained'], dtype=object)"
      ]
     },
     "execution_count": 11,
     "metadata": {},
     "output_type": "execute_result"
    }
   ],
   "source": [
    "df_ufo_weather['researchOutcome'].unique()"
   ]
  },
  {
   "cell_type": "markdown",
   "metadata": {},
   "source": [
    "Remplacement des variables catégorielles par des valeurs numériques"
   ]
  },
  {
   "cell_type": "code",
   "execution_count": 12,
   "metadata": {},
   "outputs": [],
   "source": [
    "# Préparation des valeurs pour une modélisation\n",
    "# Remplacement des valeurs catégorielles par des valeurs numériques\n",
    "ufo_shape_list = ['circle', 'disk', 'sphere', 'triangle',\n",
    "                  'light', 'pyramid', 'square', 'box', 'oval']\n",
    "\n",
    "ufo_shape_num_list = [0, 1, 2, 3,\n",
    "                      4, 5, 6, 7, 8]\n",
    "\n",
    "weather_list = ['rain', 'partly cloudy', 'clear',\n",
    "                'mostly cloudy', 'fog', 'snow', 'stormy']\n",
    "\n",
    "weather_num_list = [0, 1, 2,\n",
    "                    3, 4, 5, 6]\n",
    "\n",
    "df_ufo_weather['UFO_shape'].replace(ufo_shape_list,\n",
    "                                    ufo_shape_num_list,\n",
    "                                    inplace=True)\n",
    "\n",
    "df_ufo_weather['weather'].replace(weather_list,\n",
    "                                  weather_num_list,\n",
    "                                  inplace=True)\n",
    "\n",
    "#  Modification de la variable researchOutcome en:\n",
    "# 1 (expliqué), et 0 (inexpliqué)\n",
    "df_ufo_weather['researchOutcome'] = df_ufo_weather['researchOutcome'].map(\n",
    "    {'explained': 1,\n",
    "     'probable': 0,\n",
    "     'unexplained': 0})\n",
    "\n",
    "# Modification de \"physicalEvidence\" et \"contact\"\n",
    "col_list = ['physicalEvidence', 'contact']\n",
    "for col in col_list:\n",
    "    df_ufo_weather[col] = df_ufo_weather[col].map(\n",
    "        {'Y': 1,\n",
    "         'N': 0}\n",
    "    )"
   ]
  },
  {
   "cell_type": "markdown",
   "metadata": {},
   "source": [
    "### Modèle 1 : peut-on prédire si un phénomène est inexpliqué ou non?"
   ]
  },
  {
   "cell_type": "markdown",
   "metadata": {},
   "source": [
    "Il y a 2 réponses possibles:\n",
    "- 0 : phénomène inexpliqué\n",
    "- 1 : phénomène expliqué"
   ]
  },
  {
   "cell_type": "markdown",
   "metadata": {},
   "source": [
    "Nous allons donc appliquer un modèle logistique"
   ]
  },
  {
   "cell_type": "code",
   "execution_count": 13,
   "metadata": {
    "scrolled": false
   },
   "outputs": [
    {
     "data": {
      "text/plain": [
       "array([1, 0], dtype=int64)"
      ]
     },
     "execution_count": 13,
     "metadata": {},
     "output_type": "execute_result"
    }
   ],
   "source": [
    "df_ufo_weather['researchOutcome'].unique()"
   ]
  },
  {
   "cell_type": "markdown",
   "metadata": {},
   "source": [
    "Standardisation des données"
   ]
  },
  {
   "cell_type": "markdown",
   "metadata": {},
   "source": [
    "Récupération des colonnes pertinentes"
   ]
  },
  {
   "cell_type": "code",
   "execution_count": 14,
   "metadata": {},
   "outputs": [],
   "source": [
    "# Récupération des colonnes pertinentes\n",
    "df_ufo_weather_modwe = df_ufo_weather.drop(['reportedTimestamp',\n",
    "                                            'eventDate',\n",
    "                                            'eventTime',\n",
    "                                            'latitude',\n",
    "                                            'longitude',\n",
    "                                            'month',\n",
    "                                            'year',\n",
    "                                            'hour'\n",
    "                                            ],\n",
    "                                           axis=1)"
   ]
  },
  {
   "cell_type": "code",
   "execution_count": 15,
   "metadata": {},
   "outputs": [],
   "source": [
    "y = df_ufo_weather_modwe['researchOutcome']\n",
    "X = df_ufo_weather_modwe.drop('researchOutcome', axis=1)"
   ]
  },
  {
   "cell_type": "markdown",
   "metadata": {},
   "source": [
    "Division du dataset en données d'entrainement et données de test (20% pour le test, 80% pour l'entrainement)"
   ]
  },
  {
   "cell_type": "code",
   "execution_count": 16,
   "metadata": {
    "scrolled": true
   },
   "outputs": [
    {
     "name": "stdout",
     "output_type": "stream",
     "text": [
      "données d'entrainement: (14398, 7)\n",
      "données de test: (3600, 7)\n"
     ]
    }
   ],
   "source": [
    "#  Division du dataset en données d'entrainement et données de test\n",
    "# (20% pour test, 80% pour l'entrainement)\n",
    "x_train, x_test, y_train, y_test = train_test_split(X, y, \n",
    "                                                    test_size=0.2,\n",
    "                                                    random_state=42)\n",
    "print(f'données d\\'entrainement: {x_train.shape}')\n",
    "print(f'données de test: {x_test.shape}')"
   ]
  },
  {
   "cell_type": "code",
   "execution_count": 17,
   "metadata": {},
   "outputs": [],
   "source": [
    "x_train, x_test, y_train, y_test = train_test_split(X, y, train_size=0.8)"
   ]
  },
  {
   "cell_type": "markdown",
   "metadata": {},
   "source": [
    "Standardisation"
   ]
  },
  {
   "cell_type": "code",
   "execution_count": 18,
   "metadata": {},
   "outputs": [],
   "source": [
    "# Données centrées et réduites\n",
    "sc = StandardScaler()"
   ]
  },
  {
   "cell_type": "code",
   "execution_count": 19,
   "metadata": {
    "scrolled": true
   },
   "outputs": [
    {
     "data": {
      "text/plain": [
       "StandardScaler()"
      ]
     },
     "execution_count": 19,
     "metadata": {},
     "output_type": "execute_result"
    }
   ],
   "source": [
    "# Calcul de la moyenne et de l'écart type uniquement sur le dataset train (et pas celui de test)\n",
    "sc.fit(x_train)"
   ]
  },
  {
   "cell_type": "code",
   "execution_count": 20,
   "metadata": {},
   "outputs": [],
   "source": [
    "x_trainSc = sc.transform(x_train)"
   ]
  },
  {
   "cell_type": "markdown",
   "metadata": {},
   "source": [
    "Vérification de la standardisation par la moyenne"
   ]
  },
  {
   "cell_type": "code",
   "execution_count": 21,
   "metadata": {
    "scrolled": true
   },
   "outputs": [
    {
     "data": {
      "text/plain": [
       "array([ 4.44150897e-17, -5.82331177e-17,  1.07089716e-16,  8.88301795e-17,\n",
       "       -3.94800798e-17, -8.88301795e-18, -4.34280878e-17])"
      ]
     },
     "execution_count": 21,
     "metadata": {},
     "output_type": "execute_result"
    }
   ],
   "source": [
    "# Vérification moyenne\n",
    "np.mean(x_trainSc, axis=0)"
   ]
  },
  {
   "cell_type": "markdown",
   "metadata": {},
   "source": [
    "Vérification de la standardisation par l'écart type"
   ]
  },
  {
   "cell_type": "code",
   "execution_count": 22,
   "metadata": {},
   "outputs": [
    {
     "data": {
      "text/plain": [
       "array([1., 1., 1., 1., 1., 1., 1.])"
      ]
     },
     "execution_count": 22,
     "metadata": {},
     "output_type": "execute_result"
    }
   ],
   "source": [
    "# Vérification écart type\n",
    "np.std(x_trainSc, axis=0)"
   ]
  },
  {
   "cell_type": "code",
   "execution_count": 23,
   "metadata": {},
   "outputs": [],
   "source": [
    "# Normalisation du dataset test avec la moyenne et l'écart type calculé précédemment\n",
    "x_testSc = sc.transform(x_test)"
   ]
  },
  {
   "cell_type": "markdown",
   "metadata": {},
   "source": [
    "Création du modèle logistique"
   ]
  },
  {
   "cell_type": "code",
   "execution_count": 24,
   "metadata": {
    "scrolled": true
   },
   "outputs": [
    {
     "data": {
      "text/plain": [
       "LogisticRegression(random_state=42)"
      ]
     },
     "execution_count": 24,
     "metadata": {},
     "output_type": "execute_result"
    }
   ],
   "source": [
    "# Création du model\n",
    "model_reg = LogisticRegression(random_state=42)\n",
    "model_reg.fit(x_trainSc, y_train)"
   ]
  },
  {
   "cell_type": "markdown",
   "metadata": {},
   "source": [
    "Prédiction"
   ]
  },
  {
   "cell_type": "code",
   "execution_count": 25,
   "metadata": {},
   "outputs": [
    {
     "name": "stdout",
     "output_type": "stream",
     "text": [
      "[1 1 1 ... 1 0 1]\n",
      "10909    1\n",
      "5904     1\n",
      "11621    1\n",
      "15109    0\n",
      "11520    0\n",
      "        ..\n",
      "732      0\n",
      "12654    0\n",
      "5005     1\n",
      "13970    1\n",
      "16727    1\n",
      "Name: researchOutcome, Length: 3600, dtype: int64\n"
     ]
    }
   ],
   "source": [
    "#  test du model donc prévision\n",
    "predictions = model_reg.predict(x_testSc)\n",
    "print(predictions)\n",
    "print(y_test)"
   ]
  },
  {
   "cell_type": "code",
   "execution_count": 26,
   "metadata": {},
   "outputs": [
    {
     "data": {
      "text/plain": [
       "array([[ 797,  235],\n",
       "       [ 123, 2445]], dtype=int64)"
      ]
     },
     "execution_count": 26,
     "metadata": {},
     "output_type": "execute_result"
    }
   ],
   "source": [
    "#  Matrice de confusion\n",
    "mc = confusion_matrix(y_test, predictions)\n",
    "mc"
   ]
  },
  {
   "cell_type": "markdown",
   "metadata": {},
   "source": [
    "Matrice de confusion"
   ]
  },
  {
   "cell_type": "code",
   "execution_count": 27,
   "metadata": {},
   "outputs": [
    {
     "data": {
      "image/png": "[encoded data removed]",
      "text/plain": [
       "<Figure size 504x504 with 2 Axes>"
      ]
     },
     "metadata": {},
     "output_type": "display_data"
    }
   ],
   "source": [
    "import itertools\n",
    "# with plt.style.context(('ggplot', 'seaborn')):dark_background\n",
    "with plt.style.context(('dark_background')):\n",
    "    fig = plt.figure(figsize=(7, 7), num=1)\n",
    "    plt.imshow(mc, interpolation='nearest', cmap=plt.cm.Blues)\n",
    "    plt.xticks([0, 1], [0, 1])\n",
    "    plt.yticks([0, 1], [0, 1])\n",
    "    plt.xlabel('Predicted Label')\n",
    "    plt.ylabel('Actual Label')\n",
    "    for i, j in itertools.product(range(mc.shape[0]), range(mc.shape[1])):\n",
    "        plt.text(j, i, mc[i, j], horizontalalignment=\"center\", color=\"red\")\n",
    "    plt.grid(None)\n",
    "    plt.title('Confusion Matrix')\n",
    "    plt.colorbar()\n",
    "    plt.savefig(\"Confusion expliquer ou non.jpg\")"
   ]
  },
  {
   "cell_type": "markdown",
   "metadata": {},
   "source": [
    "Le modèle doit être performant pour prédire les phénomènes expliqués"
   ]
  },
  {
   "cell_type": "code",
   "execution_count": 28,
   "metadata": {},
   "outputs": [
    {
     "name": "stdout",
     "output_type": "stream",
     "text": [
      "Train accuracy: 0.882 Test accuracy: 0.901\n"
     ]
    }
   ],
   "source": [
    "# Métrics avec \"calculate_accuracy\" fonction utilisant \"accuracy_score\"\n",
    "accuracy_train, accuracy_test, trained_model_reg = calculate_accuracy(\n",
    "    model_reg, x_trainSc, x_testSc, y_train, y_test)"
   ]
  },
  {
   "cell_type": "code",
   "execution_count": 29,
   "metadata": {
    "scrolled": true
   },
   "outputs": [
    {
     "name": "stdout",
     "output_type": "stream",
     "text": [
      "              precision    recall  f1-score   support\n",
      "\n",
      "           0       0.84      0.73      0.78      4146\n",
      "           1       0.90      0.94      0.92     10252\n",
      "\n",
      "    accuracy                           0.88     14398\n",
      "   macro avg       0.87      0.84      0.85     14398\n",
      "weighted avg       0.88      0.88      0.88     14398\n",
      "\n",
      "accuracy_score : 0.8815113210168078\n"
     ]
    }
   ],
   "source": [
    "predictionsTrain = model_reg.predict(x_trainSc)\n",
    "print(classification_report(y_train, predictionsTrain))\n",
    "print('accuracy_score : {}'.format(accuracy_score(y_train, predictionsTrain)))"
   ]
  },
  {
   "cell_type": "markdown",
   "metadata": {},
   "source": [
    "La précision du modèle pour repérer un phénomène inexpliqué est de 85% contre 90% pour reconnaître un phénomène expliqué"
   ]
  },
  {
   "cell_type": "markdown",
   "metadata": {},
   "source": [
    " Importance des différentes variables sur le modèle logistique"
   ]
  },
  {
   "cell_type": "code",
   "execution_count": 30,
   "metadata": {
    "scrolled": true
   },
   "outputs": [
    {
     "name": "stdout",
     "output_type": "stream",
     "text": [
      "duration, Score: -2.11926\n",
      "witnesses, Score: -0.04075\n",
      "weather, Score: -0.24463\n",
      "physicalEvidence, Score: -0.26900\n",
      "contact, Score: -0.14219\n",
      "researchOutcome, Score: -0.13408\n",
      "day, Score: -0.05836\n"
     ]
    },
    {
     "data": {
      "image/png": "[encoded data removed]",
      "text/plain": [
       "<Figure size 576x396 with 1 Axes>"
      ]
     },
     "metadata": {},
     "output_type": "display_data"
    }
   ],
   "source": [
    "importance = model_reg.coef_[0]\n",
    "for i, imp in enumerate(importance):\n",
    "    print('%s, Score: %.5f' %\n",
    "          (df_ufo_weather_modwe.iloc[:, 1:].columns[i], imp))\n",
    "plt.bar(df_ufo_weather_modwe.iloc[:, 1:].columns,\n",
    "        importance)\n",
    "plt.xticks(rotation=45)\n",
    "plt.show()"
   ]
  },
  {
   "cell_type": "markdown",
   "metadata": {},
   "source": [
    "Autre visualisation"
   ]
  },
  {
   "cell_type": "markdown",
   "metadata": {},
   "source": [
    "La variable `duration` a le plus fort impact dans le modèle."
   ]
  },
  {
   "cell_type": "markdown",
   "metadata": {},
   "source": [
    "Courbe ROC du modèle logistique"
   ]
  },
  {
   "cell_type": "code",
   "execution_count": 31,
   "metadata": {
    "scrolled": true
   },
   "outputs": [
    {
     "data": {
      "image/png": "[encoded data removed]",
      "text/plain": [
       "<Figure size 576x396 with 1 Axes>"
      ]
     },
     "metadata": {},
     "output_type": "display_data"
    }
   ],
   "source": [
    "# Courbe ROC\n",
    "logit_roc_auc = roc_auc_score(y_test, predictions)\n",
    "y_pred_proba = model_reg.predict_proba(x_testSc)[::,  1]                            \n",
    "fpr, tpr, thresholds = roc_curve(y_test, y_pred_proba)\n",
    "with plt.style.context(('dark_background')):\n",
    "    plt.figure()\n",
    "    plt.plot(fpr, tpr, label='logistic regression (area=%0.2f)' %logit_roc_auc)\n",
    "    plt.plot([0, 1], [0, 1], 'r--')\n",
    "    plt.xlim([0.0, 1.0])\n",
    "    plt.ylim([0.0, 1.05])\n",
    "    plt.xlabel('Taux de faux positifs (1-spécificité)', size=12)\n",
    "    plt.ylabel('Taux de vrais positifs (sensibilité)', size=12)\n",
    "    plt.title('Courbe ROC (Receiver operating characteristic)', size=14)\n",
    "    plt.legend(loc='lower right')\n",
    "    plt.savefig(\"courbe roc variables (3)title.jpg\")\n",
    "    plt.show()"
   ]
  },
  {
   "cell_type": "markdown",
   "metadata": {},
   "source": [
    "Le modèle est efficace à 88% sur les données test avec lemodèle logistique"
   ]
  },
  {
   "cell_type": "markdown",
   "metadata": {},
   "source": [
    "Avec un modèle type **randomForest**"
   ]
  },
  {
   "cell_type": "markdown",
   "metadata": {},
   "source": [
    "Matrice de confusion"
   ]
  },
  {
   "cell_type": "code",
   "execution_count": 32,
   "metadata": {
    "scrolled": true
   },
   "outputs": [
    {
     "data": {
      "text/html": [
       "<div>\n",
       "<style scoped>\n",
       "    .dataframe tbody tr th:only-of-type {\n",
       "        vertical-align: middle;\n",
       "    }\n",
       "\n",
       "    .dataframe tbody tr th {\n",
       "        vertical-align: top;\n",
       "    }\n",
       "\n",
       "    .dataframe thead th {\n",
       "        text-align: right;\n",
       "    }\n",
       "</style>\n",
       "<table border=\"1\" class=\"dataframe\">\n",
       "  <thead>\n",
       "    <tr style=\"text-align: right;\">\n",
       "      <th>col_0</th>\n",
       "      <th>0</th>\n",
       "      <th>1</th>\n",
       "    </tr>\n",
       "    <tr>\n",
       "      <th>researchOutcome</th>\n",
       "      <th></th>\n",
       "      <th></th>\n",
       "    </tr>\n",
       "  </thead>\n",
       "  <tbody>\n",
       "    <tr>\n",
       "      <th>0</th>\n",
       "      <td>975</td>\n",
       "      <td>57</td>\n",
       "    </tr>\n",
       "    <tr>\n",
       "      <th>1</th>\n",
       "      <td>120</td>\n",
       "      <td>2448</td>\n",
       "    </tr>\n",
       "  </tbody>\n",
       "</table>\n",
       "</div>"
      ],
      "text/plain": [
       "col_0              0     1\n",
       "researchOutcome           \n",
       "0                975    57\n",
       "1                120  2448"
      ]
     },
     "metadata": {},
     "output_type": "display_data"
    },
    {
     "name": "stdout",
     "output_type": "stream",
     "text": [
      "Via random forest, accuracy : 0.9508333333333333\n"
     ]
    }
   ],
   "source": [
    "# RandomForest\n",
    "rf = RandomForestClassifier(random_state=42).fit(x_trainSc, y_train)\n",
    "y_pred_rf = rf.predict(x_testSc)\n",
    "display(pd.crosstab(y_test, y_pred_rf))\n",
    "print('Via random forest, accuracy :', accuracy_score(y_test, y_pred_rf))"
   ]
  },
  {
   "cell_type": "code",
   "execution_count": 33,
   "metadata": {
    "scrolled": true
   },
   "outputs": [
    {
     "data": {
      "text/plain": [
       "array([[ 975,   57],\n",
       "       [ 120, 2448]], dtype=int64)"
      ]
     },
     "execution_count": 33,
     "metadata": {},
     "output_type": "execute_result"
    }
   ],
   "source": [
    "#  Matrice de confusion\n",
    "mc_rf = confusion_matrix(y_test, y_pred_rf)\n",
    "mc_rf"
   ]
  },
  {
   "cell_type": "code",
   "execution_count": 34,
   "metadata": {
    "scrolled": true
   },
   "outputs": [
    {
     "data": {
      "image/png": "[encoded data removed]",
      "text/plain": [
       "<Figure size 504x504 with 2 Axes>"
      ]
     },
     "metadata": {},
     "output_type": "display_data"
    }
   ],
   "source": [
    "import itertools\n",
    "# with plt.style.context(('ggplot', 'seaborn')):dark_background\n",
    "with plt.style.context(('dark_background')):\n",
    "    fig = plt.figure(figsize=(7, 7), num=1)\n",
    "    plt.imshow(mc_rf, interpolation='nearest', cmap=plt.cm.Blues)\n",
    "    plt.xticks([0, 1], [0, 1])\n",
    "    plt.yticks([0, 1], [0, 1])\n",
    "    plt.xlabel('Predicted Label')\n",
    "    plt.ylabel('Actual Label')\n",
    "    for i, j in itertools.product(range(mc_rf.shape[0]), range(mc_rf.shape[1])):\n",
    "        plt.text(j, i, mc_rf[i, j], horizontalalignment=\"center\", color=\"red\")\n",
    "    plt.grid(None)\n",
    "    plt.title('Confusion Matrix RandomForest')\n",
    "    plt.colorbar()\n",
    "    plt.savefig(\"Confusion expliquer ou non randomForest.jpg\")"
   ]
  },
  {
   "cell_type": "code",
   "execution_count": 35,
   "metadata": {},
   "outputs": [
    {
     "name": "stdout",
     "output_type": "stream",
     "text": [
      "Train accuracy: 0.999 Test accuracy: 0.951\n"
     ]
    }
   ],
   "source": [
    "#  Métrics avec \"calculate_accuracy\" fonction utilisant \"accuracy_score\"\n",
    "accuracy_train, accuracy_test, trained_model_reg = calculate_accuracy(\n",
    "    rf, x_trainSc, x_testSc, y_train, y_test)"
   ]
  },
  {
   "cell_type": "markdown",
   "metadata": {},
   "source": [
    "Le modèle a une accuracy sur les données test de 94.4%. C'est mailleur qu'avec le modèle logistique."
   ]
  },
  {
   "cell_type": "code",
   "execution_count": 36,
   "metadata": {
    "scrolled": true
   },
   "outputs": [
    {
     "name": "stdout",
     "output_type": "stream",
     "text": [
      "              precision    recall  f1-score   support\n",
      "\n",
      "           0       1.00      1.00      1.00      4146\n",
      "           1       1.00      1.00      1.00     10252\n",
      "\n",
      "    accuracy                           1.00     14398\n",
      "   macro avg       1.00      1.00      1.00     14398\n",
      "weighted avg       1.00      1.00      1.00     14398\n",
      "\n",
      "accuracy_score : 0.9986803722739269\n"
     ]
    }
   ],
   "source": [
    "predictionsTrain = rf.predict(x_trainSc)\n",
    "print(classification_report(y_train, predictionsTrain))\n",
    "print('accuracy_score : {}'.format(accuracy_score(y_train, predictionsTrain)))"
   ]
  },
  {
   "cell_type": "markdown",
   "metadata": {},
   "source": [
    "Courbe ROC du modèle RandomForest"
   ]
  },
  {
   "cell_type": "code",
   "execution_count": 37,
   "metadata": {},
   "outputs": [
    {
     "data": {
      "image/png": "[encoded data removed]",
      "text/plain": [
       "<Figure size 576x396 with 1 Axes>"
      ]
     },
     "metadata": {},
     "output_type": "display_data"
    }
   ],
   "source": [
    "# Courbe ROC\n",
    "logit_roc_auc = roc_auc_score(y_test, y_pred_rf)\n",
    "y_pred_proba = rf.predict_proba(x_testSc)[::, 1]                            \n",
    "fpr, tpr, thresholds = roc_curve(y_test, y_pred_proba)\n",
    "with plt.style.context(('dark_background')):\n",
    "    plt.figure()\n",
    "    plt.plot(fpr, tpr, label='RandomForest (area=%0.2f)' %logit_roc_auc)\n",
    "    plt.plot([0, 1], [0, 1], 'r--')\n",
    "    plt.xlim([0.0, 1.0])\n",
    "    plt.ylim([0.0, 1.05])\n",
    "    plt.xlabel('Taux de faux positifs (1-spécificité)', size=12)\n",
    "    plt.ylabel('Taux de vrais positifs (sensibilité)', size=12)\n",
    "    plt.title('Courbe ROC (Receiver operating characteristic)', size=14)\n",
    "    plt.legend(loc='lower right')\n",
    "    plt.savefig(\"courbe roc variables rf(3)title.jpg\")\n",
    "    plt.show()"
   ]
  },
  {
   "cell_type": "markdown",
   "metadata": {},
   "source": [
    "Le modèle RandomForest est meilleur que le précédent"
   ]
  },
  {
   "cell_type": "markdown",
   "metadata": {},
   "source": [
    "**Combien de variables doit-on introduire dans le modèle ?**"
   ]
  },
  {
   "cell_type": "markdown",
   "metadata": {},
   "source": [
    "Calcul des coefficients bêta pour le modèle logistique"
   ]
  },
  {
   "cell_type": "code",
   "execution_count": 38,
   "metadata": {},
   "outputs": [
    {
     "data": {
      "text/html": [
       "<div>\n",
       "<style scoped>\n",
       "    .dataframe tbody tr th:only-of-type {\n",
       "        vertical-align: middle;\n",
       "    }\n",
       "\n",
       "    .dataframe tbody tr th {\n",
       "        vertical-align: top;\n",
       "    }\n",
       "\n",
       "    .dataframe thead th {\n",
       "        text-align: right;\n",
       "    }\n",
       "</style>\n",
       "<table border=\"1\" class=\"dataframe\">\n",
       "  <thead>\n",
       "    <tr style=\"text-align: right;\">\n",
       "      <th></th>\n",
       "      <th>beta</th>\n",
       "    </tr>\n",
       "  </thead>\n",
       "  <tbody>\n",
       "    <tr>\n",
       "      <th>duration</th>\n",
       "      <td>-2.119258</td>\n",
       "    </tr>\n",
       "    <tr>\n",
       "      <th>witnesses</th>\n",
       "      <td>-0.040748</td>\n",
       "    </tr>\n",
       "    <tr>\n",
       "      <th>weather</th>\n",
       "      <td>-0.244634</td>\n",
       "    </tr>\n",
       "    <tr>\n",
       "      <th>physicalEvidence</th>\n",
       "      <td>-0.268996</td>\n",
       "    </tr>\n",
       "    <tr>\n",
       "      <th>contact</th>\n",
       "      <td>-0.142192</td>\n",
       "    </tr>\n",
       "    <tr>\n",
       "      <th>researchOutcome</th>\n",
       "      <td>-0.134082</td>\n",
       "    </tr>\n",
       "    <tr>\n",
       "      <th>day</th>\n",
       "      <td>-0.058361</td>\n",
       "    </tr>\n",
       "  </tbody>\n",
       "</table>\n",
       "</div>"
      ],
      "text/plain": [
       "                      beta\n",
       "duration         -2.119258\n",
       "witnesses        -0.040748\n",
       "weather          -0.244634\n",
       "physicalEvidence -0.268996\n",
       "contact          -0.142192\n",
       "researchOutcome  -0.134082\n",
       "day              -0.058361"
      ]
     },
     "execution_count": 38,
     "metadata": {},
     "output_type": "execute_result"
    }
   ],
   "source": [
    "# coef bêta\n",
    "coefficients = pd.DataFrame(model_reg.coef_[0],\n",
    "                            index=df_ufo_weather_modwe.iloc[:, 1:].columns,\n",
    "                            columns=['beta']\n",
    "                            )\n",
    "coefficients.head(20)"
   ]
  },
  {
   "cell_type": "code",
   "execution_count": 39,
   "metadata": {},
   "outputs": [
    {
     "data": {
      "text/html": [
       "<div>\n",
       "<style scoped>\n",
       "    .dataframe tbody tr th:only-of-type {\n",
       "        vertical-align: middle;\n",
       "    }\n",
       "\n",
       "    .dataframe tbody tr th {\n",
       "        vertical-align: top;\n",
       "    }\n",
       "\n",
       "    .dataframe thead th {\n",
       "        text-align: right;\n",
       "    }\n",
       "</style>\n",
       "<table border=\"1\" class=\"dataframe\">\n",
       "  <thead>\n",
       "    <tr style=\"text-align: right;\">\n",
       "      <th></th>\n",
       "      <th>variable</th>\n",
       "      <th>beta</th>\n",
       "    </tr>\n",
       "  </thead>\n",
       "  <tbody>\n",
       "    <tr>\n",
       "      <th>0</th>\n",
       "      <td>witnesses</td>\n",
       "      <td>-0.040748</td>\n",
       "    </tr>\n",
       "    <tr>\n",
       "      <th>1</th>\n",
       "      <td>day</td>\n",
       "      <td>-0.058361</td>\n",
       "    </tr>\n",
       "    <tr>\n",
       "      <th>2</th>\n",
       "      <td>researchOutcome</td>\n",
       "      <td>-0.134082</td>\n",
       "    </tr>\n",
       "    <tr>\n",
       "      <th>3</th>\n",
       "      <td>contact</td>\n",
       "      <td>-0.142192</td>\n",
       "    </tr>\n",
       "    <tr>\n",
       "      <th>4</th>\n",
       "      <td>weather</td>\n",
       "      <td>-0.244634</td>\n",
       "    </tr>\n",
       "    <tr>\n",
       "      <th>5</th>\n",
       "      <td>physicalEvidence</td>\n",
       "      <td>-0.268996</td>\n",
       "    </tr>\n",
       "    <tr>\n",
       "      <th>6</th>\n",
       "      <td>duration</td>\n",
       "      <td>-2.119258</td>\n",
       "    </tr>\n",
       "  </tbody>\n",
       "</table>\n",
       "</div>"
      ],
      "text/plain": [
       "           variable      beta\n",
       "0         witnesses -0.040748\n",
       "1               day -0.058361\n",
       "2   researchOutcome -0.134082\n",
       "3           contact -0.142192\n",
       "4           weather -0.244634\n",
       "5  physicalEvidence -0.268996\n",
       "6          duration -2.119258"
      ]
     },
     "execution_count": 39,
     "metadata": {},
     "output_type": "execute_result"
    }
   ],
   "source": [
    "coefficients = coefficients.sort_values(by='beta', ascending=False)\n",
    "coefficients = coefficients.rename_axis('variable').reset_index()\n",
    "coefficients"
   ]
  },
  {
   "cell_type": "code",
   "execution_count": 40,
   "metadata": {
    "scrolled": true
   },
   "outputs": [
    {
     "data": {
      "image/png": "[encoded data removed]",
      "text/plain": [
       "<Figure size 720x504 with 1 Axes>"
      ]
     },
     "metadata": {},
     "output_type": "display_data"
    }
   ],
   "source": [
    "plt.figure(figsize=(10, 7))\n",
    "plt.style.use('dark_background')\n",
    "sns.barplot(x='variable', y='beta', data=coefficients)\n",
    "plt.title('Influence des variables sur le modèle', size=14)\n",
    "plt.xlabel('variable', size=12)\n",
    "plt.ylabel('coefficient bêta')\n",
    "plt.show()"
   ]
  },
  {
   "cell_type": "markdown",
   "metadata": {},
   "source": [
    "La variable \"duration\" a une très forte influence sur le modèle"
   ]
  },
  {
   "cell_type": "code",
   "execution_count": 41,
   "metadata": {},
   "outputs": [
    {
     "name": "stdout",
     "output_type": "stream",
     "text": [
      "Top features LR: ['duration' 'physicalEvidence' 'weather' 'contact']\n"
     ]
    }
   ],
   "source": [
    "n_features = 4\n",
    "coefficients['abs_beta'] = coefficients['beta'].abs()  # calcul des valeurs absolues des beta\n",
    "coefficients = coefficients.sort_values(by='abs_beta',\n",
    "                                        ascending=False)  # tri par valeurs absolues\n",
    "top_features = coefficients.head(\n",
    "    n_features).variable.values  # liste de n meilleurs features\n",
    "print('Top features LR:', top_features)"
   ]
  },
  {
   "cell_type": "markdown",
   "metadata": {},
   "source": [
    "Accuracy de modèle en fonction des variables utilisées"
   ]
  },
  {
   "cell_type": "code",
   "execution_count": 42,
   "metadata": {
    "scrolled": false
   },
   "outputs": [
    {
     "name": "stdout",
     "output_type": "stream",
     "text": [
      "['duration']\n",
      "Train accuracy: 0.852 Test accuracy: 0.870\n",
      "['duration' 'physicalEvidence']\n",
      "Train accuracy: 0.712 Test accuracy: 0.713\n",
      "['duration' 'physicalEvidence' 'weather']\n",
      "Train accuracy: 0.712 Test accuracy: 0.713\n",
      "['duration' 'physicalEvidence' 'weather' 'contact']\n",
      "Train accuracy: 0.712 Test accuracy: 0.713\n"
     ]
    }
   ],
   "source": [
    "for i in range(len(top_features)):\n",
    "    selected_features = top_features[0:i+1]\n",
    "    print(selected_features)\n",
    "    accuracy_train, accuracy_test, trained_model_reg = calculate_accuracy(\n",
    "        model_reg, x_trainSc[:, i].reshape(x_trainSc.shape[0], 1),\n",
    "        x_testSc[:, i].reshape(x_testSc.shape[0], 1),\n",
    "        y_train, y_test\n",
    "    )"
   ]
  },
  {
   "cell_type": "markdown",
   "metadata": {},
   "source": [
    "Le modèle est amélioré en ne prenant que \"duration\" et \"latitude\" comme variable"
   ]
  },
  {
   "cell_type": "markdown",
   "metadata": {},
   "source": [
    "### Modèle 2: En fonction de la météo, quelle forme aura le phénomène?"
   ]
  },
  {
   "cell_type": "markdown",
   "metadata": {},
   "source": [
    "Dataset d'étude "
   ]
  },
  {
   "cell_type": "code",
   "execution_count": 43,
   "metadata": {},
   "outputs": [],
   "source": [
    "# Récupération des colonnes pertinentes\n",
    "df_ufo_weather_mod = df_ufo_weather[['UFO_shape', 'duration', 'weather',\n",
    "                                     'latitude', 'longitude', 'year']]"
   ]
  },
  {
   "cell_type": "code",
   "execution_count": 44,
   "metadata": {
    "scrolled": false
   },
   "outputs": [
    {
     "data": {
      "text/html": [
       "<div>\n",
       "<style scoped>\n",
       "    .dataframe tbody tr th:only-of-type {\n",
       "        vertical-align: middle;\n",
       "    }\n",
       "\n",
       "    .dataframe tbody tr th {\n",
       "        vertical-align: top;\n",
       "    }\n",
       "\n",
       "    .dataframe thead th {\n",
       "        text-align: right;\n",
       "    }\n",
       "</style>\n",
       "<table border=\"1\" class=\"dataframe\">\n",
       "  <thead>\n",
       "    <tr style=\"text-align: right;\">\n",
       "      <th></th>\n",
       "      <th>UFO_shape</th>\n",
       "      <th>duration</th>\n",
       "      <th>weather</th>\n",
       "      <th>latitude</th>\n",
       "      <th>longitude</th>\n",
       "      <th>year</th>\n",
       "    </tr>\n",
       "  </thead>\n",
       "  <tbody>\n",
       "    <tr>\n",
       "      <th>0</th>\n",
       "      <td>0</td>\n",
       "      <td>4</td>\n",
       "      <td>0</td>\n",
       "      <td>47.329444</td>\n",
       "      <td>-122.578889</td>\n",
       "      <td>1977</td>\n",
       "    </tr>\n",
       "    <tr>\n",
       "      <th>1</th>\n",
       "      <td>1</td>\n",
       "      <td>4</td>\n",
       "      <td>1</td>\n",
       "      <td>52.664913</td>\n",
       "      <td>-1.034894</td>\n",
       "      <td>1982</td>\n",
       "    </tr>\n",
       "  </tbody>\n",
       "</table>\n",
       "</div>"
      ],
      "text/plain": [
       "   UFO_shape  duration  weather   latitude   longitude  year\n",
       "0          0         4        0  47.329444 -122.578889  1977\n",
       "1          1         4        1  52.664913   -1.034894  1982"
      ]
     },
     "execution_count": 44,
     "metadata": {},
     "output_type": "execute_result"
    }
   ],
   "source": [
    "df_ufo_weather_mod.head(2)"
   ]
  },
  {
   "cell_type": "markdown",
   "metadata": {},
   "source": [
    "Modèle de classification K-NN"
   ]
  },
  {
   "cell_type": "code",
   "execution_count": 45,
   "metadata": {},
   "outputs": [],
   "source": [
    "model_meteo = KNeighborsClassifier()"
   ]
  },
  {
   "cell_type": "code",
   "execution_count": 46,
   "metadata": {},
   "outputs": [],
   "source": [
    "y = df_ufo_weather_mod['UFO_shape']\n",
    "X = df_ufo_weather_mod.drop('UFO_shape', axis=1)"
   ]
  },
  {
   "cell_type": "markdown",
   "metadata": {},
   "source": [
    "Précision du modèle"
   ]
  },
  {
   "cell_type": "code",
   "execution_count": 47,
   "metadata": {},
   "outputs": [
    {
     "data": {
      "text/plain": [
       "0.4972219135459495"
      ]
     },
     "execution_count": 47,
     "metadata": {},
     "output_type": "execute_result"
    }
   ],
   "source": [
    "model_meteo.fit(X, y)\n",
    "model_meteo.score(X, y)"
   ]
  },
  {
   "cell_type": "markdown",
   "metadata": {},
   "source": [
    "Le modèle n'a pas une bonne précision. Il n'effectue pas de bonnes prédictions"
   ]
  },
  {
   "cell_type": "markdown",
   "metadata": {},
   "source": [
    "Standardisation des données"
   ]
  },
  {
   "cell_type": "code",
   "execution_count": 48,
   "metadata": {},
   "outputs": [],
   "source": [
    "y = df_ufo_weather_mod['UFO_shape']\n",
    "X = df_ufo_weather_mod.drop('UFO_shape', axis=1)"
   ]
  },
  {
   "cell_type": "markdown",
   "metadata": {},
   "source": [
    "80% de données d'entrainement et 20% de données test"
   ]
  },
  {
   "cell_type": "code",
   "execution_count": 49,
   "metadata": {},
   "outputs": [],
   "source": [
    "x_train, x_test, y_train, y_test = train_test_split(X, y, train_size=0.8)"
   ]
  },
  {
   "cell_type": "markdown",
   "metadata": {},
   "source": [
    "Création du modèle k-NN"
   ]
  },
  {
   "cell_type": "code",
   "execution_count": 50,
   "metadata": {},
   "outputs": [
    {
     "data": {
      "text/plain": [
       "KNeighborsClassifier(n_neighbors=3)"
      ]
     },
     "execution_count": 50,
     "metadata": {},
     "output_type": "execute_result"
    }
   ],
   "source": [
    "knn_weather = KNeighborsClassifier(n_neighbors=3)\n",
    "knn_weather.fit(x_train, y_train)"
   ]
  },
  {
   "cell_type": "code",
   "execution_count": 51,
   "metadata": {},
   "outputs": [
    {
     "name": "stdout",
     "output_type": "stream",
     "text": [
      "Erreur: 0.685000\n"
     ]
    }
   ],
   "source": [
    "error = 1 - knn_weather.score(x_test, y_test)\n",
    "print('Erreur: %f' % error)"
   ]
  },
  {
   "cell_type": "markdown",
   "metadata": {},
   "source": [
    "Détermination du nombre de voisins optimal pour le modèle"
   ]
  },
  {
   "cell_type": "code",
   "execution_count": 52,
   "metadata": {
    "scrolled": true
   },
   "outputs": [
    {
     "data": {
      "image/png": "[encoded data removed]",
      "text/plain": [
       "<Figure size 576x396 with 1 Axes>"
      ]
     },
     "metadata": {},
     "output_type": "display_data"
    }
   ],
   "source": [
    "errors = []\n",
    "for k in range(2,15):\n",
    "    knn = KNeighborsClassifier(k)\n",
    "    errors.append(100*(1 - knn.fit(x_train, y_train).score(x_test, y_test)))\n",
    "plt.plot(range(2,15), errors, 'o-')\n",
    "plt.show()"
   ]
  },
  {
   "cell_type": "markdown",
   "metadata": {},
   "source": [
    "On récupère le classifieur le plus performant (11 voisins)"
   ]
  },
  {
   "cell_type": "code",
   "execution_count": 53,
   "metadata": {},
   "outputs": [],
   "source": [
    "# On récupère le classifieur le plus performant\n",
    "knnBis = KNeighborsClassifier(11)\n",
    "knnBis.fit(x_train, y_train)\n",
    "\n",
    "# On récupère les prédictions sur les données test\n",
    "predicted = knnBis.predict(x_test)"
   ]
  },
  {
   "cell_type": "code",
   "execution_count": 54,
   "metadata": {
    "scrolled": false
   },
   "outputs": [
    {
     "name": "stdout",
     "output_type": "stream",
     "text": [
      "Erreur: 0.667778\n"
     ]
    }
   ],
   "source": [
    "error = 1 - knnBis.score(x_test, y_test)\n",
    "print('Erreur: %f' % error)"
   ]
  },
  {
   "cell_type": "markdown",
   "metadata": {},
   "source": [
    "Le modèle est toujours aussi mauvais"
   ]
  },
  {
   "cell_type": "markdown",
   "metadata": {},
   "source": [
    "### Modèle 3: en fonction de la forme, de la durée du phénomène, dans quel pays le phénomène sera le plus observé "
   ]
  },
  {
   "cell_type": "markdown",
   "metadata": {},
   "source": [
    "Modèle k-NN"
   ]
  },
  {
   "cell_type": "markdown",
   "metadata": {},
   "source": [
    "Dataset utilisé pour la modélisation"
   ]
  },
  {
   "cell_type": "code",
   "execution_count": 55,
   "metadata": {
    "scrolled": true
   },
   "outputs": [
    {
     "data": {
      "text/html": [
       "<div>\n",
       "<style scoped>\n",
       "    .dataframe tbody tr th:only-of-type {\n",
       "        vertical-align: middle;\n",
       "    }\n",
       "\n",
       "    .dataframe tbody tr th {\n",
       "        vertical-align: top;\n",
       "    }\n",
       "\n",
       "    .dataframe thead th {\n",
       "        text-align: right;\n",
       "    }\n",
       "</style>\n",
       "<table border=\"1\" class=\"dataframe\">\n",
       "  <thead>\n",
       "    <tr style=\"text-align: right;\">\n",
       "      <th></th>\n",
       "      <th>dates_time</th>\n",
       "      <th>city</th>\n",
       "      <th>state/province</th>\n",
       "      <th>country</th>\n",
       "      <th>UFO_shape</th>\n",
       "      <th>length_of_encounter_seconds</th>\n",
       "      <th>latitude</th>\n",
       "      <th>longitude</th>\n",
       "      <th>state</th>\n",
       "      <th>year</th>\n",
       "      <th>month</th>\n",
       "      <th>hour</th>\n",
       "      <th>day</th>\n",
       "      <th>cat_UFO_shape</th>\n",
       "      <th>log_length_of_encounter_seconds</th>\n",
       "      <th>gpe_duration</th>\n",
       "      <th>population</th>\n",
       "    </tr>\n",
       "  </thead>\n",
       "  <tbody>\n",
       "    <tr>\n",
       "      <th>0</th>\n",
       "      <td>1955-10-10 17:00:00</td>\n",
       "      <td>Chester</td>\n",
       "      <td>CH</td>\n",
       "      <td>United Kingdom</td>\n",
       "      <td>circle</td>\n",
       "      <td>20.0</td>\n",
       "      <td>53.200000</td>\n",
       "      <td>-2.916667</td>\n",
       "      <td>North West of England</td>\n",
       "      <td>1955</td>\n",
       "      <td>10</td>\n",
       "      <td>17</td>\n",
       "      <td>0</td>\n",
       "      <td>ovoid_shape</td>\n",
       "      <td>2.995732</td>\n",
       "      <td>&lt;60s</td>\n",
       "      <td>7341196</td>\n",
       "    </tr>\n",
       "    <tr>\n",
       "      <th>1</th>\n",
       "      <td>1965-10-10 21:00:00</td>\n",
       "      <td>Penarth</td>\n",
       "      <td>CF</td>\n",
       "      <td>United Kingdom</td>\n",
       "      <td>circle</td>\n",
       "      <td>180.0</td>\n",
       "      <td>51.434722</td>\n",
       "      <td>-3.180000</td>\n",
       "      <td>Wales</td>\n",
       "      <td>1965</td>\n",
       "      <td>10</td>\n",
       "      <td>21</td>\n",
       "      <td>6</td>\n",
       "      <td>ovoid_shape</td>\n",
       "      <td>5.192957</td>\n",
       "      <td>61-300s</td>\n",
       "      <td>3152879</td>\n",
       "    </tr>\n",
       "  </tbody>\n",
       "</table>\n",
       "</div>"
      ],
      "text/plain": [
       "           dates_time     city state/province         country UFO_shape  \\\n",
       "0 1955-10-10 17:00:00  Chester             CH  United Kingdom    circle   \n",
       "1 1965-10-10 21:00:00  Penarth             CF  United Kingdom    circle   \n",
       "\n",
       "   length_of_encounter_seconds   latitude  longitude                  state  \\\n",
       "0                         20.0  53.200000  -2.916667  North West of England   \n",
       "1                        180.0  51.434722  -3.180000                  Wales   \n",
       "\n",
       "   year  month  hour  day cat_UFO_shape  log_length_of_encounter_seconds  \\\n",
       "0  1955     10    17    0   ovoid_shape                         2.995732   \n",
       "1  1965     10    21    6   ovoid_shape                         5.192957   \n",
       "\n",
       "  gpe_duration  population  \n",
       "0         <60s     7341196  \n",
       "1      61-300s     3152879  "
      ]
     },
     "execution_count": 55,
     "metadata": {},
     "output_type": "execute_result"
    }
   ],
   "source": [
    "df_ufo_pop_tot.head(2)"
   ]
  },
  {
   "cell_type": "markdown",
   "metadata": {},
   "source": [
    "Catégories de forme de PAN du dataset"
   ]
  },
  {
   "cell_type": "code",
   "execution_count": 56,
   "metadata": {
    "scrolled": true
   },
   "outputs": [
    {
     "data": {
      "text/plain": [
       "array(['ovoid_shape', 'cylinder_shape', 'angular_shape',\n",
       "       'formation_shape', 'changing_shape', 'other_shape', 'light_shape'],\n",
       "      dtype=object)"
      ]
     },
     "execution_count": 56,
     "metadata": {},
     "output_type": "execute_result"
    }
   ],
   "source": [
    "df_ufo_pop_tot.cat_UFO_shape.unique()"
   ]
  },
  {
   "cell_type": "markdown",
   "metadata": {},
   "source": [
    "Pays représentés dans le dataset"
   ]
  },
  {
   "cell_type": "code",
   "execution_count": 57,
   "metadata": {
    "scrolled": true
   },
   "outputs": [
    {
     "data": {
      "text/plain": [
       "array(['United Kingdom', 'USA', 'Canada'], dtype=object)"
      ]
     },
     "execution_count": 57,
     "metadata": {},
     "output_type": "execute_result"
    }
   ],
   "source": [
    "df_ufo_pop_tot.country.unique()"
   ]
  },
  {
   "cell_type": "markdown",
   "metadata": {},
   "source": [
    "Préparation des données à la modélisation (numérisation des variables catégorielles)"
   ]
  },
  {
   "cell_type": "code",
   "execution_count": 58,
   "metadata": {},
   "outputs": [],
   "source": [
    "# Récupération des colonnes pertinentes\n",
    "df_ufo_country_mod = df_ufo_pop_tot[['cat_UFO_shape',\n",
    "                                     'log_length_of_encounter_seconds',\n",
    "                                     'month',\n",
    "                                     'country']]\n",
    "# Suppression des valeurs null\n",
    "df_ufo_country_mod.dropna(axis=0, inplace=True)\n",
    "\n",
    "# Préparation des valeurs pour une modélisation\n",
    "# Remplacement des valeurs catégorielles par des valeurs numériques\n",
    "\n",
    "cat_UFO_shape_list = ['ovoid_shape',\n",
    "                      'cylinder_shape',\n",
    "                      'angular_shape',\n",
    "                      'formation_shape',\n",
    "                      'changing_shape',\n",
    "                      'other_shape',\n",
    "                      'light_shape']\n",
    "\n",
    "cat_UFO_shape_num_list = [0,\n",
    "                          1,\n",
    "                          2,\n",
    "                          3,\n",
    "                          4,\n",
    "                          5,\n",
    "                          6]\n",
    "\n",
    "country_list = ['United Kingdom',\n",
    "                'USA',\n",
    "                'Canada']\n",
    "\n",
    "country_num_list = [0,\n",
    "                    1,\n",
    "                    2]\n",
    "\n",
    "df_ufo_country_mod['cat_UFO_shape'].replace(cat_UFO_shape_list,\n",
    "                                            cat_UFO_shape_num_list,\n",
    "                                            inplace=True\n",
    "                                            )\n",
    "\n",
    "df_ufo_country_mod['country'].replace(country_list,\n",
    "                                      country_num_list,\n",
    "                                      inplace=True\n",
    "                                      )"
   ]
  },
  {
   "cell_type": "markdown",
   "metadata": {},
   "source": [
    "Dataset de modélisation "
   ]
  },
  {
   "cell_type": "code",
   "execution_count": 59,
   "metadata": {},
   "outputs": [
    {
     "data": {
      "text/html": [
       "<div>\n",
       "<style scoped>\n",
       "    .dataframe tbody tr th:only-of-type {\n",
       "        vertical-align: middle;\n",
       "    }\n",
       "\n",
       "    .dataframe tbody tr th {\n",
       "        vertical-align: top;\n",
       "    }\n",
       "\n",
       "    .dataframe thead th {\n",
       "        text-align: right;\n",
       "    }\n",
       "</style>\n",
       "<table border=\"1\" class=\"dataframe\">\n",
       "  <thead>\n",
       "    <tr style=\"text-align: right;\">\n",
       "      <th></th>\n",
       "      <th>cat_UFO_shape</th>\n",
       "      <th>log_length_of_encounter_seconds</th>\n",
       "      <th>month</th>\n",
       "      <th>country</th>\n",
       "    </tr>\n",
       "  </thead>\n",
       "  <tbody>\n",
       "    <tr>\n",
       "      <th>67272</th>\n",
       "      <td>5</td>\n",
       "      <td>4.499810</td>\n",
       "      <td>9</td>\n",
       "      <td>2</td>\n",
       "    </tr>\n",
       "    <tr>\n",
       "      <th>67273</th>\n",
       "      <td>6</td>\n",
       "      <td>5.192957</td>\n",
       "      <td>9</td>\n",
       "      <td>2</td>\n",
       "    </tr>\n",
       "  </tbody>\n",
       "</table>\n",
       "</div>"
      ],
      "text/plain": [
       "       cat_UFO_shape  log_length_of_encounter_seconds  month  country\n",
       "67272              5                         4.499810      9        2\n",
       "67273              6                         5.192957      9        2"
      ]
     },
     "execution_count": 59,
     "metadata": {},
     "output_type": "execute_result"
    }
   ],
   "source": [
    "df_ufo_country_mod.tail(2)"
   ]
  },
  {
   "cell_type": "markdown",
   "metadata": {},
   "source": [
    "Création du modèle k-NN"
   ]
  },
  {
   "cell_type": "code",
   "execution_count": 60,
   "metadata": {},
   "outputs": [],
   "source": [
    "model_country_knn = KNeighborsClassifier()"
   ]
  },
  {
   "cell_type": "code",
   "execution_count": 61,
   "metadata": {},
   "outputs": [],
   "source": [
    "y = df_ufo_country_mod['country']\n",
    "X = df_ufo_country_mod.drop('country', axis=1)"
   ]
  },
  {
   "cell_type": "markdown",
   "metadata": {},
   "source": [
    "Satndardisation des données"
   ]
  },
  {
   "cell_type": "code",
   "execution_count": 62,
   "metadata": {},
   "outputs": [],
   "source": [
    "#  Standardisation des données\n",
    "scaler = StandardScaler()\n",
    "X_scaled = scaler.fit_transform(X)"
   ]
  },
  {
   "cell_type": "markdown",
   "metadata": {},
   "source": [
    "Vérification de la standardisation (moyenne = 0)"
   ]
  },
  {
   "cell_type": "code",
   "execution_count": 63,
   "metadata": {
    "scrolled": true
   },
   "outputs": [
    {
     "data": {
      "text/plain": [
       "array([ 6.84412541e-17,  5.70343784e-17, -1.18293526e-17])"
      ]
     },
     "execution_count": 63,
     "metadata": {},
     "output_type": "execute_result"
    }
   ],
   "source": [
    "# Vérification de la standardisation (moyenne = 0)\n",
    "X_scaled.mean(axis=0)"
   ]
  },
  {
   "cell_type": "markdown",
   "metadata": {},
   "source": [
    "Vérification de la standardisation (écart type = 1)"
   ]
  },
  {
   "cell_type": "code",
   "execution_count": 64,
   "metadata": {},
   "outputs": [
    {
     "data": {
      "text/plain": [
       "array([1., 1., 1.])"
      ]
     },
     "execution_count": 64,
     "metadata": {},
     "output_type": "execute_result"
    }
   ],
   "source": [
    "# Vérification de la standardisation (écart type = 1)\n",
    "X_scaled.std(axis=0)"
   ]
  },
  {
   "cell_type": "markdown",
   "metadata": {},
   "source": [
    "Modélisation avec des données splitées"
   ]
  },
  {
   "cell_type": "code",
   "execution_count": 65,
   "metadata": {
    "scrolled": true
   },
   "outputs": [
    {
     "name": "stdout",
     "output_type": "stream",
     "text": [
      "score: 0.9182472204054938\n"
     ]
    }
   ],
   "source": [
    "X_train, X_test, y_train, y_test = train_test_split(X, y, stratify=y)\n",
    "# Entrainement du modèle\n",
    "model_country_knn.fit(X_train, y_train)\n",
    "print(f'score: {model_country_knn.score(X_test, y_test)}')"
   ]
  },
  {
   "cell_type": "markdown",
   "metadata": {},
   "source": [
    "Le modèle (avec jeu de données test) a une précision de 92%.  \n",
    "Ce modèle nous permet donc de prédire le pays où le phénomène aura le plus de chance de se produire en fonction de la forme, de la durée du phénomène et du mois d'observation."
   ]
  },
  {
   "cell_type": "code",
   "execution_count": 66,
   "metadata": {},
   "outputs": [],
   "source": [
    "def ufo_country(model, cat_UFO_shape, log_length_of_encounter_seconds, month):\n",
    "    \"\"\"Fonction de prédiction du modèle k-NN\n",
    "    Parameters\n",
    "    ----------\n",
    "    model: nom du modèle\n",
    "    cat_UFO_shape: catégorie de forme du phénomène\n",
    "    float \n",
    "        log_length_of_encounter_seconds: log de la durée du phénomène\n",
    "    int\n",
    "        month: mois d'observation\n",
    "    \n",
    "    Returns\n",
    "    -------\n",
    "    Le code du pays prédit et son appellation\n",
    "    \"\"\"\n",
    "    \n",
    "    x = np.array([cat_UFO_shape,\n",
    "                  log_length_of_encounter_seconds,\n",
    "                  month]\n",
    "                 ).reshape(1, 3)\n",
    "    country_list = ['United Kingdom',\n",
    "                    'USA',\n",
    "                    'Canada']\n",
    "    print(f'country : {model.predict(x)}')\n",
    "    print(f'country : {country_list[int(model.predict(x))]}')\n",
    "#     print(f'Probabilité de prédiction du modèle : {model.predict_proba(x)}')"
   ]
  },
  {
   "cell_type": "markdown",
   "metadata": {},
   "source": [
    "model, cat_UFO_shape, log_length_of_encounter_seconds, month"
   ]
  },
  {
   "cell_type": "code",
   "execution_count": 67,
   "metadata": {
    "scrolled": false
   },
   "outputs": [
    {
     "name": "stdout",
     "output_type": "stream",
     "text": [
      "country : [1]\n",
      "country : USA\n"
     ]
    }
   ],
   "source": [
    "ufo_country(model_country_knn, 5, 2.302585, 9)"
   ]
  },
  {
   "cell_type": "markdown",
   "metadata": {},
   "source": [
    "Modélisation sans données d'entrainement"
   ]
  },
  {
   "cell_type": "code",
   "execution_count": 68,
   "metadata": {},
   "outputs": [],
   "source": [
    "model_country = KNeighborsClassifier()"
   ]
  },
  {
   "cell_type": "code",
   "execution_count": 69,
   "metadata": {},
   "outputs": [
    {
     "data": {
      "text/plain": [
       "KNeighborsClassifier()"
      ]
     },
     "execution_count": 69,
     "metadata": {},
     "output_type": "execute_result"
    }
   ],
   "source": [
    "model_country.fit(X, y)"
   ]
  },
  {
   "cell_type": "markdown",
   "metadata": {},
   "source": [
    "Précision du modèle (sans split des données)"
   ]
  },
  {
   "cell_type": "code",
   "execution_count": 70,
   "metadata": {
    "scrolled": false
   },
   "outputs": [
    {
     "data": {
      "text/plain": [
       "0.920429883758956"
      ]
     },
     "execution_count": 70,
     "metadata": {},
     "output_type": "execute_result"
    }
   ],
   "source": [
    "model_country.score(X, y)"
   ]
  },
  {
   "cell_type": "markdown",
   "metadata": {},
   "source": [
    "Le modèle a une précision de 89.43%.  \n",
    "Ce modèle nous permet donc de prédire le pays où le phénomène aura le plus de chance de se produire en fonction de la forme, de la durée du phénomène et du mois d'observation."
   ]
  },
  {
   "cell_type": "markdown",
   "metadata": {},
   "source": [
    "Création d'une fonction qui nous permet de déterminer le pays d'observation"
   ]
  },
  {
   "cell_type": "markdown",
   "metadata": {},
   "source": [
    "Application de la prédiction avec modèle sans split des données"
   ]
  },
  {
   "cell_type": "code",
   "execution_count": 71,
   "metadata": {},
   "outputs": [
    {
     "name": "stdout",
     "output_type": "stream",
     "text": [
      "country : [1]\n",
      "country : USA\n"
     ]
    }
   ],
   "source": [
    "ufo_country(model_country, 6, 240, 9)"
   ]
  },
  {
   "cell_type": "markdown",
   "metadata": {},
   "source": [
    "Autre modèle"
   ]
  },
  {
   "cell_type": "code",
   "execution_count": 72,
   "metadata": {
    "scrolled": false
   },
   "outputs": [
    {
     "data": {
      "text/html": [
       "<div>\n",
       "<style scoped>\n",
       "    .dataframe tbody tr th:only-of-type {\n",
       "        vertical-align: middle;\n",
       "    }\n",
       "\n",
       "    .dataframe tbody tr th {\n",
       "        vertical-align: top;\n",
       "    }\n",
       "\n",
       "    .dataframe thead th {\n",
       "        text-align: right;\n",
       "    }\n",
       "</style>\n",
       "<table border=\"1\" class=\"dataframe\">\n",
       "  <thead>\n",
       "    <tr style=\"text-align: right;\">\n",
       "      <th></th>\n",
       "      <th>cat_UFO_shape</th>\n",
       "      <th>log_length_of_encounter_seconds</th>\n",
       "      <th>month</th>\n",
       "      <th>country</th>\n",
       "    </tr>\n",
       "  </thead>\n",
       "  <tbody>\n",
       "    <tr>\n",
       "      <th>67272</th>\n",
       "      <td>5</td>\n",
       "      <td>4.499810</td>\n",
       "      <td>9</td>\n",
       "      <td>2</td>\n",
       "    </tr>\n",
       "    <tr>\n",
       "      <th>67273</th>\n",
       "      <td>6</td>\n",
       "      <td>5.192957</td>\n",
       "      <td>9</td>\n",
       "      <td>2</td>\n",
       "    </tr>\n",
       "  </tbody>\n",
       "</table>\n",
       "</div>"
      ],
      "text/plain": [
       "       cat_UFO_shape  log_length_of_encounter_seconds  month  country\n",
       "67272              5                         4.499810      9        2\n",
       "67273              6                         5.192957      9        2"
      ]
     },
     "execution_count": 72,
     "metadata": {},
     "output_type": "execute_result"
    }
   ],
   "source": [
    "df_ufo_country_mod.tail(2)"
   ]
  },
  {
   "cell_type": "code",
   "execution_count": 73,
   "metadata": {
    "scrolled": true
   },
   "outputs": [
    {
     "data": {
      "text/plain": [
       "(67274, 4)"
      ]
     },
     "execution_count": 73,
     "metadata": {},
     "output_type": "execute_result"
    }
   ],
   "source": [
    "df_ufo_country_mod.shape"
   ]
  },
  {
   "cell_type": "code",
   "execution_count": 74,
   "metadata": {},
   "outputs": [],
   "source": [
    "y = df_ufo_country_mod['country']\n",
    "X = df_ufo_country_mod.drop('country', axis=1)"
   ]
  },
  {
   "cell_type": "markdown",
   "metadata": {},
   "source": [
    "80% de données d'entrainement et 20% de données test"
   ]
  },
  {
   "cell_type": "code",
   "execution_count": 75,
   "metadata": {},
   "outputs": [],
   "source": [
    "xtrain, xtest, ytrain, ytest = train_test_split(X, y, train_size=0.8)"
   ]
  },
  {
   "cell_type": "markdown",
   "metadata": {},
   "source": [
    "Création du modèle"
   ]
  },
  {
   "cell_type": "code",
   "execution_count": 76,
   "metadata": {},
   "outputs": [
    {
     "data": {
      "text/plain": [
       "KNeighborsClassifier(n_neighbors=3)"
      ]
     },
     "execution_count": 76,
     "metadata": {},
     "output_type": "execute_result"
    }
   ],
   "source": [
    "knn = KNeighborsClassifier(n_neighbors=3)\n",
    "knn.fit(xtrain, ytrain)"
   ]
  },
  {
   "cell_type": "code",
   "execution_count": 77,
   "metadata": {},
   "outputs": [
    {
     "data": {
      "text/plain": [
       "0.9152743920566027"
      ]
     },
     "execution_count": 77,
     "metadata": {},
     "output_type": "execute_result"
    }
   ],
   "source": [
    "knn.score(X_test, y_test)"
   ]
  },
  {
   "cell_type": "code",
   "execution_count": 78,
   "metadata": {},
   "outputs": [],
   "source": [
    "predicted = knn.predict(xtest)"
   ]
  },
  {
   "cell_type": "code",
   "execution_count": 79,
   "metadata": {
    "scrolled": true
   },
   "outputs": [
    {
     "data": {
      "text/html": [
       "<div>\n",
       "<style scoped>\n",
       "    .dataframe tbody tr th:only-of-type {\n",
       "        vertical-align: middle;\n",
       "    }\n",
       "\n",
       "    .dataframe tbody tr th {\n",
       "        vertical-align: top;\n",
       "    }\n",
       "\n",
       "    .dataframe thead th {\n",
       "        text-align: right;\n",
       "    }\n",
       "</style>\n",
       "<table border=\"1\" class=\"dataframe\">\n",
       "  <thead>\n",
       "    <tr style=\"text-align: right;\">\n",
       "      <th></th>\n",
       "      <th>cat_UFO_shape</th>\n",
       "      <th>log_length_of_encounter_seconds</th>\n",
       "      <th>month</th>\n",
       "    </tr>\n",
       "  </thead>\n",
       "  <tbody>\n",
       "    <tr>\n",
       "      <th>61929</th>\n",
       "      <td>2</td>\n",
       "      <td>5.192957</td>\n",
       "      <td>9</td>\n",
       "    </tr>\n",
       "    <tr>\n",
       "      <th>18295</th>\n",
       "      <td>3</td>\n",
       "      <td>5.703782</td>\n",
       "      <td>12</td>\n",
       "    </tr>\n",
       "    <tr>\n",
       "      <th>19967</th>\n",
       "      <td>0</td>\n",
       "      <td>4.094345</td>\n",
       "      <td>1</td>\n",
       "    </tr>\n",
       "    <tr>\n",
       "      <th>56836</th>\n",
       "      <td>6</td>\n",
       "      <td>5.703782</td>\n",
       "      <td>8</td>\n",
       "    </tr>\n",
       "    <tr>\n",
       "      <th>28318</th>\n",
       "      <td>0</td>\n",
       "      <td>4.094345</td>\n",
       "      <td>3</td>\n",
       "    </tr>\n",
       "    <tr>\n",
       "      <th>...</th>\n",
       "      <td>...</td>\n",
       "      <td>...</td>\n",
       "      <td>...</td>\n",
       "    </tr>\n",
       "    <tr>\n",
       "      <th>12258</th>\n",
       "      <td>5</td>\n",
       "      <td>2.302585</td>\n",
       "      <td>11</td>\n",
       "    </tr>\n",
       "    <tr>\n",
       "      <th>5319</th>\n",
       "      <td>2</td>\n",
       "      <td>4.787492</td>\n",
       "      <td>10</td>\n",
       "    </tr>\n",
       "    <tr>\n",
       "      <th>36964</th>\n",
       "      <td>6</td>\n",
       "      <td>5.192957</td>\n",
       "      <td>5</td>\n",
       "    </tr>\n",
       "    <tr>\n",
       "      <th>4480</th>\n",
       "      <td>5</td>\n",
       "      <td>6.396930</td>\n",
       "      <td>10</td>\n",
       "    </tr>\n",
       "    <tr>\n",
       "      <th>64644</th>\n",
       "      <td>6</td>\n",
       "      <td>5.703782</td>\n",
       "      <td>12</td>\n",
       "    </tr>\n",
       "  </tbody>\n",
       "</table>\n",
       "<p>13455 rows × 3 columns</p>\n",
       "</div>"
      ],
      "text/plain": [
       "       cat_UFO_shape  log_length_of_encounter_seconds  month\n",
       "61929              2                         5.192957      9\n",
       "18295              3                         5.703782     12\n",
       "19967              0                         4.094345      1\n",
       "56836              6                         5.703782      8\n",
       "28318              0                         4.094345      3\n",
       "...              ...                              ...    ...\n",
       "12258              5                         2.302585     11\n",
       "5319               2                         4.787492     10\n",
       "36964              6                         5.192957      5\n",
       "4480               5                         6.396930     10\n",
       "64644              6                         5.703782     12\n",
       "\n",
       "[13455 rows x 3 columns]"
      ]
     },
     "execution_count": 79,
     "metadata": {},
     "output_type": "execute_result"
    }
   ],
   "source": [
    "xtest"
   ]
  },
  {
   "cell_type": "code",
   "execution_count": 80,
   "metadata": {
    "scrolled": true
   },
   "outputs": [
    {
     "data": {
      "text/plain": [
       "array([0, 1, 2], dtype=int64)"
      ]
     },
     "execution_count": 80,
     "metadata": {},
     "output_type": "execute_result"
    }
   ],
   "source": [
    "np.unique(predicted)"
   ]
  },
  {
   "cell_type": "code",
   "execution_count": 81,
   "metadata": {},
   "outputs": [],
   "source": [
    "x = np.array([6, 120, 10]).reshape(1, 3)"
   ]
  },
  {
   "cell_type": "code",
   "execution_count": 82,
   "metadata": {},
   "outputs": [
    {
     "data": {
      "text/plain": [
       "array([1], dtype=int64)"
      ]
     },
     "execution_count": 82,
     "metadata": {},
     "output_type": "execute_result"
    }
   ],
   "source": [
    "pred = knn.predict(x)\n",
    "pred"
   ]
  },
  {
   "cell_type": "code",
   "execution_count": 83,
   "metadata": {},
   "outputs": [
    {
     "data": {
      "text/plain": [
       "0.9152743920566027"
      ]
     },
     "execution_count": 83,
     "metadata": {},
     "output_type": "execute_result"
    }
   ],
   "source": [
    "knn.score(X_test, y_test)"
   ]
  },
  {
   "cell_type": "code",
   "execution_count": 84,
   "metadata": {
    "scrolled": true
   },
   "outputs": [
    {
     "name": "stdout",
     "output_type": "stream",
     "text": [
      "Erreur: 0.084726\n"
     ]
    }
   ],
   "source": [
    "error = 1 - knn.score(X_test, y_test)\n",
    "print('Erreur: %f' % error)"
   ]
  },
  {
   "cell_type": "markdown",
   "metadata": {},
   "source": [
    "Détermination du nombre de voisins optimal pour le modèle"
   ]
  },
  {
   "cell_type": "code",
   "execution_count": 85,
   "metadata": {},
   "outputs": [
    {
     "data": {
      "image/png": "[encoded data removed]",
      "text/plain": [
       "<Figure size 576x396 with 1 Axes>"
      ]
     },
     "metadata": {},
     "output_type": "display_data"
    }
   ],
   "source": [
    "errors = []\n",
    "for k in range(2, 15):\n",
    "    knn = KNeighborsClassifier(k)\n",
    "    errors.append(100*(1 - knn.fit(X_train, y_train).score(X_test, y_test)))\n",
    "plt.style.use('dark_background')\n",
    "plt.plot(range(2, 15), errors, 'o-')\n",
    "plt.show()"
   ]
  },
  {
   "cell_type": "markdown",
   "metadata": {},
   "source": [
    "Le nombre de voisins optimal est de 8"
   ]
  },
  {
   "cell_type": "code",
   "execution_count": 86,
   "metadata": {},
   "outputs": [],
   "source": [
    "# On récupère le classifieur le plus performant\n",
    "knn = KNeighborsClassifier(8)\n",
    "knn.fit(X_train, y_train)\n",
    "# On récupère les prédictions sur les données test\n",
    "predicted = knn.predict(X_test)"
   ]
  },
  {
   "cell_type": "code",
   "execution_count": 87,
   "metadata": {
    "scrolled": true
   },
   "outputs": [
    {
     "data": {
      "text/plain": [
       "16819"
      ]
     },
     "execution_count": 87,
     "metadata": {},
     "output_type": "execute_result"
    }
   ],
   "source": [
    "np.size(predicted)"
   ]
  },
  {
   "cell_type": "code",
   "execution_count": 88,
   "metadata": {},
   "outputs": [
    {
     "data": {
      "text/plain": [
       "array([0, 1], dtype=int64)"
      ]
     },
     "execution_count": 88,
     "metadata": {},
     "output_type": "execute_result"
    }
   ],
   "source": [
    "np.unique(predicted)"
   ]
  },
  {
   "cell_type": "code",
   "execution_count": 89,
   "metadata": {},
   "outputs": [
    {
     "name": "stdout",
     "output_type": "stream",
     "text": [
      "Erreur: 0.073667\n"
     ]
    }
   ],
   "source": [
    "error = 1 - knn.score(X_test, y_test)\n",
    "print('Erreur: %f' % error)"
   ]
  },
  {
   "cell_type": "markdown",
   "metadata": {},
   "source": [
    "Validation curve pour évaluer le meilleur modèle"
   ]
  },
  {
   "cell_type": "code",
   "execution_count": 90,
   "metadata": {},
   "outputs": [],
   "source": [
    "from sklearn.model_selection import validation_curve"
   ]
  },
  {
   "cell_type": "code",
   "execution_count": 91,
   "metadata": {},
   "outputs": [],
   "source": [
    "# Setting the range for the parameter (from 1 to 7)\n",
    "parameter_range = np.arange(1, 10, 1) \n",
    "# Calculate accuracy on training and test set using the\n",
    "# gamma parameter with 5-fold cross validation\n",
    "train_score, test_score = validation_curve(KNeighborsClassifier(),\n",
    "                                           X_train,\n",
    "                                           y_train,\n",
    "                                           param_name=\"n_neighbors\",\n",
    "                                           param_range=parameter_range,\n",
    "                                           cv=5, scoring=\"accuracy\")"
   ]
  },
  {
   "cell_type": "code",
   "execution_count": 92,
   "metadata": {},
   "outputs": [],
   "source": [
    "# Calculating mean and standard deviation of training score\n",
    "mean_train_score = np.mean(train_score, axis=1)\n",
    "std_train_score = np.std(train_score, axis=1) \n",
    "# Calculating mean and standard deviation of testing score\n",
    "mean_test_score = np.mean(test_score, axis=1)\n",
    "std_test_score = np.std(test_score, axis=1)"
   ]
  },
  {
   "cell_type": "code",
   "execution_count": 93,
   "metadata": {
    "scrolled": false
   },
   "outputs": [
    {
     "data": {
      "image/png": "[encoded data removed]",
      "text/plain": [
       "<Figure size 576x396 with 1 Axes>"
      ]
     },
     "metadata": {},
     "output_type": "display_data"
    }
   ],
   "source": [
    "# Plot mean accuracy scores for training and testing scores\n",
    "plt.style.use('dark_background')\n",
    "plt.plot(parameter_range, mean_train_score,\n",
    "         label=\"Training Score\",\n",
    "         linewidth=3,\n",
    "         color='blue')\n",
    "plt.plot(parameter_range, mean_test_score,\n",
    "         label=\"Cross Validation Score\",\n",
    "         linewidth=3,\n",
    "         color='green')\n",
    "\n",
    "# Creating the plot\n",
    "plt.title(\"Validation Curve with KNN Classifier\")\n",
    "plt.xlabel(\"Number of Neighbours\")\n",
    "plt.ylabel(\"Accuracy\")\n",
    "\n",
    "plt.tight_layout()\n",
    "plt.legend(loc='best')\n",
    "plt.show()"
   ]
  },
  {
   "cell_type": "markdown",
   "metadata": {},
   "source": [
    "La modèle est idéal pour 4 voisins"
   ]
  }
 ],
 "metadata": {
  "hide_input": false,
  "kernelspec": {
   "display_name": "Python 3",
   "language": "python",
   "name": "python3"
  },
  "language_info": {
   "codemirror_mode": {
    "name": "ipython",
    "version": 3
   },
   "file_extension": ".py",
   "mimetype": "text/x-python",
   "name": "python",
   "nbconvert_exporter": "python",
   "pygments_lexer": "ipython3",
   "version": "3.8.5"
  },
  "toc": {
   "base_numbering": 1,
   "nav_menu": {},
   "number_sections": true,
   "sideBar": true,
   "skip_h1_title": true,
   "title_cell": "Table of Contents",
   "title_sidebar": "Contents",
   "toc_cell": true,
   "toc_position": {
    "height": "calc(100% - 180px)",
    "left": "10px",
    "top": "150px",
    "width": "393.4px"
   },
   "toc_section_display": true,
   "toc_window_display": true
  }
 },
 "nbformat": 4,
 "nbformat_minor": 4
}
